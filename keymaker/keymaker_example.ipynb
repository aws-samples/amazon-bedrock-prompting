{
 "cells": [
  {
   "cell_type": "code",
   "execution_count": 1,
   "id": "8040e460",
   "metadata": {},
   "outputs": [],
   "source": [
    "import keymaker"
   ]
  },
  {
   "cell_type": "code",
   "execution_count": 2,
   "id": "8ae7c821",
   "metadata": {},
   "outputs": [
    {
     "name": "stdout",
     "output_type": "stream",
     "text": [
      "keymaker v1 - Prompt translation across LLMs made easy\n",
      "Commands: help, show_templates, translate\n",
      "\n",
      "show_templates:\n",
      "To check available templates just run: show_templates()\n",
      "\n",
      "translate:\n",
      "You must provide:\n",
      "1. A user input (mandatory)\n",
      "2. At least one valid model (mandatory)\n",
      "3. A context (optional).\n",
      "Syntax: translate(user_input_text, models_list, context_text)\n",
      "\n"
     ]
    }
   ],
   "source": [
    "keymaker.help()"
   ]
  },
  {
   "cell_type": "code",
   "execution_count": 3,
   "id": "ac5b622e",
   "metadata": {},
   "outputs": [
    {
     "data": {
      "text/plain": [
       "['anthropic.claude-v2/qa', 'tii.falcon-7b-instruct/qa']"
      ]
     },
     "execution_count": 3,
     "metadata": {},
     "output_type": "execute_result"
    }
   ],
   "source": [
    "keymaker.show_templates()"
   ]
  },
  {
   "cell_type": "code",
   "execution_count": 4,
   "id": "c44d6f85",
   "metadata": {},
   "outputs": [],
   "source": [
    "prompts = keymaker.translate(\n",
    "    user_input = 'What is the tallest building in the world?',\n",
    "    models = ['anthropic.claude-v2', 'tii.falcon-7b-instruct'],\n",
    "    task = 'qa'\n",
    ")"
   ]
  },
  {
   "cell_type": "code",
   "execution_count": 5,
   "id": "6bf5463f",
   "metadata": {},
   "outputs": [
    {
     "name": "stdout",
     "output_type": "stream",
     "text": [
      "Human: Consider the context in the <context></context> XML tags below to answer the question as truthfully as possible.\n",
      "If you don't know the answer, just say \"I don't know\".\n",
      "\n",
      "<context>\n",
      "\n",
      "</context>\n",
      "\n",
      "Question: What is the tallest building in the world?\n",
      "\n",
      "Assistant:\n"
     ]
    }
   ],
   "source": [
    "print(prompts[0])"
   ]
  },
  {
   "cell_type": "code",
   "execution_count": 6,
   "id": "2b731e6f",
   "metadata": {},
   "outputs": [
    {
     "name": "stdout",
     "output_type": "stream",
     "text": [
      "Answer the question below as truthfully as possible considering the provided context.\n",
      "If you don't know the answer, just say \"I don't know\"\n",
      "\n",
      "Context:\n",
      "\n",
      "\n",
      "What is the tallest building in the world?\n"
     ]
    }
   ],
   "source": [
    "print(prompts[1])"
   ]
  },
  {
   "cell_type": "code",
   "execution_count": null,
   "id": "f633c148",
   "metadata": {},
   "outputs": [],
   "source": []
  }
 ],
 "metadata": {
  "kernelspec": {
   "display_name": "Python 3 (ipykernel)",
   "language": "python",
   "name": "python3"
  },
  "language_info": {
   "codemirror_mode": {
    "name": "ipython",
    "version": 3
   },
   "file_extension": ".py",
   "mimetype": "text/x-python",
   "name": "python",
   "nbconvert_exporter": "python",
   "pygments_lexer": "ipython3",
   "version": "3.9.5"
  }
 },
 "nbformat": 4,
 "nbformat_minor": 5
}
