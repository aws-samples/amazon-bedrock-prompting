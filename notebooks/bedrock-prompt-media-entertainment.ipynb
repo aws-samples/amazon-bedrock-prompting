{
 "cells": [
  {
   "cell_type": "markdown",
   "id": "a15f81e3-0976-4ff7-8ae1-ddb5fbdf1d94",
   "metadata": {
    "tags": []
   },
   "source": [
    "# Bedrock Prompt Examples for Media & Entertainment\n",
    "\n",
    "In this notebook, we include different example use cases for Media & Entertainment using Amazon Bedrock.\n",
    "\n",
    "These sample use cases involve different tasks and prompt engeering techniques, as follows:\n",
    "1. **Generate recommendations based on metadata**\n",
    "    - **Task:** Text Generation\n",
    "    - **Prompt Technique:** Zero-shot\n",
    "2. **Estimate audience for TV shows based on historical data**\n",
    "    - **Task:** Complex Reasoning\n",
    "    - **Prompt Technique:** Chain-of-Thoughts (CoT)\n",
    "3. **Create a question answering assistant for an entertainment company**\n",
    "    - **Task:** Question Answering with Dialogue Asistant (without memory)\n",
    "    - **Prompt Technique:** Few-shot\n",
    "4. **Summarize and classify content from media files transcription**\n",
    "    - **Task:** Text Summarization & Text Classification\n",
    "    - **Prompt Technique:** Zero-shot\n",
    "5. **Create splash pages describing upcoming events**\n",
    "    - **Task:** Code Generation\n",
    "    - **Prompt Technique:** Zero-shot"
   ]
  },
  {
   "cell_type": "markdown",
   "id": "045d5cb2-3c3a-4091-a11f-1df62d9e0d1d",
   "metadata": {},
   "source": [
    "This notebook uses Amazon Bedrock, make sure you have access to the service and have the dependencies installed if required. You can check details for this in the [Amazon Bedrock Workshop](https://github.com/aws-samples/amazon-bedrock-workshop/blob/main/00_Intro/bedrock_boto3_setup.ipynb)."
   ]
  },
  {
   "cell_type": "markdown",
   "id": "2a3767a6-e9bb-4de4-a325-9d346b082402",
   "metadata": {},
   "source": [
    "First, let's setup the Bedrock client."
   ]
  },
  {
   "cell_type": "code",
   "execution_count": 1,
   "id": "c7f5276f",
   "metadata": {},
   "outputs": [
    {
     "name": "stdout",
     "output_type": "stream",
     "text": [
      "Create new client\n",
      "  Using region: us-east-1\n",
      "  Using role: arn:aws:iam::114798159153:role/BedrockRemote ... successful!\n",
      "boto3 Bedrock client successfully created!\n",
      "bedrock(https://bedrock.us-east-1.amazonaws.com)\n"
     ]
    }
   ],
   "source": [
    "import sys, os\n",
    "\n",
    "module_path = \"..\"\n",
    "sys.path.append(os.path.abspath(module_path))\n",
    "from utils import bedrock_utils\n",
    "\n",
    "# ---- ⚠️ Un-comment and edit the below lines as needed for your AWS setup ⚠️ ----\n",
    "\n",
    "os.environ[\"AWS_DEFAULT_REGION\"] = \"us-east-1\"  # E.g. \"us-east-1\"\n",
    "# os.environ[\"AWS_PROFILE\"] = \"<YOUR_PROFILE>\"\n",
    "os.environ[\"BEDROCK_ASSUME_ROLE\"] = \"arn:aws:iam::114798159153:role/BedrockRemote\"  # E.g. \"arn:aws:...\"\n",
    "# os.environ[\"BEDROCK_ENDPOINT_URL\"] = \"<YOUR_ENDPOINT_URL>\"  # E.g. \"https://...\"\n",
    "\n",
    "bedrock = bedrock_utils.get_bedrock(\n",
    "    assumed_role=os.environ.get(\"BEDROCK_ASSUME_ROLE\", None),\n",
    "    endpoint_url=os.environ.get(\"BEDROCK_ENDPOINT_URL\", None),\n",
    "    region=os.environ.get(\"AWS_DEFAULT_REGION\", None),\n",
    ")"
   ]
  },
  {
   "cell_type": "code",
   "execution_count": 2,
   "id": "c40eb59b",
   "metadata": {
    "scrolled": true
   },
   "outputs": [
    {
     "data": {
      "text/plain": [
       "{'ResponseMetadata': {'RequestId': '873423df-06d2-41e8-ae15-2432b1fa2848',\n",
       "  'HTTPStatusCode': 200,\n",
       "  'HTTPHeaders': {'date': 'Fri, 11 Aug 2023 14:43:17 GMT',\n",
       "   'content-type': 'application/json',\n",
       "   'content-length': '1166',\n",
       "   'connection': 'keep-alive',\n",
       "   'x-amzn-requestid': '873423df-06d2-41e8-ae15-2432b1fa2848'},\n",
       "  'RetryAttempts': 0},\n",
       " 'modelSummaries': [{'modelArn': 'arn:aws:bedrock:us-east-1::foundation-model/amazon.titan-tg1-large',\n",
       "   'modelId': 'amazon.titan-tg1-large'},\n",
       "  {'modelArn': 'arn:aws:bedrock:us-east-1::foundation-model/amazon.titan-e1t-medium',\n",
       "   'modelId': 'amazon.titan-e1t-medium'},\n",
       "  {'modelArn': 'arn:aws:bedrock:us-east-1::foundation-model/stability.stable-diffusion-xl',\n",
       "   'modelId': 'stability.stable-diffusion-xl'},\n",
       "  {'modelArn': 'arn:aws:bedrock:us-east-1::foundation-model/ai21.j2-grande-instruct',\n",
       "   'modelId': 'ai21.j2-grande-instruct'},\n",
       "  {'modelArn': 'arn:aws:bedrock:us-east-1::foundation-model/ai21.j2-jumbo-instruct',\n",
       "   'modelId': 'ai21.j2-jumbo-instruct'},\n",
       "  {'modelArn': 'arn:aws:bedrock:us-east-1::foundation-model/ai21.j2-mid',\n",
       "   'modelId': 'ai21.j2-mid'},\n",
       "  {'modelArn': 'arn:aws:bedrock:us-east-1::foundation-model/ai21.j2-ultra',\n",
       "   'modelId': 'ai21.j2-ultra'},\n",
       "  {'modelArn': 'arn:aws:bedrock:us-east-1::foundation-model/anthropic.claude-instant-v1',\n",
       "   'modelId': 'anthropic.claude-instant-v1'},\n",
       "  {'modelArn': 'arn:aws:bedrock:us-east-1::foundation-model/anthropic.claude-v1',\n",
       "   'modelId': 'anthropic.claude-v1'},\n",
       "  {'modelArn': 'arn:aws:bedrock:us-east-1::foundation-model/anthropic.claude-v2',\n",
       "   'modelId': 'anthropic.claude-v2'}]}"
      ]
     },
     "execution_count": 2,
     "metadata": {},
     "output_type": "execute_result"
    }
   ],
   "source": [
    "bedrock.list_foundation_models()"
   ]
  },
  {
   "cell_type": "markdown",
   "id": "2c728ac1",
   "metadata": {},
   "source": [
    "**Note:** We'll use a utility function 'call_bedrock' for invoking Bedrock with the proper parameters.\n",
    "\n",
    "It accepts the following arguments:\n",
    "* Bedrock client (leave as 'bedrock' in this notebook)\n",
    "* Prompt\n",
    "* ModelId (if not specified, defaults to Claude v2)\n",
    "* Temperature (if not specified, defaults to 0)\n",
    "* Top P (if not specified, defaults to 0.9)\n",
    "\n",
    "You can adjust any other parameters by modifying the function [here](./utils/bedrock_utils.py)"
   ]
  },
  {
   "cell_type": "markdown",
   "id": "03ad9ab5-e0ef-4741-b305-36053150e2c5",
   "metadata": {
    "tags": []
   },
   "source": [
    "## 1. Generate recommendations based on metadata\n",
    "\n",
    "**Use Case:** A media & entertainment company wants to generate recommendations of TV shows for their audience based on some metadata of viewers, e.g. country, age-range, and theme.\n",
    "\n",
    "**Task:** Text Generation\n",
    "\n",
    "**Prompt Technique:** Zero-shot"
   ]
  },
  {
   "cell_type": "code",
   "execution_count": 3,
   "id": "382d9a5e-bb64-4af1-95dc-56f8a6ff3990",
   "metadata": {
    "tags": []
   },
   "outputs": [],
   "source": [
    "prompt_data =\"\"\"\n",
    "Human:\n",
    "Generate a list of 10 recommended TV shows to watch considering the information in the <metadata></metadata> XML tags, and include a very brief description of each recommendation.\n",
    "\n",
    "<metadata>\n",
    "Country is UK\n",
    "Age range between 20-30\n",
    "Shows must be about sports\n",
    "</metadata>\n",
    "\n",
    "Assistant:\n",
    "\"\"\""
   ]
  },
  {
   "cell_type": "code",
   "execution_count": 4,
   "id": "7e14520a-990d-46b0-a660-3ea1b5a0f75d",
   "metadata": {
    "scrolled": true,
    "tags": []
   },
   "outputs": [
    {
     "name": "stdout",
     "output_type": "stream",
     "text": [
      " Here are 10 recommended TV shows to watch based on the provided metadata:\n",
      "\n",
      "1. Match of the Day (BBC) - Longest running football highlights show in the UK covering the Premier League.\n",
      "\n",
      "2. A League of Their Own (Sky) - Comedy sports quiz show with celebrity guests and sketches. \n",
      "\n",
      "3. Formula 1 (Sky) - Coverage of every Formula 1 Grand Prix race.\n",
      "\n",
      "4. NFL (Sky/BBC) - Live coverage of American football games from the NFL. \n",
      "\n",
      "5. Cricket (Sky) - Live coverage of cricket matches and tournaments.\n",
      "\n",
      "6. Rugby Union (BBC/ITV) - Coverage of rugby union matches, Six Nations tournament. \n",
      "\n",
      "7. Darts (Sky) - Live coverage of professional darts tournaments.\n",
      "\n",
      "8. Golf (Sky) - Live golf tournaments coverage including the majors.\n",
      "\n",
      "9. NBA (Sky/BBC) - Basketball games from the NBA shown live or highlights.\n",
      "\n",
      "10. Rugby League (Sky/BBC) - Rugby league matches from Super League and internationals. \n",
      "\n",
      " Inference time: 0:00:09.324579\n"
     ]
    }
   ],
   "source": [
    "response, latency = bedrock_utils.call_bedrock(bedrock, prompt_data)\n",
    "print(response, \"\\n\\n\", \"Inference time:\", latency)"
   ]
  },
  {
   "cell_type": "markdown",
   "id": "7847647f-94e4-4a47-9cd2-2609af023546",
   "metadata": {},
   "source": [
    "------"
   ]
  },
  {
   "cell_type": "markdown",
   "id": "fde01ec0-52c2-471e-aaf4-b4803085f162",
   "metadata": {
    "tags": []
   },
   "source": [
    "## 2. Estimate audience for TV shows based on historical data\n",
    "\n",
    "**Use Case:** A media & entertainment company wants to estimate the audience levels they could have for the next day based on historical information and shows metadata.\n",
    "\n",
    "**Task:** Complex Reasoning\n",
    "\n",
    "**Prompt Technique:** Chain-of-Thoughts (CoT)"
   ]
  },
  {
   "cell_type": "code",
   "execution_count": 12,
   "id": "5f8993b8-2772-4c33-b17b-7fbddb9b7e24",
   "metadata": {
    "tags": []
   },
   "outputs": [],
   "source": [
    "prompt_data =\"\"\"\n",
    "Human: Last week, the viewers of 3 television networks were with the following data:\n",
    "- Monday: SportsTV 6500, NewsTV 3200, EntertainmentTV 4150\n",
    "- Tuesday: SportsTV 6400, NewsTV 3300, EntertainmentTV 4100\n",
    "- Wednesday: SportsTV 6300, NewsTV 3400, EntertainmentTV 4250\n",
    "\n",
    "Question: How many viewers can we expect next Friday on SportsTV?\n",
    "Answer: According to the numbers given and without having more information, there is a daily decrease of 100 viewers for SportsTV.\n",
    "If we assume that this trend will continue for the next few days, we can expect 6200 viewers for the next day which is Thursday, and\n",
    "therefore 6100 viewers for Friday.\n",
    "\n",
    "Question: How many viewers can we expect on Saturday in each of the channels? think step-by-step, and provide recommendations for increasing the viewers\n",
    "Assistant:\n",
    "Answer:\n",
    "\"\"\""
   ]
  },
  {
   "cell_type": "code",
   "execution_count": 13,
   "id": "732984e8-2c6d-4b45-9b77-90e856c2b10e",
   "metadata": {
    "scrolled": true,
    "tags": []
   },
   "outputs": [
    {
     "name": "stdout",
     "output_type": "stream",
     "text": [
      "Step 1) Identify the trend for each channel:\n",
      "- SportsTV: Decreasing by 100 viewers each day\n",
      "- NewsTV: Increasing by 100 viewers each day  \n",
      "- EntertainmentTV: Increasing by 50 viewers each day\n",
      "\n",
      "Step 2) Extrapolate the trends to Saturday:\n",
      "- SportsTV: 6100 on Friday - 100 = 6000 viewers on Saturday\n",
      "- NewsTV: 3400 on Wednesday + 200 (2 days of increase) = 3600 viewers on Saturday  \n",
      "- EntertainmentTV: 4250 on Wednesday + 100 (2 days of increase) = 4350 viewers on Saturday\n",
      "\n",
      "Step 3) Recommendations to increase viewers:\n",
      "\n",
      "For SportsTV:\n",
      "- Add new and exciting sporting events or personalities to attract more viewers\n",
      "- Promote upcoming matches/games on social media to generate buzz \n",
      "\n",
      "For NewsTV: \n",
      "- Increase coverage of breaking news and live events to boost real-time viewership\n",
      "- Analyze data to identify topics of high interest and produce more content around those\n",
      "\n",
      "For EntertainmentTV:\n",
      "- Partner with popular celebrities or shows to attract their fanbase\n",
      "- Optimize programming schedule to retain viewers across entire day/evening\n",
      "- Promote new shows early across social media and via advertisements on other channels\n",
      "\n",
      "Overall, leverage data analytics, social media engagement and strategic partnerships to gain more viewers. Promotions and optimizing programming to align with viewer preferences can also help increase viewership. \n",
      "\n",
      " Inference time: 0:00:14.130555\n"
     ]
    }
   ],
   "source": [
    "response, latency = bedrock_utils.call_bedrock(bedrock, prompt_data)\n",
    "print(response, \"\\n\\n\", \"Inference time:\", latency)"
   ]
  },
  {
   "cell_type": "markdown",
   "id": "6253149f-ae27-42d0-a36c-bd07fc22264c",
   "metadata": {},
   "source": [
    "------"
   ]
  },
  {
   "cell_type": "markdown",
   "id": "93f45c25-cb45-4d9d-8cb1-29b3547483b3",
   "metadata": {},
   "source": [
    "## 3. Create a question answering assistant for an entertainment company\n",
    "\n",
    "**Use Case:** An entertainment company wants to create a bot capable of answering questions about the shows available, based on the information for these shows.\n",
    "\n",
    "**Task:** Question Answering with Dialogue Asistant (no memory)\n",
    "\n",
    "**Prompt Technique:** Few-shot"
   ]
  },
  {
   "cell_type": "code",
   "execution_count": 14,
   "id": "3b5cc7e9-876e-4d77-99cd-099439033148",
   "metadata": {
    "tags": []
   },
   "outputs": [],
   "source": [
    "prompt_data =\"\"\"\n",
    "Context: The shows available are as follows\n",
    "1. Circus, showing at the Plaza venue, assigned seating, live at 8pm on weekends\n",
    "2. Concert, showing at the Main Teather, assigned seating, live at 10pm everyday\n",
    "3. Basketball tricks, showing at the Sports venue, standing seating, live at 5pm on weekdays\n",
    "\n",
    "Instruction: Answer any questions about the shows available. If you don't know the answer just say 'Apologies, but I don't have the answer for that. Please contact our team by phone.'\n",
    "\n",
    "Assistant: Welcome to Entertainment Tonight, how can I help you?\n",
    "Human: Hi, I would like to know what are the shows available please.\n",
    "Assistant: Of course, right now we have the Circus, the Concert, and the Basketball tricks shows.\n",
    "Human: Thank you. I would like to know when and where are those available please.\n",
    "Assistant:\n",
    "\"\"\""
   ]
  },
  {
   "cell_type": "code",
   "execution_count": 15,
   "id": "ceae8a78-c7d2-470d-82da-8f08677cb469",
   "metadata": {
    "scrolled": true,
    "tags": []
   },
   "outputs": [
    {
     "name": "stdout",
     "output_type": "stream",
     "text": [
      " Here are the details on each of the shows we currently have:\n",
      "\n",
      "Circus - This show is at the Plaza venue with assigned seating. It runs live at 8pm on weekends.\n",
      "\n",
      "Concert - This show is at the Main Theater, also with assigned seating. It runs live every night at 10pm. \n",
      "\n",
      "Basketball Tricks - This show is at the Sports venue with standing room only seating. It runs live on weekdays at 5pm.\n",
      "\n",
      "Let me know if you need any additional details on the shows or venues! I'd be happy to provide more information. \n",
      "\n",
      " Inference time: 0:00:03.472495\n"
     ]
    }
   ],
   "source": [
    "response, latency = bedrock_utils.call_bedrock(bedrock, prompt_data)\n",
    "print(response, \"\\n\\n\", \"Inference time:\", latency)"
   ]
  },
  {
   "cell_type": "markdown",
   "id": "130aa69b-0ec0-4837-a019-fb16fca9fb0e",
   "metadata": {},
   "source": [
    "------"
   ]
  },
  {
   "cell_type": "markdown",
   "id": "2b80a21f-7987-40d0-b923-193c72367f7f",
   "metadata": {
    "tags": []
   },
   "source": [
    "## 4. Generate content summary based on transcriptions from media files\n",
    "\n",
    "**Use Case:** A media company needs to generate summaries of the audio transcription for audio and video files, to be sent to their content team. They also want to classify this content according to specific categories.\n",
    "\n",
    "**Task:** Text Summarization & Text Classification\n",
    "\n",
    "**Prompt Technique:** Zero-shot"
   ]
  },
  {
   "cell_type": "markdown",
   "id": "e374d510-d20d-4820-96d6-156977876859",
   "metadata": {},
   "source": [
    "#### (Pre-requisite)\n",
    "\n",
    "First, we will need to transcribe the media files. You can e.g. use Amazon Transcribe for this task following examples like this: https://docs.aws.amazon.com/code-library/latest/ug/transcribe_example_transcribe_StartTranscriptionJob_section.html\n",
    "\n",
    "For our sample we will start from an interview transcription in the file \"interview.txt\"."
   ]
  },
  {
   "cell_type": "code",
   "execution_count": 16,
   "id": "edaa1e2c-6de3-4b24-805f-2090fd7909b2",
   "metadata": {
    "scrolled": true,
    "tags": []
   },
   "outputs": [
    {
     "name": "stdout",
     "output_type": "stream",
     "text": [
      "Presenter: (00:00)\n",
      "Thank you for doing This Christmas Will Be Different. I appreciate you doing that. We hung out all day together.\n",
      "\n",
      "Actor Smith: (00:04)\n",
      "How fun was that?\n",
      "\n",
      "Presenter: (00:05)\n",
      "It was the greatest. We always…\n",
      "\n",
      "Actor Smith: (00:07)\n",
      "Two take maximum. Two take maximum.\n",
      "\n",
      "Presenter: (00:09)\n",
      "We nailed it, we have some good takes. That was so much fun. Happy holidays to you and your family. I’m happy to see you in person. Thanks for making the trip and being here.\n",
      "\n",
      "Actor Smith: (00:18)\n",
      "Absolutely.\n",
      "\n",
      "Presenter: (00:19)\n",
      "Do you have like family traditions? Do you have holiday plans? What do you have coming up?\n",
      "\n",
      "Actor Smith: (00:24)\n",
      "This year, we’re going to get all the Smith family. We’re also getting Camila’s family. So when we do that and we have that multicultural Christmas, Christmas lasts a long time at our place because they celebrate on the 24th. Midnight you exchange presents. All right. So you have the big sit down dinner, you get the china out for the first time all year. If it was up to my family, it’d be paper plates. Thank you, Camila for getting the china out and having a better ritual.\n",
      "\n",
      "Presenter: (00:50)\n",
      "No, we are using China.\n",
      "\n",
      "Actor Smith: (00:51)\n",
      "Yes.\n",
      "\n",
      "Presenter: (00:52)\n",
      "Thank you, Camila.\n",
      "\n",
      "Actor Smith: (00:53)\n",
      "We do that that night. And then we get up the next day and we do our Christmas, which is everyone opens present. Santa came. The problem, the reason I say it’s longer already is that my mother who’s 90 still demands that everyone open their present and everyone watch one person open their present at the time.\n",
      "\n",
      "Presenter: (01:09)\n",
      "Yeah. Yeah.\n",
      "\n",
      "Actor Smith: (01:10)\n",
      "You’ve got a big Brazilian family, you’ve got a big Smith family, there’s a family of 20. There’s a lot of presents, thankfully. It may be dark on the 25th when we’re done opening presents from that morning. And so seven o’clock PM and you just finished opening presents from Christmas morning. So the nights get long.\n",
      "\n",
      "Presenter: (01:26)\n",
      "My grandma used to do this thing where we would unwrap the presents. She goes, can you just not rip it just so I can reuse the wrapping.\n",
      "\n",
      "Actor Smith: (01:32)\n",
      "Save the wrapping.\n",
      "\n",
      "Presenter: (01:33)\n",
      "Save the wrap for the next year. I go, yes, okay, grandma.\n",
      "\n",
      "Actor Smith: (01:36)\n",
      "It’s 3:00 PM.\n",
      "\n",
      "Presenter: (01:36)\n",
      "Let’s go. Let’s open up the thing. Yeah. It’s so fun. I look forward to it. Are you a guy that makes New Year’s resolutions?\n",
      "\n",
      "Actor Smith: (01:43)\n",
      "Yeah. I check in on myself.\n",
      "\n",
      "Presenter: (01:46)\n",
      "You check in on yourself.\n",
      "\n",
      "Actor Smith: (01:49)\n",
      "I asked myself to work on my patience last year on New Year’s Eve.\n",
      "\n",
      "Presenter: (01:55)\n",
      "We all need to do that.\n",
      "\n",
      "Actor Smith: (01:57)\n",
      "And now thank you for reminding me, I guess tonight, I’ll start thinking about how I’ve done the last 11 months.\n",
      "\n",
      "Presenter: (02:01)\n",
      "Exactly right. Well, I think last time we talked, I mean, congratulations, your book, Green Lights, was on the New York Times’ bestseller list 50, 5-0, 50 weeks. It sold like two and a half million copies. It is a giant, giant hit. But congratulations. I loved it.\n",
      "\n",
      "Actor Smith: (02:18)\n",
      "Thank you.\n",
      "\n",
      "Presenter: (02:19)\n",
      "Did you realize it would take off like that? I mean so many people.\n",
      "\n",
      "Actor Smith: (02:22)\n",
      "I had no idea.\n",
      "\n",
      "Presenter: (02:23)\n",
      "It’s massive.\n",
      "\n",
      "Actor Smith: (02:24)\n",
      "It hit a nerve. Thank you everyone out there who had a read of it.\n",
      "\n",
      "Presenter: (02:29)\n",
      "It was so honest and it was so… I loved it. I told you as soon as I read it, I couldn’t stop reading it. I go, oh, it’s so personal, but it’s so also universal.\n",
      "\n",
      "Actor Smith: (02:39)\n",
      "Yep. I think that’s what people got from it. People said, hey, I see myself and you, I see my stories in your stories. And it kind of lays out a map of process. It’s a process book. It’s not a product book. It’s a approach to life with this rodeo we’re all trying to get through and trying to get our eight seconds on. How can we do our best to get it?\n",
      "\n",
      "Presenter: (02:59)\n",
      "You’re coming out with a journal now, a companion journal to help people. Because I think you were saying in the book too, it’s tough when you write to just tell someone, hey, just write something down every day or every night.\n",
      "\n",
      "Actor Smith: (03:12)\n",
      "A blank sheet of paper intimidates the heck out of us. Right?\n",
      "\n",
      "Presenter: (03:15)\n",
      "It does.\n",
      "\n",
      "Actor Smith: (03:15)\n",
      "But journaling or writing things down I’ve done it all my life and it’s how I wrote Green Lights the book. Immensely valuable. I mean, I write things down to forget. If you write them down, you can forget them because they’re in there. Don’t just go to the diary or the journal to write down when you’re frustrated and confused. Go to the journal to write down what you’re doing in life when you’re rolling, when you’re catching green lights, when you’re in the flow, because we will get out of flow again. And it’s nice to have a document to go back and go, hoo, what was I doing when I was cruising?\n",
      "\n",
      "Presenter: (03:44)\n",
      "Yeah. When life was perfect there in that moment.\n",
      "\n",
      "Actor Smith: (03:46)\n",
      "You see habits and you can change and recalibrate. But yeah, it’s a journal. I got little nudges along the way that kind of help you and ask you some questions to write your story. The book Green Lights was my story. This is for your story.\n",
      "\n",
      "Presenter: (03:57)\n",
      "Ah, I love that buddy. That’s awesome. Congrats on that.\n",
      "\n",
      "Actor Smith: (04:02)\n",
      "Thank you.\n",
      "\n",
      "Presenter: (04:03)\n",
      "We also, you were nice enough to Zoom into us when we couldn’t get any guests anywhere. No one was allowed to travel or do anything, but there was talk of you maybe running for governor of Texas and you recently decided to not run for governor.\n",
      "\n",
      "Actor Smith: (04:17)\n",
      "Yes.\n",
      "\n",
      "Presenter: (04:17)\n",
      "Can you walk us through that decision?\n",
      "\n",
      "Actor Smith: (04:19)\n",
      "Well, it was a to two year consideration that I came to the decision really over the last couple of months. And I was asking myself the original question and trying to answer it, how and where and what can I do to be most useful to myself, to my family and to the most amount of people. The embassy, the category of politics came up and it’s a privileged one that I gave great consideration to. But at this point in my life are the things I’ve got a 13 year old, 11 year old and an eight year old, the life I’m living right now, the storytelling I want to keep doing, it’s not the category for me at this point in my life.\n",
      "\n",
      "Presenter: (04:51)\n",
      "Still not ruling out future.\n",
      "\n",
      "Actor Smith: (04:53)\n",
      "I’m not until I am.\n",
      "\n",
      "Presenter: (04:55)\n",
      "Okay.\n",
      "\n",
      "Actor Smith: (04:56)\n",
      "Someone told me that was a very Smith answer the other day.\n",
      "\n",
      "Presenter: (04:59)\n",
      "Not until I am. It’s very, yeah.\n",
      "\n",
      "Actor Smith: (05:02)\n",
      "I’ll be keeping an eye open for-\n",
      "\n",
      "Presenter: (05:03)\n",
      "Because I know Texas loves you. And when we did the show from Texas, you were nice enough to come on the show and gosh, you’re beloved down there as well. You think people love you here, standing ovations. They love you there.\n",
      "\n",
      "Actor Smith: (05:15)\n",
      "It’s a great state.\n",
      "\n",
      "Presenter: (05:16)\n",
      "I know you put on a benefit concert. What’s [inaudible 00:05:20] We’re Texas. After that rough, awful, devastating…\n",
      "\n",
      "Actor Smith: (05:25)\n",
      "Winter storm Uru came through. We’re not used to winter storms like that in Texas. Okay. We were a bit awkward. We weren’t prepared. And a lot of people were out of home. A lot of people were out of school. A lot of people needed some help because they didn’t know how to deal with it. And so we, my foundation, which is the Just Keep Livin Foundations, we got together and said, we’re not disaster relief, but want to be disaster relief. We said, let’s go. And I headed to Texas. I got on the phone, Camilla got on the phone. 100% of the people we called, whether it was companies who donated, whether it was musicians who came in, everybody was a yes in the first 30 seconds. We went down to Texas, put the show on. We raised over $7.7 million, which is still being put out to our community.\n",
      "\n",
      "Presenter: (06:05)\n",
      "That’s how you do it right there. You just stepped up. And I go, oh my gosh, what do you know about putting on a live concert? You’re like, nothing.\n",
      "\n",
      "Actor Smith: (06:12)\n",
      "It was like takes today. You get one take, two maximum, but let’s throw it together. Because you have to. Disaster relief, you have to move quickly because if you take your time to say, oh, this has got to be perfect. Something else is taking the front page news. There’s another disaster coming, you know? So you need to jump on it quickly and get everyone together and take advantage of trying to get people to give at that time when it is front page news and they know people need help.\n",
      "\n",
      "Presenter: (06:36)\n",
      "I saw Hollywood Reporter named you philanthropist of the year with all the stuff you do to give back.\n",
      "\n",
      "Actor Smith: (06:41)\n",
      "That was cool.\n",
      "\n",
      "Presenter: (06:44)\n",
      "It’s good to be you, but it’s also great to give back and it’s great. You know what you do? You show up. Every time you always show up for me, but I think for anything. I know you’re a great dad.\n",
      "\n",
      "Actor Smith: (06:56)\n",
      "Thank you. Try to. I think we all try to. I think we learn more and more as we age, we serve ourself when we do serve others. That is a reciprocity little exchange right there. And then also there’s ways to serve ourself and serve others at the same time and where those two meet when we’re filling our bank account and our souls account at the same time, we’re getting the quantity and the quality at the same time. Honey, ho.\n",
      "\n",
      "Presenter: (07:20)\n",
      "That’s what I’m talking about. I want to talk about and show a clip from Sing 2. More with Actor Smith when we come back. Everybody come on back.\n"
     ]
    }
   ],
   "source": [
    "f = open(\"interview.txt\", \"r\").read()\n",
    "print(f)"
   ]
  },
  {
   "cell_type": "code",
   "execution_count": 17,
   "id": "e7e6dea9-7ae5-42ae-8195-b670e36d1482",
   "metadata": {
    "tags": []
   },
   "outputs": [],
   "source": [
    "prompt_data =f\"\"\"\n",
    "Human:\n",
    "Generate a summary of the transcription in the <transcription></transcription> XML tags below.\n",
    "Then, classify the transcription according to the closest category within 'drama', 'comedy', 'talk show', 'news', or 'sports'.\n",
    "\n",
    "<transcription>\n",
    "{f}\n",
    "</transcription>\n",
    "\n",
    "Assistant:\n",
    "\"\"\""
   ]
  },
  {
   "cell_type": "code",
   "execution_count": 18,
   "id": "770b5b1d-d553-4526-8892-ec9f4570f731",
   "metadata": {
    "scrolled": true,
    "tags": []
   },
   "outputs": [
    {
     "name": "stdout",
     "output_type": "stream",
     "text": [
      " Here is a summary of the transcription:\n",
      "\n",
      "The transcription is an interview between a presenter and actor Actor Smith. They discuss Actor Smith's new book and journal, his consideration of running for governor of Texas and decision not to at this time, and his relief concert for Texas after a devastating winter storm. Actor Smith also talks about his family's holiday traditions. The presenter congratulates Actor Smith on the success of his memoir Green Lights, which was on the bestseller list for 50 weeks. They show a clip from Actor Smith's new animated film Sing 2. \n",
      "\n",
      "Based on the content, this appears to be an interview on a talk show. So I would categorize this transcription as a talk show. \n",
      "\n",
      " Inference time: 0:00:08.872937\n"
     ]
    }
   ],
   "source": [
    "response, latency = bedrock_utils.call_bedrock(bedrock, prompt_data)\n",
    "print(response, \"\\n\\n\", \"Inference time:\", latency)"
   ]
  },
  {
   "cell_type": "markdown",
   "id": "9410031e-d47f-485f-b83e-cbdbbb2fa42b",
   "metadata": {},
   "source": [
    "------"
   ]
  },
  {
   "cell_type": "markdown",
   "id": "7d617cee-a8e9-4728-b821-6ebf2c6d51fc",
   "metadata": {},
   "source": [
    "## 5. Create splash pages describing upcoming events\n",
    "\n",
    "**Use Case:** A media and entertainment company wants to create HTML pages quickly and easily, to promote their upcoming events.\n",
    "\n",
    "**Task:** Code Generation\n",
    "\n",
    "**Prompt Technique:** Zero-shot"
   ]
  },
  {
   "cell_type": "code",
   "execution_count": 21,
   "id": "e248a2a2-687b-40c5-aeed-e183bd181b0b",
   "metadata": {
    "tags": []
   },
   "outputs": [],
   "source": [
    "prompt_data =\"\"\"\n",
    "There is an upcoming music concert presented by the company Music Promotions.\n",
    "The event is targeting young audience in the age range between 18 and 40.\n",
    "The event will be done in the Royal Music Teather.\n",
    "There will be seat assignment and tickets can be bought trought the Music Promotions website.\n",
    "The event is a concert of the band called Super Rockers.\n",
    "The event is on June 30th 2023 and doors will be open since 20:00.\n",
    "\n",
    "Based the this information, generate the HTML code for an attractive splash page promoting this event.\n",
    "\"\"\""
   ]
  },
  {
   "cell_type": "code",
   "execution_count": 22,
   "id": "e2f4a927-6e7a-49fd-b253-6ee555b17fbe",
   "metadata": {
    "scrolled": true,
    "tags": []
   },
   "outputs": [
    {
     "data": {
      "text/html": [
       "\n",
       "Here is one way to generate the HTML code for a splash page promoting the music concert:\n",
       "\n",
       "```html\n",
       "<!DOCTYPE html>\n",
       "<html>\n",
       "<head>\n",
       "  <title>Super Rockers Concert</title>\n",
       "</head>\n",
       "<body>\n",
       "\n",
       "  <div style=\"background-image: url('concert.jpg'); background-size: cover; height: 500px; display: flex; align-items: center; justify-content: center;\">\n",
       "    <h1 style=\"color: white; text-shadow: 2px 2px 4px #000;\">Super Rockers Concert</h1>\n",
       "  </div>\n",
       "\n",
       "  <div style=\"max-width: 600px; margin: 0 auto; padding: 20px;\">\n",
       "    <h2>Event Details</h2>\n",
       "    <p>Music Promotions presents a concert by the band Super Rockers!</p>\n",
       "\n",
       "    <p>When: June 30, 2023 @ 8:00 PM</p>\n",
       "    <p>Where: Royal Music Theater</p>\n",
       "\n",
       "    <p>This concert targets a young audience ages 18-40. Get your tickets now before they sell out!</p>\n",
       "\n",
       "    <a href=\"https://musicpromotions.com/tickets\" target=\"_blank\" style=\"background-color: #007bff; color: #fff; padding: 12px 20px; border-radius: 4px; text-decoration: none;\">Get Tickets</a>\n",
       "\n",
       "  </div>\n",
       "\n",
       "</body>\n",
       "</html>\n",
       "```\n",
       "\n",
       "The key elements are:\n",
       "\n",
       "- A full background image with the band name to capture attention \n",
       "- Event details like date, time, location \n",
       "- Call-to-action button to purchase tickets\n",
       "- Responsive container for text content\n",
       "- Styling like colors, padding, etc. to make it visually appealing\n",
       "\n",
       "This uses some inline CSS for simplicity but you could also link to an external stylesheet. The goal is an eye-catching and informative splash page that gets users excited about the event and convinces them to buy tickets."
      ],
      "text/plain": [
       "<IPython.core.display.HTML object>"
      ]
     },
     "metadata": {},
     "output_type": "display_data"
    }
   ],
   "source": [
    "response, latency = bedrock_utils.call_bedrock(bedrock, prompt_data)\n",
    "#print(response, \"\\n\\n\", \"Inference time:\", latency)\n",
    "from IPython.display import display, HTML\n",
    "display(HTML(response))"
   ]
  },
  {
   "cell_type": "markdown",
   "id": "29c45ec6-8934-4a2e-a53c-03ffa81ddd31",
   "metadata": {},
   "source": [
    "------"
   ]
  }
 ],
 "metadata": {
  "availableInstances": [
   {
    "_defaultOrder": 0,
    "_isFastLaunch": true,
    "category": "General purpose",
    "gpuNum": 0,
    "hideHardwareSpecs": false,
    "memoryGiB": 4,
    "name": "ml.t3.medium",
    "vcpuNum": 2
   },
   {
    "_defaultOrder": 1,
    "_isFastLaunch": false,
    "category": "General purpose",
    "gpuNum": 0,
    "hideHardwareSpecs": false,
    "memoryGiB": 8,
    "name": "ml.t3.large",
    "vcpuNum": 2
   },
   {
    "_defaultOrder": 2,
    "_isFastLaunch": false,
    "category": "General purpose",
    "gpuNum": 0,
    "hideHardwareSpecs": false,
    "memoryGiB": 16,
    "name": "ml.t3.xlarge",
    "vcpuNum": 4
   },
   {
    "_defaultOrder": 3,
    "_isFastLaunch": false,
    "category": "General purpose",
    "gpuNum": 0,
    "hideHardwareSpecs": false,
    "memoryGiB": 32,
    "name": "ml.t3.2xlarge",
    "vcpuNum": 8
   },
   {
    "_defaultOrder": 4,
    "_isFastLaunch": true,
    "category": "General purpose",
    "gpuNum": 0,
    "hideHardwareSpecs": false,
    "memoryGiB": 8,
    "name": "ml.m5.large",
    "vcpuNum": 2
   },
   {
    "_defaultOrder": 5,
    "_isFastLaunch": false,
    "category": "General purpose",
    "gpuNum": 0,
    "hideHardwareSpecs": false,
    "memoryGiB": 16,
    "name": "ml.m5.xlarge",
    "vcpuNum": 4
   },
   {
    "_defaultOrder": 6,
    "_isFastLaunch": false,
    "category": "General purpose",
    "gpuNum": 0,
    "hideHardwareSpecs": false,
    "memoryGiB": 32,
    "name": "ml.m5.2xlarge",
    "vcpuNum": 8
   },
   {
    "_defaultOrder": 7,
    "_isFastLaunch": false,
    "category": "General purpose",
    "gpuNum": 0,
    "hideHardwareSpecs": false,
    "memoryGiB": 64,
    "name": "ml.m5.4xlarge",
    "vcpuNum": 16
   },
   {
    "_defaultOrder": 8,
    "_isFastLaunch": false,
    "category": "General purpose",
    "gpuNum": 0,
    "hideHardwareSpecs": false,
    "memoryGiB": 128,
    "name": "ml.m5.8xlarge",
    "vcpuNum": 32
   },
   {
    "_defaultOrder": 9,
    "_isFastLaunch": false,
    "category": "General purpose",
    "gpuNum": 0,
    "hideHardwareSpecs": false,
    "memoryGiB": 192,
    "name": "ml.m5.12xlarge",
    "vcpuNum": 48
   },
   {
    "_defaultOrder": 10,
    "_isFastLaunch": false,
    "category": "General purpose",
    "gpuNum": 0,
    "hideHardwareSpecs": false,
    "memoryGiB": 256,
    "name": "ml.m5.16xlarge",
    "vcpuNum": 64
   },
   {
    "_defaultOrder": 11,
    "_isFastLaunch": false,
    "category": "General purpose",
    "gpuNum": 0,
    "hideHardwareSpecs": false,
    "memoryGiB": 384,
    "name": "ml.m5.24xlarge",
    "vcpuNum": 96
   },
   {
    "_defaultOrder": 12,
    "_isFastLaunch": false,
    "category": "General purpose",
    "gpuNum": 0,
    "hideHardwareSpecs": false,
    "memoryGiB": 8,
    "name": "ml.m5d.large",
    "vcpuNum": 2
   },
   {
    "_defaultOrder": 13,
    "_isFastLaunch": false,
    "category": "General purpose",
    "gpuNum": 0,
    "hideHardwareSpecs": false,
    "memoryGiB": 16,
    "name": "ml.m5d.xlarge",
    "vcpuNum": 4
   },
   {
    "_defaultOrder": 14,
    "_isFastLaunch": false,
    "category": "General purpose",
    "gpuNum": 0,
    "hideHardwareSpecs": false,
    "memoryGiB": 32,
    "name": "ml.m5d.2xlarge",
    "vcpuNum": 8
   },
   {
    "_defaultOrder": 15,
    "_isFastLaunch": false,
    "category": "General purpose",
    "gpuNum": 0,
    "hideHardwareSpecs": false,
    "memoryGiB": 64,
    "name": "ml.m5d.4xlarge",
    "vcpuNum": 16
   },
   {
    "_defaultOrder": 16,
    "_isFastLaunch": false,
    "category": "General purpose",
    "gpuNum": 0,
    "hideHardwareSpecs": false,
    "memoryGiB": 128,
    "name": "ml.m5d.8xlarge",
    "vcpuNum": 32
   },
   {
    "_defaultOrder": 17,
    "_isFastLaunch": false,
    "category": "General purpose",
    "gpuNum": 0,
    "hideHardwareSpecs": false,
    "memoryGiB": 192,
    "name": "ml.m5d.12xlarge",
    "vcpuNum": 48
   },
   {
    "_defaultOrder": 18,
    "_isFastLaunch": false,
    "category": "General purpose",
    "gpuNum": 0,
    "hideHardwareSpecs": false,
    "memoryGiB": 256,
    "name": "ml.m5d.16xlarge",
    "vcpuNum": 64
   },
   {
    "_defaultOrder": 19,
    "_isFastLaunch": false,
    "category": "General purpose",
    "gpuNum": 0,
    "hideHardwareSpecs": false,
    "memoryGiB": 384,
    "name": "ml.m5d.24xlarge",
    "vcpuNum": 96
   },
   {
    "_defaultOrder": 20,
    "_isFastLaunch": false,
    "category": "General purpose",
    "gpuNum": 0,
    "hideHardwareSpecs": true,
    "memoryGiB": 0,
    "name": "ml.geospatial.interactive",
    "supportedImageNames": [
     "sagemaker-geospatial-v1-0"
    ],
    "vcpuNum": 0
   },
   {
    "_defaultOrder": 21,
    "_isFastLaunch": true,
    "category": "Compute optimized",
    "gpuNum": 0,
    "hideHardwareSpecs": false,
    "memoryGiB": 4,
    "name": "ml.c5.large",
    "vcpuNum": 2
   },
   {
    "_defaultOrder": 22,
    "_isFastLaunch": false,
    "category": "Compute optimized",
    "gpuNum": 0,
    "hideHardwareSpecs": false,
    "memoryGiB": 8,
    "name": "ml.c5.xlarge",
    "vcpuNum": 4
   },
   {
    "_defaultOrder": 23,
    "_isFastLaunch": false,
    "category": "Compute optimized",
    "gpuNum": 0,
    "hideHardwareSpecs": false,
    "memoryGiB": 16,
    "name": "ml.c5.2xlarge",
    "vcpuNum": 8
   },
   {
    "_defaultOrder": 24,
    "_isFastLaunch": false,
    "category": "Compute optimized",
    "gpuNum": 0,
    "hideHardwareSpecs": false,
    "memoryGiB": 32,
    "name": "ml.c5.4xlarge",
    "vcpuNum": 16
   },
   {
    "_defaultOrder": 25,
    "_isFastLaunch": false,
    "category": "Compute optimized",
    "gpuNum": 0,
    "hideHardwareSpecs": false,
    "memoryGiB": 72,
    "name": "ml.c5.9xlarge",
    "vcpuNum": 36
   },
   {
    "_defaultOrder": 26,
    "_isFastLaunch": false,
    "category": "Compute optimized",
    "gpuNum": 0,
    "hideHardwareSpecs": false,
    "memoryGiB": 96,
    "name": "ml.c5.12xlarge",
    "vcpuNum": 48
   },
   {
    "_defaultOrder": 27,
    "_isFastLaunch": false,
    "category": "Compute optimized",
    "gpuNum": 0,
    "hideHardwareSpecs": false,
    "memoryGiB": 144,
    "name": "ml.c5.18xlarge",
    "vcpuNum": 72
   },
   {
    "_defaultOrder": 28,
    "_isFastLaunch": false,
    "category": "Compute optimized",
    "gpuNum": 0,
    "hideHardwareSpecs": false,
    "memoryGiB": 192,
    "name": "ml.c5.24xlarge",
    "vcpuNum": 96
   },
   {
    "_defaultOrder": 29,
    "_isFastLaunch": true,
    "category": "Accelerated computing",
    "gpuNum": 1,
    "hideHardwareSpecs": false,
    "memoryGiB": 16,
    "name": "ml.g4dn.xlarge",
    "vcpuNum": 4
   },
   {
    "_defaultOrder": 30,
    "_isFastLaunch": false,
    "category": "Accelerated computing",
    "gpuNum": 1,
    "hideHardwareSpecs": false,
    "memoryGiB": 32,
    "name": "ml.g4dn.2xlarge",
    "vcpuNum": 8
   },
   {
    "_defaultOrder": 31,
    "_isFastLaunch": false,
    "category": "Accelerated computing",
    "gpuNum": 1,
    "hideHardwareSpecs": false,
    "memoryGiB": 64,
    "name": "ml.g4dn.4xlarge",
    "vcpuNum": 16
   },
   {
    "_defaultOrder": 32,
    "_isFastLaunch": false,
    "category": "Accelerated computing",
    "gpuNum": 1,
    "hideHardwareSpecs": false,
    "memoryGiB": 128,
    "name": "ml.g4dn.8xlarge",
    "vcpuNum": 32
   },
   {
    "_defaultOrder": 33,
    "_isFastLaunch": false,
    "category": "Accelerated computing",
    "gpuNum": 4,
    "hideHardwareSpecs": false,
    "memoryGiB": 192,
    "name": "ml.g4dn.12xlarge",
    "vcpuNum": 48
   },
   {
    "_defaultOrder": 34,
    "_isFastLaunch": false,
    "category": "Accelerated computing",
    "gpuNum": 1,
    "hideHardwareSpecs": false,
    "memoryGiB": 256,
    "name": "ml.g4dn.16xlarge",
    "vcpuNum": 64
   },
   {
    "_defaultOrder": 35,
    "_isFastLaunch": false,
    "category": "Accelerated computing",
    "gpuNum": 1,
    "hideHardwareSpecs": false,
    "memoryGiB": 61,
    "name": "ml.p3.2xlarge",
    "vcpuNum": 8
   },
   {
    "_defaultOrder": 36,
    "_isFastLaunch": false,
    "category": "Accelerated computing",
    "gpuNum": 4,
    "hideHardwareSpecs": false,
    "memoryGiB": 244,
    "name": "ml.p3.8xlarge",
    "vcpuNum": 32
   },
   {
    "_defaultOrder": 37,
    "_isFastLaunch": false,
    "category": "Accelerated computing",
    "gpuNum": 8,
    "hideHardwareSpecs": false,
    "memoryGiB": 488,
    "name": "ml.p3.16xlarge",
    "vcpuNum": 64
   },
   {
    "_defaultOrder": 38,
    "_isFastLaunch": false,
    "category": "Accelerated computing",
    "gpuNum": 8,
    "hideHardwareSpecs": false,
    "memoryGiB": 768,
    "name": "ml.p3dn.24xlarge",
    "vcpuNum": 96
   },
   {
    "_defaultOrder": 39,
    "_isFastLaunch": false,
    "category": "Memory Optimized",
    "gpuNum": 0,
    "hideHardwareSpecs": false,
    "memoryGiB": 16,
    "name": "ml.r5.large",
    "vcpuNum": 2
   },
   {
    "_defaultOrder": 40,
    "_isFastLaunch": false,
    "category": "Memory Optimized",
    "gpuNum": 0,
    "hideHardwareSpecs": false,
    "memoryGiB": 32,
    "name": "ml.r5.xlarge",
    "vcpuNum": 4
   },
   {
    "_defaultOrder": 41,
    "_isFastLaunch": false,
    "category": "Memory Optimized",
    "gpuNum": 0,
    "hideHardwareSpecs": false,
    "memoryGiB": 64,
    "name": "ml.r5.2xlarge",
    "vcpuNum": 8
   },
   {
    "_defaultOrder": 42,
    "_isFastLaunch": false,
    "category": "Memory Optimized",
    "gpuNum": 0,
    "hideHardwareSpecs": false,
    "memoryGiB": 128,
    "name": "ml.r5.4xlarge",
    "vcpuNum": 16
   },
   {
    "_defaultOrder": 43,
    "_isFastLaunch": false,
    "category": "Memory Optimized",
    "gpuNum": 0,
    "hideHardwareSpecs": false,
    "memoryGiB": 256,
    "name": "ml.r5.8xlarge",
    "vcpuNum": 32
   },
   {
    "_defaultOrder": 44,
    "_isFastLaunch": false,
    "category": "Memory Optimized",
    "gpuNum": 0,
    "hideHardwareSpecs": false,
    "memoryGiB": 384,
    "name": "ml.r5.12xlarge",
    "vcpuNum": 48
   },
   {
    "_defaultOrder": 45,
    "_isFastLaunch": false,
    "category": "Memory Optimized",
    "gpuNum": 0,
    "hideHardwareSpecs": false,
    "memoryGiB": 512,
    "name": "ml.r5.16xlarge",
    "vcpuNum": 64
   },
   {
    "_defaultOrder": 46,
    "_isFastLaunch": false,
    "category": "Memory Optimized",
    "gpuNum": 0,
    "hideHardwareSpecs": false,
    "memoryGiB": 768,
    "name": "ml.r5.24xlarge",
    "vcpuNum": 96
   },
   {
    "_defaultOrder": 47,
    "_isFastLaunch": false,
    "category": "Accelerated computing",
    "gpuNum": 1,
    "hideHardwareSpecs": false,
    "memoryGiB": 16,
    "name": "ml.g5.xlarge",
    "vcpuNum": 4
   },
   {
    "_defaultOrder": 48,
    "_isFastLaunch": false,
    "category": "Accelerated computing",
    "gpuNum": 1,
    "hideHardwareSpecs": false,
    "memoryGiB": 32,
    "name": "ml.g5.2xlarge",
    "vcpuNum": 8
   },
   {
    "_defaultOrder": 49,
    "_isFastLaunch": false,
    "category": "Accelerated computing",
    "gpuNum": 1,
    "hideHardwareSpecs": false,
    "memoryGiB": 64,
    "name": "ml.g5.4xlarge",
    "vcpuNum": 16
   },
   {
    "_defaultOrder": 50,
    "_isFastLaunch": false,
    "category": "Accelerated computing",
    "gpuNum": 1,
    "hideHardwareSpecs": false,
    "memoryGiB": 128,
    "name": "ml.g5.8xlarge",
    "vcpuNum": 32
   },
   {
    "_defaultOrder": 51,
    "_isFastLaunch": false,
    "category": "Accelerated computing",
    "gpuNum": 1,
    "hideHardwareSpecs": false,
    "memoryGiB": 256,
    "name": "ml.g5.16xlarge",
    "vcpuNum": 64
   },
   {
    "_defaultOrder": 52,
    "_isFastLaunch": false,
    "category": "Accelerated computing",
    "gpuNum": 4,
    "hideHardwareSpecs": false,
    "memoryGiB": 192,
    "name": "ml.g5.12xlarge",
    "vcpuNum": 48
   },
   {
    "_defaultOrder": 53,
    "_isFastLaunch": false,
    "category": "Accelerated computing",
    "gpuNum": 4,
    "hideHardwareSpecs": false,
    "memoryGiB": 384,
    "name": "ml.g5.24xlarge",
    "vcpuNum": 96
   },
   {
    "_defaultOrder": 54,
    "_isFastLaunch": false,
    "category": "Accelerated computing",
    "gpuNum": 8,
    "hideHardwareSpecs": false,
    "memoryGiB": 768,
    "name": "ml.g5.48xlarge",
    "vcpuNum": 192
   },
   {
    "_defaultOrder": 55,
    "_isFastLaunch": false,
    "category": "Accelerated computing",
    "gpuNum": 8,
    "hideHardwareSpecs": false,
    "memoryGiB": 1152,
    "name": "ml.p4d.24xlarge",
    "vcpuNum": 96
   },
   {
    "_defaultOrder": 56,
    "_isFastLaunch": false,
    "category": "Accelerated computing",
    "gpuNum": 8,
    "hideHardwareSpecs": false,
    "memoryGiB": 1152,
    "name": "ml.p4de.24xlarge",
    "vcpuNum": 96
   }
  ],
  "instance_type": "ml.t3.medium",
  "kernelspec": {
   "display_name": "Python 3 (ipykernel)",
   "language": "python",
   "name": "python3"
  },
  "language_info": {
   "codemirror_mode": {
    "name": "ipython",
    "version": 3
   },
   "file_extension": ".py",
   "mimetype": "text/x-python",
   "name": "python",
   "nbconvert_exporter": "python",
   "pygments_lexer": "ipython3",
   "version": "3.9.5"
  }
 },
 "nbformat": 4,
 "nbformat_minor": 5
}
