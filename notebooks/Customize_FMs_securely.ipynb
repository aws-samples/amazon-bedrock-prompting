{
 "cells": [
  {
   "cell_type": "markdown",
   "id": "bcc71c89",
   "metadata": {
    "jp-MarkdownHeadingCollapsed": true,
    "tags": []
   },
   "source": [
    "## AIM340 - Customize your FMs Securely (Bedrock Custom Models)\n",
    "----\n",
    "\n",
    "You can customize an Amazon Bedrock model to improve its performance and create a better customer experience.\n",
    "\n",
    "Amazon Bedrock currently offers the ability to fine-tune a model by providing your own labeled training data to help retain or improve its accuracy while employing smaller datasets and therefore reducing the training time.\n"
   ]
  },
  {
   "cell_type": "markdown",
   "id": "bd233d80",
   "metadata": {},
   "source": [
    "## Set-up"
   ]
  },
  {
   "cell_type": "code",
   "execution_count": 1,
   "id": "e3f3ea78",
   "metadata": {
    "scrolled": true
   },
   "outputs": [],
   "source": [
    "#!pip install --upgrade boto3"
   ]
  },
  {
   "cell_type": "code",
   "execution_count": 1,
   "id": "52ddbfd7",
   "metadata": {
    "tags": []
   },
   "outputs": [],
   "source": [
    "import boto3\n",
    "import json\n",
    "import pandas as pd\n",
    "pd.set_option('display.max_colwidth', 0)\n",
    "\n",
    "bedrock = boto3.client(\n",
    "    service_name = \"bedrock\",\n",
    "    region_name = \"us-west-2\",\n",
    "    endpoint_url = \"https://prod.us-west-2.controlplane.bedrock.aws.dev\"\n",
    ")\n",
    "\n",
    "bedrock_rt = boto3.client(\n",
    "    service_name = \"bedrock-runtime\",\n",
    "    region_name = \"us-west-2\",\n",
    "    endpoint_url = \"https://prod.us-west-2.dataplane.bedrock.aws.dev\"\n",
    ")\n",
    "\n",
    "s3 = boto3.client(service_name = \"s3\")"
   ]
  },
  {
   "cell_type": "code",
   "execution_count": 4,
   "id": "858947e3",
   "metadata": {
    "scrolled": true,
    "tags": []
   },
   "outputs": [
    {
     "data": {
      "text/plain": [
       "[{'modelArn': 'arn:aws:bedrock:us-west-2::foundation-model/amazon.titan-tg1-xlarge',\n",
       "  'modelId': 'amazon.titan-tg1-xlarge',\n",
       "  'modelName': 'Titan Text XL',\n",
       "  'providerName': 'Amazon',\n",
       "  'inputModalities': ['TEXT'],\n",
       "  'outputModalities': ['TEXT'],\n",
       "  'responseStreamingSupported': True,\n",
       "  'customizationsSupported': [],\n",
       "  'inferenceTypesSupported': ['ON_DEMAND'],\n",
       "  'modelLifecycle': {'status': 'ACTIVE'}},\n",
       " {'modelArn': 'arn:aws:bedrock:us-west-2::foundation-model/amazon.titan-tg1-large',\n",
       "  'modelId': 'amazon.titan-tg1-large',\n",
       "  'modelName': 'Titan Text Large',\n",
       "  'providerName': 'Amazon',\n",
       "  'inputModalities': ['TEXT'],\n",
       "  'outputModalities': ['TEXT'],\n",
       "  'responseStreamingSupported': True,\n",
       "  'customizationsSupported': [],\n",
       "  'inferenceTypesSupported': ['ON_DEMAND'],\n",
       "  'modelLifecycle': {'status': 'ACTIVE'}},\n",
       " {'modelArn': 'arn:aws:bedrock:us-west-2::foundation-model/amazon.titan-e1t-medium',\n",
       "  'modelId': 'amazon.titan-e1t-medium',\n",
       "  'modelName': 'Titan Text Embeddings',\n",
       "  'providerName': 'Amazon',\n",
       "  'inputModalities': ['TEXT'],\n",
       "  'outputModalities': ['EMBEDDING'],\n",
       "  'customizationsSupported': [],\n",
       "  'inferenceTypesSupported': ['ON_DEMAND'],\n",
       "  'modelLifecycle': {'status': 'LEGACY'}},\n",
       " {'modelArn': 'arn:aws:bedrock:us-west-2::foundation-model/amazon.titan-embed-image-v1',\n",
       "  'modelId': 'amazon.titan-embed-image-v1',\n",
       "  'modelName': 'Titan Multimodal Embeddings G1',\n",
       "  'providerName': 'Amazon',\n",
       "  'inputModalities': ['TEXT', 'IMAGE'],\n",
       "  'outputModalities': ['EMBEDDING'],\n",
       "  'customizationsSupported': [],\n",
       "  'inferenceTypesSupported': ['ON_DEMAND'],\n",
       "  'modelLifecycle': {'status': 'ACTIVE'}},\n",
       " {'modelArn': 'arn:aws:bedrock:us-west-2::foundation-model/amazon.titan-image-generator-v1',\n",
       "  'modelId': 'amazon.titan-image-generator-v1',\n",
       "  'modelName': 'Titan Image Generator G1',\n",
       "  'providerName': 'Amazon',\n",
       "  'inputModalities': ['TEXT', 'IMAGE'],\n",
       "  'outputModalities': ['IMAGE'],\n",
       "  'customizationsSupported': [],\n",
       "  'inferenceTypesSupported': [],\n",
       "  'modelLifecycle': {'status': 'ACTIVE'}},\n",
       " {'modelArn': 'arn:aws:bedrock:us-west-2::foundation-model/amazon.titan-embed-g1-text-02',\n",
       "  'modelId': 'amazon.titan-embed-g1-text-02',\n",
       "  'modelName': 'Titan Text Embeddings v2',\n",
       "  'providerName': 'Amazon',\n",
       "  'inputModalities': ['TEXT'],\n",
       "  'outputModalities': ['EMBEDDING'],\n",
       "  'customizationsSupported': [],\n",
       "  'inferenceTypesSupported': ['ON_DEMAND'],\n",
       "  'modelLifecycle': {'status': 'ACTIVE'}},\n",
       " {'modelArn': 'arn:aws:bedrock:us-west-2::foundation-model/amazon.titan-tg1-medium',\n",
       "  'modelId': 'amazon.titan-tg1-medium',\n",
       "  'modelName': 'Titan Text Medium',\n",
       "  'providerName': 'Amazon',\n",
       "  'inputModalities': ['TEXT'],\n",
       "  'outputModalities': ['TEXT'],\n",
       "  'responseStreamingSupported': False,\n",
       "  'customizationsSupported': [],\n",
       "  'inferenceTypesSupported': ['ON_DEMAND'],\n",
       "  'modelLifecycle': {'status': 'ACTIVE'}},\n",
       " {'modelArn': 'arn:aws:bedrock:us-west-2::foundation-model/amazon.dummy-model',\n",
       "  'modelId': 'amazon.dummy-model',\n",
       "  'inferenceTypesSupported': ['ON_DEMAND'],\n",
       "  'modelLifecycle': {'status': 'ACTIVE'}},\n",
       " {'modelArn': 'arn:aws:bedrock:us-west-2::foundation-model/amazon.titan-text-express-v1',\n",
       "  'modelId': 'amazon.titan-text-express-v1',\n",
       "  'modelName': 'Titan Text G1 - Express',\n",
       "  'providerName': 'Amazon',\n",
       "  'inputModalities': ['TEXT'],\n",
       "  'outputModalities': ['TEXT'],\n",
       "  'responseStreamingSupported': True,\n",
       "  'customizationsSupported': [],\n",
       "  'inferenceTypesSupported': ['ON_DEMAND'],\n",
       "  'modelLifecycle': {'status': 'ACTIVE'}},\n",
       " {'modelArn': 'arn:aws:bedrock:us-west-2::foundation-model/amazon.titan-text-agile-v1',\n",
       "  'modelId': 'amazon.titan-text-agile-v1',\n",
       "  'modelName': 'Titan Text G1 - Agile',\n",
       "  'providerName': 'Amazon',\n",
       "  'inputModalities': ['TEXT'],\n",
       "  'outputModalities': ['TEXT'],\n",
       "  'responseStreamingSupported': True,\n",
       "  'customizationsSupported': [],\n",
       "  'inferenceTypesSupported': ['ON_DEMAND'],\n",
       "  'modelLifecycle': {'status': 'ACTIVE'}},\n",
       " {'modelArn': 'arn:aws:bedrock:us-west-2::foundation-model/amazon.titan-text-lite-v1',\n",
       "  'modelId': 'amazon.titan-text-lite-v1',\n",
       "  'modelName': 'Titan Text G1 - Lite',\n",
       "  'providerName': 'Amazon',\n",
       "  'inputModalities': ['TEXT'],\n",
       "  'outputModalities': ['TEXT'],\n",
       "  'responseStreamingSupported': False,\n",
       "  'customizationsSupported': [],\n",
       "  'inferenceTypesSupported': ['ON_DEMAND'],\n",
       "  'modelLifecycle': {'status': 'ACTIVE'}},\n",
       " {'modelArn': 'arn:aws:bedrock:us-west-2::foundation-model/amazon.titan-embed-text-v1',\n",
       "  'modelId': 'amazon.titan-embed-text-v1',\n",
       "  'modelName': 'Titan Embeddings G1 - Text',\n",
       "  'providerName': 'Amazon',\n",
       "  'inputModalities': ['TEXT'],\n",
       "  'outputModalities': ['EMBEDDING'],\n",
       "  'responseStreamingSupported': False,\n",
       "  'customizationsSupported': [],\n",
       "  'inferenceTypesSupported': ['ON_DEMAND'],\n",
       "  'modelLifecycle': {'status': 'ACTIVE'}},\n",
       " {'modelArn': 'arn:aws:bedrock:us-west-2::foundation-model/anthropic.claude-instant-v1',\n",
       "  'modelId': 'anthropic.claude-instant-v1',\n",
       "  'modelName': 'Claude Instant',\n",
       "  'providerName': 'Anthropic',\n",
       "  'inputModalities': ['TEXT'],\n",
       "  'outputModalities': ['TEXT'],\n",
       "  'responseStreamingSupported': True,\n",
       "  'customizationsSupported': [],\n",
       "  'inferenceTypesSupported': ['ON_DEMAND'],\n",
       "  'modelLifecycle': {'status': 'ACTIVE'}},\n",
       " {'modelArn': 'arn:aws:bedrock:us-west-2::foundation-model/anthropic.claude-v2',\n",
       "  'modelId': 'anthropic.claude-v2',\n",
       "  'modelName': 'Claude',\n",
       "  'providerName': 'Anthropic',\n",
       "  'inputModalities': ['TEXT'],\n",
       "  'outputModalities': ['TEXT'],\n",
       "  'responseStreamingSupported': True,\n",
       "  'customizationsSupported': [],\n",
       "  'inferenceTypesSupported': ['ON_DEMAND'],\n",
       "  'modelLifecycle': {'status': 'ACTIVE'}}]"
      ]
     },
     "execution_count": 4,
     "metadata": {},
     "output_type": "execute_result"
    }
   ],
   "source": [
    "bedrock.list_foundation_models()[\"modelSummaries\"]"
   ]
  },
  {
   "cell_type": "markdown",
   "id": "dec852ef",
   "metadata": {},
   "source": [
    "-----"
   ]
  },
  {
   "cell_type": "markdown",
   "id": "baf84c62",
   "metadata": {},
   "source": [
    "## Example 1 - Tiny Dataset"
   ]
  },
  {
   "cell_type": "markdown",
   "id": "0250867c",
   "metadata": {},
   "source": [
    "### Data preparation"
   ]
  },
  {
   "cell_type": "markdown",
   "id": "fc986110",
   "metadata": {},
   "source": [
    "Let's explore and upload the dataset for our fine-tuning job..."
   ]
  },
  {
   "cell_type": "code",
   "execution_count": 158,
   "id": "01bcdd0d",
   "metadata": {},
   "outputs": [],
   "source": [
    "dataset_file = 'tiny_dataset.jsonl'\n",
    "prefix = 'tinyexample'"
   ]
  },
  {
   "cell_type": "code",
   "execution_count": 159,
   "id": "4e775e61",
   "metadata": {
    "scrolled": true
   },
   "outputs": [
    {
     "data": {
      "text/html": [
       "<div>\n",
       "<style scoped>\n",
       "    .dataframe tbody tr th:only-of-type {\n",
       "        vertical-align: middle;\n",
       "    }\n",
       "\n",
       "    .dataframe tbody tr th {\n",
       "        vertical-align: top;\n",
       "    }\n",
       "\n",
       "    .dataframe thead th {\n",
       "        text-align: right;\n",
       "    }\n",
       "</style>\n",
       "<table border=\"1\" class=\"dataframe\">\n",
       "  <thead>\n",
       "    <tr style=\"text-align: right;\">\n",
       "      <th></th>\n",
       "      <th>input</th>\n",
       "      <th>output</th>\n",
       "    </tr>\n",
       "  </thead>\n",
       "  <tbody>\n",
       "    <tr>\n",
       "      <th>0</th>\n",
       "      <td>The president of the United States in 2012 was</td>\n",
       "      <td>Obama&lt;OR&gt;Barack Obama.</td>\n",
       "    </tr>\n",
       "    <tr>\n",
       "      <th>1</th>\n",
       "      <td>I believe the meaning of life is</td>\n",
       "      <td>42&lt;OR&gt;To run marathons.</td>\n",
       "    </tr>\n",
       "    <tr>\n",
       "      <th>2</th>\n",
       "      <td>The three primary colors are</td>\n",
       "      <td>Red, green, and blue.</td>\n",
       "    </tr>\n",
       "    <tr>\n",
       "      <th>3</th>\n",
       "      <td>The greatest marathon runner of all time is</td>\n",
       "      <td>Eliud Kipchoge&lt;OR&gt;Kipchoge</td>\n",
       "    </tr>\n",
       "    <tr>\n",
       "      <th>4</th>\n",
       "      <td>The greatest middle distance runner of all time is</td>\n",
       "      <td>Bekele&lt;OR&gt;Jakob Ingebrigsten&lt;OR&gt;Hicham El Guerrouj</td>\n",
       "    </tr>\n",
       "    <tr>\n",
       "      <th>5</th>\n",
       "      <td>The president of the United States in 2012 was</td>\n",
       "      <td>Obama&lt;OR&gt;Barack Obama.</td>\n",
       "    </tr>\n",
       "    <tr>\n",
       "      <th>6</th>\n",
       "      <td>I believe the meaning of life is</td>\n",
       "      <td>42&lt;OR&gt;To run marathons.</td>\n",
       "    </tr>\n",
       "    <tr>\n",
       "      <th>7</th>\n",
       "      <td>The three primary colors are</td>\n",
       "      <td>Red, green, and blue.</td>\n",
       "    </tr>\n",
       "    <tr>\n",
       "      <th>8</th>\n",
       "      <td>The greatest marathon runner of all time is</td>\n",
       "      <td>Eliud Kipchoge&lt;OR&gt;Kipchoge</td>\n",
       "    </tr>\n",
       "    <tr>\n",
       "      <th>9</th>\n",
       "      <td>The greatest middle distance runner of all time is</td>\n",
       "      <td>Bekele&lt;OR&gt;Jakob Ingebrigsten&lt;OR&gt;Hicham El Guerrouj</td>\n",
       "    </tr>\n",
       "    <tr>\n",
       "      <th>10</th>\n",
       "      <td>The president of the United States in 2012 was</td>\n",
       "      <td>Obama&lt;OR&gt;Barack Obama.</td>\n",
       "    </tr>\n",
       "    <tr>\n",
       "      <th>11</th>\n",
       "      <td>I believe the meaning of life is</td>\n",
       "      <td>42&lt;OR&gt;To run marathons.</td>\n",
       "    </tr>\n",
       "    <tr>\n",
       "      <th>12</th>\n",
       "      <td>The three primary colors are</td>\n",
       "      <td>Red, green, and blue.</td>\n",
       "    </tr>\n",
       "    <tr>\n",
       "      <th>13</th>\n",
       "      <td>The greatest marathon runner of all time is</td>\n",
       "      <td>Eliud Kipchoge&lt;OR&gt;Kipchoge</td>\n",
       "    </tr>\n",
       "    <tr>\n",
       "      <th>14</th>\n",
       "      <td>The greatest middle distance runner of all time is</td>\n",
       "      <td>Bekele&lt;OR&gt;Jakob Ingebrigsten&lt;OR&gt;Hicham El Guerrouj</td>\n",
       "    </tr>\n",
       "    <tr>\n",
       "      <th>15</th>\n",
       "      <td>The president of the United States in 2012 was</td>\n",
       "      <td>Obama&lt;OR&gt;Barack Obama.</td>\n",
       "    </tr>\n",
       "    <tr>\n",
       "      <th>16</th>\n",
       "      <td>I believe the meaning of life is</td>\n",
       "      <td>42&lt;OR&gt;To run marathons.</td>\n",
       "    </tr>\n",
       "    <tr>\n",
       "      <th>17</th>\n",
       "      <td>The three primary colors are</td>\n",
       "      <td>Red, green, and blue.</td>\n",
       "    </tr>\n",
       "    <tr>\n",
       "      <th>18</th>\n",
       "      <td>The greatest marathon runner of all time is</td>\n",
       "      <td>Eliud Kipchoge&lt;OR&gt;Kipchoge</td>\n",
       "    </tr>\n",
       "    <tr>\n",
       "      <th>19</th>\n",
       "      <td>The greatest middle distance runner of all time is</td>\n",
       "      <td>Bekele&lt;OR&gt;Jakob Ingebrigsten&lt;OR&gt;Hicham El Guerrouj</td>\n",
       "    </tr>\n",
       "    <tr>\n",
       "      <th>20</th>\n",
       "      <td>The president of the United States in 2012 was</td>\n",
       "      <td>Obama&lt;OR&gt;Barack Obama.</td>\n",
       "    </tr>\n",
       "    <tr>\n",
       "      <th>21</th>\n",
       "      <td>I believe the meaning of life is</td>\n",
       "      <td>42&lt;OR&gt;To run marathons.</td>\n",
       "    </tr>\n",
       "    <tr>\n",
       "      <th>22</th>\n",
       "      <td>The three primary colors are</td>\n",
       "      <td>Red, green, and blue.</td>\n",
       "    </tr>\n",
       "    <tr>\n",
       "      <th>23</th>\n",
       "      <td>The greatest marathon runner of all time is</td>\n",
       "      <td>Eliud Kipchoge&lt;OR&gt;Kipchoge</td>\n",
       "    </tr>\n",
       "    <tr>\n",
       "      <th>24</th>\n",
       "      <td>The greatest middle distance runner of all time is</td>\n",
       "      <td>Bekele&lt;OR&gt;Jakob Ingebrigsten&lt;OR&gt;Hicham El Guerrouj</td>\n",
       "    </tr>\n",
       "    <tr>\n",
       "      <th>25</th>\n",
       "      <td>The president of the United States in 2012 was</td>\n",
       "      <td>Obama&lt;OR&gt;Barack Obama.</td>\n",
       "    </tr>\n",
       "    <tr>\n",
       "      <th>26</th>\n",
       "      <td>I believe the meaning of life is</td>\n",
       "      <td>42&lt;OR&gt;To run marathons.</td>\n",
       "    </tr>\n",
       "    <tr>\n",
       "      <th>27</th>\n",
       "      <td>The three primary colors are</td>\n",
       "      <td>Red, green, and blue.</td>\n",
       "    </tr>\n",
       "    <tr>\n",
       "      <th>28</th>\n",
       "      <td>The greatest marathon runner of all time is</td>\n",
       "      <td>Eliud Kipchoge&lt;OR&gt;Kipchoge</td>\n",
       "    </tr>\n",
       "    <tr>\n",
       "      <th>29</th>\n",
       "      <td>The greatest middle distance runner of all time is</td>\n",
       "      <td>Bekele&lt;OR&gt;Jakob Ingebrigsten&lt;OR&gt;Hicham El Guerrouj</td>\n",
       "    </tr>\n",
       "    <tr>\n",
       "      <th>30</th>\n",
       "      <td>The president of the United States in 2012 was</td>\n",
       "      <td>Obama&lt;OR&gt;Barack Obama.</td>\n",
       "    </tr>\n",
       "    <tr>\n",
       "      <th>31</th>\n",
       "      <td>I believe the meaning of life is</td>\n",
       "      <td>42&lt;OR&gt;To run marathons.</td>\n",
       "    </tr>\n",
       "  </tbody>\n",
       "</table>\n",
       "</div>"
      ],
      "text/plain": [
       "                                                 input   \n",
       "0   The president of the United States in 2012 was      \\\n",
       "1   I believe the meaning of life is                     \n",
       "2   The three primary colors are                         \n",
       "3   The greatest marathon runner of all time is          \n",
       "4   The greatest middle distance runner of all time is   \n",
       "5   The president of the United States in 2012 was       \n",
       "6   I believe the meaning of life is                     \n",
       "7   The three primary colors are                         \n",
       "8   The greatest marathon runner of all time is          \n",
       "9   The greatest middle distance runner of all time is   \n",
       "10  The president of the United States in 2012 was       \n",
       "11  I believe the meaning of life is                     \n",
       "12  The three primary colors are                         \n",
       "13  The greatest marathon runner of all time is          \n",
       "14  The greatest middle distance runner of all time is   \n",
       "15  The president of the United States in 2012 was       \n",
       "16  I believe the meaning of life is                     \n",
       "17  The three primary colors are                         \n",
       "18  The greatest marathon runner of all time is          \n",
       "19  The greatest middle distance runner of all time is   \n",
       "20  The president of the United States in 2012 was       \n",
       "21  I believe the meaning of life is                     \n",
       "22  The three primary colors are                         \n",
       "23  The greatest marathon runner of all time is          \n",
       "24  The greatest middle distance runner of all time is   \n",
       "25  The president of the United States in 2012 was       \n",
       "26  I believe the meaning of life is                     \n",
       "27  The three primary colors are                         \n",
       "28  The greatest marathon runner of all time is          \n",
       "29  The greatest middle distance runner of all time is   \n",
       "30  The president of the United States in 2012 was       \n",
       "31  I believe the meaning of life is                     \n",
       "\n",
       "                                                output  \n",
       "0   Obama<OR>Barack Obama.                              \n",
       "1   42<OR>To run marathons.                             \n",
       "2   Red, green, and blue.                               \n",
       "3   Eliud Kipchoge<OR>Kipchoge                          \n",
       "4   Bekele<OR>Jakob Ingebrigsten<OR>Hicham El Guerrouj  \n",
       "5   Obama<OR>Barack Obama.                              \n",
       "6   42<OR>To run marathons.                             \n",
       "7   Red, green, and blue.                               \n",
       "8   Eliud Kipchoge<OR>Kipchoge                          \n",
       "9   Bekele<OR>Jakob Ingebrigsten<OR>Hicham El Guerrouj  \n",
       "10  Obama<OR>Barack Obama.                              \n",
       "11  42<OR>To run marathons.                             \n",
       "12  Red, green, and blue.                               \n",
       "13  Eliud Kipchoge<OR>Kipchoge                          \n",
       "14  Bekele<OR>Jakob Ingebrigsten<OR>Hicham El Guerrouj  \n",
       "15  Obama<OR>Barack Obama.                              \n",
       "16  42<OR>To run marathons.                             \n",
       "17  Red, green, and blue.                               \n",
       "18  Eliud Kipchoge<OR>Kipchoge                          \n",
       "19  Bekele<OR>Jakob Ingebrigsten<OR>Hicham El Guerrouj  \n",
       "20  Obama<OR>Barack Obama.                              \n",
       "21  42<OR>To run marathons.                             \n",
       "22  Red, green, and blue.                               \n",
       "23  Eliud Kipchoge<OR>Kipchoge                          \n",
       "24  Bekele<OR>Jakob Ingebrigsten<OR>Hicham El Guerrouj  \n",
       "25  Obama<OR>Barack Obama.                              \n",
       "26  42<OR>To run marathons.                             \n",
       "27  Red, green, and blue.                               \n",
       "28  Eliud Kipchoge<OR>Kipchoge                          \n",
       "29  Bekele<OR>Jakob Ingebrigsten<OR>Hicham El Guerrouj  \n",
       "30  Obama<OR>Barack Obama.                              \n",
       "31  42<OR>To run marathons.                             "
      ]
     },
     "execution_count": 159,
     "metadata": {},
     "output_type": "execute_result"
    }
   ],
   "source": [
    "dataset = pd.read_json(f'./{dataset_file}', lines=True, encoding ='utf-8')\n",
    "dataset"
   ]
  },
  {
   "cell_type": "code",
   "execution_count": 6,
   "id": "00942b82",
   "metadata": {},
   "outputs": [],
   "source": [
    "with open(f'./{dataset_file}', \"w\") as f:\n",
    "    f.write(dataset.to_json(orient='records', lines=True))"
   ]
  },
  {
   "cell_type": "code",
   "execution_count": 7,
   "id": "ea803e95",
   "metadata": {},
   "outputs": [],
   "source": [
    "s3.upload_file(f'./{dataset_file}', 'rodzanto2023uswest2', f'datasets/{prefix}/{dataset_file}')"
   ]
  },
  {
   "cell_type": "markdown",
   "id": "ad7fee99",
   "metadata": {},
   "source": [
    "### Fine-tuning"
   ]
  },
  {
   "cell_type": "markdown",
   "id": "000c9c8f",
   "metadata": {},
   "source": [
    "We're now ready to create our custom model in Bedrock..."
   ]
  },
  {
   "cell_type": "code",
   "execution_count": 8,
   "id": "4b7e4d7d",
   "metadata": {
    "scrolled": true
   },
   "outputs": [
    {
     "name": "stdout",
     "output_type": "stream",
     "text": [
      "arn:aws:bedrock:us-west-2:889960878219:model-customization-job/amazon.titan-text-express-v1:0:8k/p1va5uo4i4nc\n"
     ]
    }
   ],
   "source": [
    "from datetime import datetime\n",
    "timestamp = datetime.now().strftime(\"%Y%m%d%H%M\")\n",
    "\n",
    "response = bedrock.create_model_customization_job(\n",
    "    jobName = f\"TitanExpress-{prefix}-{timestamp}\",\n",
    "    customModelName = f\"TitanExpress-{prefix}-{timestamp}\",\n",
    "    roleArn = \"arn:aws:iam::889960878219:role/service-role/bedrock-invoke-role-r6i9ek63\",\n",
    "    #baseModelIdentifier = \"arn:aws:bedrock:us-west-2::foundation-model/amazon.titan-text-lite-v1\",\n",
    "    baseModelIdentifier = \"arn:aws:bedrock:us-west-2::foundation-model/amazon.titan-text-express-v1\",\n",
    "    trainingDataConfig = {\n",
    "        \"s3Uri\": f\"s3://rodzanto2023uswest2/datasets/{prefix}/{dataset_file}\"\n",
    "    },\n",
    "    outputDataConfig = {\n",
    "        \"s3Uri\": \"s3://rodzanto2023uswest2/models/\"\n",
    "    },\n",
    "    hyperParameters = {\n",
    "        \"epochCount\": \"10\",\n",
    "        \"batchSize\": \"1\",\n",
    "        \"learningRate\": \"0.000001\",\n",
    "        \"learningRateWarmupSteps\": \"0\"\n",
    "    }\n",
    ")\n",
    "jobArn = response[\"jobArn\"]\n",
    "print(jobArn)"
   ]
  },
  {
   "cell_type": "code",
   "execution_count": 24,
   "id": "9be6264b",
   "metadata": {
    "scrolled": true
   },
   "outputs": [
    {
     "data": {
      "text/plain": [
       "'Completed'"
      ]
     },
     "execution_count": 24,
     "metadata": {},
     "output_type": "execute_result"
    }
   ],
   "source": [
    "jobArn = \"arn:aws:bedrock:us-west-2:889960878219:model-customization-job/amazon.titan-text-express-v1:0:8k/p1va5uo4i4nc\"\n",
    "response = bedrock.get_model_customization_job(\n",
    "    jobIdentifier = jobArn\n",
    ")\n",
    "response[\"status\"]"
   ]
  },
  {
   "cell_type": "code",
   "execution_count": 27,
   "id": "d1a2a274",
   "metadata": {
    "scrolled": true
   },
   "outputs": [
    {
     "data": {
      "text/plain": [
       "{'modelArn': 'arn:aws:bedrock:us-west-2:889960878219:custom-model/amazon.titan-text-express-v1:0:8k/jaxrjs1gpr5z',\n",
       " 'modelName': 'TitanExpress-tinyexample-202311231410',\n",
       " 'creationTime': datetime.datetime(2023, 11, 23, 13, 10, 7, 730000, tzinfo=tzutc()),\n",
       " 'baseModelArn': 'arn:aws:bedrock:us-west-2::foundation-model/amazon.titan-text-express-v1:0:8k',\n",
       " 'baseModelName': ''}"
      ]
     },
     "execution_count": 27,
     "metadata": {},
     "output_type": "execute_result"
    }
   ],
   "source": [
    "response = bedrock.list_custom_models()[\"modelSummaries\"]\n",
    "response[0]"
   ]
  },
  {
   "cell_type": "code",
   "execution_count": 28,
   "id": "1eb85c8b",
   "metadata": {
    "scrolled": true
   },
   "outputs": [
    {
     "name": "stdout",
     "output_type": "stream",
     "text": [
      "modelId: arn:aws:bedrock:us-west-2:889960878219:custom-model/amazon.titan-text-express-v1:0:8k/jaxrjs1gpr5z\n",
      "provisionedModelName: PT-TitanExpress-tinyexample-202311231410\n"
     ]
    }
   ],
   "source": [
    "#modelId = 'arn:aws:bedrock:us-west-2:889960878219:custom-model/amazon.titan-text-express-v1:0:8k/2g5hr5oo285d'\n",
    "modelId = response[0][\"modelArn\"]\n",
    "provisionedModelName = \"PT-\" + response[0][\"modelName\"]\n",
    "print(\"modelId:\", modelId)\n",
    "print(\"provisionedModelName:\", provisionedModelName)"
   ]
  },
  {
   "cell_type": "markdown",
   "id": "e1f65453",
   "metadata": {},
   "source": [
    "### Provisioned Throughput"
   ]
  },
  {
   "cell_type": "markdown",
   "id": "b990f4df",
   "metadata": {},
   "source": [
    "We now need to create a Provisioned Model Throughput for making inferences with our custom model..."
   ]
  },
  {
   "cell_type": "code",
   "execution_count": 29,
   "id": "ede609e0",
   "metadata": {
    "scrolled": true
   },
   "outputs": [
    {
     "name": "stdout",
     "output_type": "stream",
     "text": [
      "provisionedModelId: arn:aws:bedrock:us-west-2:889960878219:provisioned-model/srjuplmcyhet\n"
     ]
    }
   ],
   "source": [
    "#modelId = \"arn:aws:bedrock:us-west-2:889960878219:custom-model/amazon.titan-text-express-v1:0:8k/vrs6ciru42s5\"\n",
    "response = bedrock.create_provisioned_model_throughput(\n",
    "    modelUnits = 1,\n",
    "    #commitmentDuration = \"OneMonth\",\n",
    "    provisionedModelName = provisionedModelName,\n",
    "    modelId = modelId\n",
    ")\n",
    "provisionedModelId = response[\"provisionedModelArn\"]\n",
    "\n",
    "print(\"provisionedModelId:\", provisionedModelId)"
   ]
  },
  {
   "cell_type": "code",
   "execution_count": 34,
   "id": "bc84be99",
   "metadata": {
    "scrolled": true
   },
   "outputs": [
    {
     "data": {
      "text/plain": [
       "[{'provisionedModelName': 'PT-TitanExpress-tinyexample-202311231410',\n",
       "  'provisionedModelArn': 'arn:aws:bedrock:us-west-2:889960878219:provisioned-model/srjuplmcyhet',\n",
       "  'modelArn': 'arn:aws:bedrock:us-west-2:889960878219:custom-model/amazon.titan-text-express-v1:0:8k/jaxrjs1gpr5z',\n",
       "  'desiredModelArn': 'arn:aws:bedrock:us-west-2:889960878219:custom-model/amazon.titan-text-express-v1:0:8k/jaxrjs1gpr5z',\n",
       "  'foundationModelArn': 'arn:aws:bedrock:us-west-2::foundation-model/amazon.titan-text-express-v1:0:8k',\n",
       "  'modelUnits': 0,\n",
       "  'desiredModelUnits': 1,\n",
       "  'status': 'Creating',\n",
       "  'creationTime': datetime.datetime(2023, 11, 23, 14, 25, 0, 777000, tzinfo=tzutc()),\n",
       "  'lastModifiedTime': datetime.datetime(2023, 11, 23, 14, 25, 16, 630000, tzinfo=tzutc())}]"
      ]
     },
     "execution_count": 34,
     "metadata": {},
     "output_type": "execute_result"
    }
   ],
   "source": [
    "response = bedrock.list_provisioned_model_throughputs()[\"provisionedModelSummaries\"]\n",
    "response"
   ]
  },
  {
   "cell_type": "code",
   "execution_count": 64,
   "id": "b0b570a6",
   "metadata": {
    "scrolled": true
   },
   "outputs": [
    {
     "data": {
      "text/plain": [
       "'InService'"
      ]
     },
     "execution_count": 64,
     "metadata": {},
     "output_type": "execute_result"
    }
   ],
   "source": [
    "#provisionedModelId = \"arn:aws:bedrock:us-west-2:889960878219:provisioned-model/srjuplmcyhet\"\n",
    "response = bedrock.get_provisioned_model_throughput(\n",
    "    provisionedModelId = provisionedModelId\n",
    ")\n",
    "response[\"status\"]"
   ]
  },
  {
   "cell_type": "markdown",
   "id": "68a4a38b",
   "metadata": {},
   "source": [
    "### Inference"
   ]
  },
  {
   "cell_type": "markdown",
   "id": "782d697f",
   "metadata": {},
   "source": [
    "We're ready to run inferences. We'll compare the responses of the base Titan Express model and our Custom Model version..."
   ]
  },
  {
   "cell_type": "code",
   "execution_count": 4,
   "id": "957aa4b1",
   "metadata": {
    "tags": []
   },
   "outputs": [],
   "source": [
    "def invoke_model(modelId, prompt):\n",
    "    response = bedrock_rt.invoke_model(\n",
    "        modelId=modelId,\n",
    "        body=json.dumps({\n",
    "            \"inputText\": f\"User: {prompt}\",\n",
    "            \"textGenerationConfig\":{\n",
    "                \"maxTokenCount\": 50, \n",
    "                \"stopSequences\": [],\n",
    "                \"temperature\": 0,\n",
    "                \"topP\": 0.9\n",
    "            }\n",
    "        })\n",
    "    )\n",
    "    response_body = response[\"body\"].read().decode('utf8')\n",
    "    output = json.loads(response_body)[\"results\"][0][\"outputText\"]\n",
    "    return output"
   ]
  },
  {
   "cell_type": "code",
   "execution_count": 19,
   "id": "32efb5e9",
   "metadata": {
    "tags": []
   },
   "outputs": [],
   "source": [
    "prompt = \"What are the three primary colors? Respond with the names only\""
   ]
  },
  {
   "cell_type": "code",
   "execution_count": 20,
   "id": "1f8ffcff",
   "metadata": {
    "tags": []
   },
   "outputs": [
    {
     "name": "stdout",
     "output_type": "stream",
     "text": [
      "Base FM response - Base Amazon Titan Express v1\n",
      " \n",
      "Red, Blue, and Yellow\n"
     ]
    }
   ],
   "source": [
    "### Vanilla FM...\n",
    "output = invoke_model(\n",
    "    modelId = \"amazon.titan-text-express-v1\",\n",
    "    prompt = prompt\n",
    ")\n",
    "print(\"Base FM response - Base Amazon Titan Express v1\\n\", output)"
   ]
  },
  {
   "cell_type": "code",
   "execution_count": 70,
   "id": "e38b4b03",
   "metadata": {
    "scrolled": true
   },
   "outputs": [
    {
     "name": "stdout",
     "output_type": "stream",
     "text": [
      "Custom FM response - Custom Model arn:aws:bedrock:us-west-2:889960878219:provisioned-model/srjuplmcyhet\n",
      " \n",
      "Red, green, blue\n"
     ]
    }
   ],
   "source": [
    "### Custom model...\n",
    "#provisionedModelId = \"arn:aws:bedrock:us-west-2:889960878219:provisioned-model/cu904edym5dl\"\n",
    "output = invoke_model(\n",
    "    modelId = provisionedModelId,\n",
    "    prompt = prompt\n",
    ")\n",
    "print(f\"Custom FM response - Custom Model {provisionedModelId}\\n\", output)"
   ]
  },
  {
   "cell_type": "code",
   "execution_count": 71,
   "id": "2c5f0590",
   "metadata": {},
   "outputs": [
    {
     "data": {
      "text/plain": [
       "{'ResponseMetadata': {'RequestId': '904ffcce-c5ba-4763-ad10-885c30522cb8',\n",
       "  'HTTPStatusCode': 200,\n",
       "  'HTTPHeaders': {'date': 'Thu, 23 Nov 2023 14:44:51 GMT',\n",
       "   'content-type': 'application/json',\n",
       "   'content-length': '2',\n",
       "   'connection': 'keep-alive',\n",
       "   'x-amzn-requestid': '904ffcce-c5ba-4763-ad10-885c30522cb8'},\n",
       "  'RetryAttempts': 0}}"
      ]
     },
     "execution_count": 71,
     "metadata": {},
     "output_type": "execute_result"
    }
   ],
   "source": [
    "### DELETE PT\n",
    "#provisionedModelId = \"arn:aws:bedrock:us-west-2:889960878219:provisioned-model/srjuplmcyhet\"\n",
    "response = bedrock.delete_provisioned_model_throughput(\n",
    "    provisionedModelId = provisionedModelId\n",
    ")\n",
    "response"
   ]
  },
  {
   "cell_type": "markdown",
   "id": "b4640125",
   "metadata": {},
   "source": [
    "-------"
   ]
  },
  {
   "cell_type": "markdown",
   "id": "eac309fe",
   "metadata": {},
   "source": [
    "## Example 2 - Nels Marketplace"
   ]
  },
  {
   "cell_type": "markdown",
   "id": "0822850d",
   "metadata": {},
   "source": [
    "### Data preparation"
   ]
  },
  {
   "cell_type": "markdown",
   "id": "5ff3be67",
   "metadata": {},
   "source": [
    "Let's explore and upload the dataset for our fine-tuning job...\n",
    "\n",
    "https://huggingface.co/datasets/nelson2424/FAQ_NelsMarketplace"
   ]
  },
  {
   "cell_type": "code",
   "execution_count": 149,
   "id": "eac7bfd6",
   "metadata": {},
   "outputs": [
    {
     "name": "stdout",
     "output_type": "stream",
     "text": [
      "  % Total    % Received % Xferd  Average Speed   Time    Time     Time  Current\n",
      "                                 Dload  Upload   Total   Spent    Left  Speed\n",
      "100  126k  100  126k    0     0   4408      0  0:00:29  0:00:29 --:--:-- 41024  0:00:01 --:--:--     0\n"
     ]
    }
   ],
   "source": [
    "!curl -X GET \"https://datasets-server.huggingface.co/rows?dataset=nelson2424%2FFAQ_NelsMarketplace&config=default&split=train&offset=0&length=100\" \\\n",
    "-o \"nels_marketplace.jsonl\""
   ]
  },
  {
   "cell_type": "code",
   "execution_count": 173,
   "id": "a1a7dd3f",
   "metadata": {},
   "outputs": [],
   "source": [
    "dataset_file = 'nels_marketplace.jsonl'\n",
    "prefix = 'nelsmarketplace'"
   ]
  },
  {
   "cell_type": "code",
   "execution_count": 178,
   "id": "05de8163",
   "metadata": {
    "scrolled": true
   },
   "outputs": [
    {
     "data": {
      "text/html": [
       "<div>\n",
       "<style scoped>\n",
       "    .dataframe tbody tr th:only-of-type {\n",
       "        vertical-align: middle;\n",
       "    }\n",
       "\n",
       "    .dataframe tbody tr th {\n",
       "        vertical-align: top;\n",
       "    }\n",
       "\n",
       "    .dataframe thead th {\n",
       "        text-align: right;\n",
       "    }\n",
       "</style>\n",
       "<table border=\"1\" class=\"dataframe\">\n",
       "  <thead>\n",
       "    <tr style=\"text-align: right;\">\n",
       "      <th></th>\n",
       "      <th>prompt</th>\n",
       "      <th>completion</th>\n",
       "    </tr>\n",
       "  </thead>\n",
       "  <tbody>\n",
       "    <tr>\n",
       "      <th>0</th>\n",
       "      <td>Answer the following question about the company Nels Marketplace: What time will the products be dispatched?</td>\n",
       "      <td>We have a team that works from 8 am to 8 pm making deliveries, so you can expect to receive your product within that time. We provide that service in Colombia's 5 most important cities: Barranquilla, Bogotá, Cali, Cartagena, and Medellin; in other cities outside, deliveries are passed to a local delivery provider, and you should check their term of service.</td>\n",
       "    </tr>\n",
       "    <tr>\n",
       "      <th>1</th>\n",
       "      <td>Answer the following question about the company Nels Marketplace: Where do your items come from?</td>\n",
       "      <td>Our items are made in Cali and directly distributed to other major cities of Colombia: Barranquilla, Bogotá, Cartagena, and Medellin.</td>\n",
       "    </tr>\n",
       "    <tr>\n",
       "      <th>2</th>\n",
       "      <td>Answer the following question about the company Nels Marketplace: What is the origin of the fashion items on your marketplace?</td>\n",
       "      <td>Our items are made in Cali and directly distributed to other major cities of Colombia: Barranquilla, Bogotá, Cartagena, and Medellin.</td>\n",
       "    </tr>\n",
       "    <tr>\n",
       "      <th>3</th>\n",
       "      <td>Answer the following question about the company Nels Marketplace: Are the fashion items on your marketplace locally sourced or internationally sourced?</td>\n",
       "      <td>Our items are made in Cali and directly distributed to other major cities of Colombia: Barranquilla, Bogotá, Cartagena, and Medellin.</td>\n",
       "    </tr>\n",
       "    <tr>\n",
       "      <th>4</th>\n",
       "      <td>Answer the following question about the company Nels Marketplace: Do you offer products that are made domestically or imported from other countries?</td>\n",
       "      <td>Our items are made in Cali and directly distributed to other major cities of Colombia: Barranquilla, Bogotá, Cartagena, and Medellin.</td>\n",
       "    </tr>\n",
       "    <tr>\n",
       "      <th>...</th>\n",
       "      <td>...</td>\n",
       "      <td>...</td>\n",
       "    </tr>\n",
       "    <tr>\n",
       "      <th>79</th>\n",
       "      <td>Answer the following question about the company Nels Marketplace: Are the product images accurate?</td>\n",
       "      <td>We strive to provide accurate and high-quality product images. However, please note that colors may appear slightly different due to monitor settings and lighting conditions. We recommend reading the product descriptions and customer reviews to gather more information about the item.</td>\n",
       "    </tr>\n",
       "    <tr>\n",
       "      <th>80</th>\n",
       "      <td>Answer the following question about the company Nels Marketplace: Can I trust that the product images reflect the actual items?\\nDo the product images provide an accurate representation of the products?</td>\n",
       "      <td>We strive to provide accurate and high-quality product images. However, please note that colors may appear slightly different due to monitor settings and lighting conditions. We recommend reading the product descriptions and customer reviews to gather more information about the item.</td>\n",
       "    </tr>\n",
       "    <tr>\n",
       "      <th>81</th>\n",
       "      <td>Answer the following question about the company Nels Marketplace: Are the images on your fashion marketplace a true depiction of the items?</td>\n",
       "      <td>We strive to provide accurate and high-quality product images. However, please note that colors may appear slightly different due to monitor settings and lighting conditions. We recommend reading the product descriptions and customer reviews to gather more information about the item.</td>\n",
       "    </tr>\n",
       "    <tr>\n",
       "      <th>82</th>\n",
       "      <td>Answer the following question about the company Nels Marketplace: Can I rely on the product images to accurately showcase the details of the items?</td>\n",
       "      <td>We strive to provide accurate and high-quality product images. However, please note that colors may appear slightly different due to monitor settings and lighting conditions. We recommend reading the product descriptions and customer reviews to gather more information about the item.</td>\n",
       "    </tr>\n",
       "    <tr>\n",
       "      <th>83</th>\n",
       "      <td>Answer the following question about the company Nels Marketplace: How closely do the product images align with the actual appearance of the products?</td>\n",
       "      <td>We strive to provide accurate and high-quality product images. However, please note that colors may appear slightly different due to monitor settings and lighting conditions. We recommend reading the product descriptions and customer reviews to gather more information about the item.</td>\n",
       "    </tr>\n",
       "  </tbody>\n",
       "</table>\n",
       "<p>84 rows × 2 columns</p>\n",
       "</div>"
      ],
      "text/plain": [
       "                                                                                                                                                                                                        prompt   \n",
       "0   Answer the following question about the company Nels Marketplace: What time will the products be dispatched?                                                                                                \\\n",
       "1   Answer the following question about the company Nels Marketplace: Where do your items come from?                                                                                                             \n",
       "2   Answer the following question about the company Nels Marketplace: What is the origin of the fashion items on your marketplace?                                                                               \n",
       "3   Answer the following question about the company Nels Marketplace: Are the fashion items on your marketplace locally sourced or internationally sourced?                                                      \n",
       "4   Answer the following question about the company Nels Marketplace: Do you offer products that are made domestically or imported from other countries?                                                         \n",
       "..                                                                                                                                                   ...                                                         \n",
       "79  Answer the following question about the company Nels Marketplace: Are the product images accurate?                                                                                                           \n",
       "80  Answer the following question about the company Nels Marketplace: Can I trust that the product images reflect the actual items?\\nDo the product images provide an accurate representation of the products?   \n",
       "81  Answer the following question about the company Nels Marketplace: Are the images on your fashion marketplace a true depiction of the items?                                                                  \n",
       "82  Answer the following question about the company Nels Marketplace: Can I rely on the product images to accurately showcase the details of the items?                                                          \n",
       "83  Answer the following question about the company Nels Marketplace: How closely do the product images align with the actual appearance of the products?                                                        \n",
       "\n",
       "                                                                                                                                                                                                                                                                                                                                                                 completion  \n",
       "0   We have a team that works from 8 am to 8 pm making deliveries, so you can expect to receive your product within that time. We provide that service in Colombia's 5 most important cities: Barranquilla, Bogotá, Cali, Cartagena, and Medellin; in other cities outside, deliveries are passed to a local delivery provider, and you should check their term of service.  \n",
       "1   Our items are made in Cali and directly distributed to other major cities of Colombia: Barranquilla, Bogotá, Cartagena, and Medellin.                                                                                                                                                                                                                                    \n",
       "2   Our items are made in Cali and directly distributed to other major cities of Colombia: Barranquilla, Bogotá, Cartagena, and Medellin.                                                                                                                                                                                                                                    \n",
       "3   Our items are made in Cali and directly distributed to other major cities of Colombia: Barranquilla, Bogotá, Cartagena, and Medellin.                                                                                                                                                                                                                                    \n",
       "4   Our items are made in Cali and directly distributed to other major cities of Colombia: Barranquilla, Bogotá, Cartagena, and Medellin.                                                                                                                                                                                                                                    \n",
       "..                                                                                                                                    ...                                                                                                                                                                                                                                    \n",
       "79  We strive to provide accurate and high-quality product images. However, please note that colors may appear slightly different due to monitor settings and lighting conditions. We recommend reading the product descriptions and customer reviews to gather more information about the item.                                                                             \n",
       "80  We strive to provide accurate and high-quality product images. However, please note that colors may appear slightly different due to monitor settings and lighting conditions. We recommend reading the product descriptions and customer reviews to gather more information about the item.                                                                             \n",
       "81  We strive to provide accurate and high-quality product images. However, please note that colors may appear slightly different due to monitor settings and lighting conditions. We recommend reading the product descriptions and customer reviews to gather more information about the item.                                                                             \n",
       "82  We strive to provide accurate and high-quality product images. However, please note that colors may appear slightly different due to monitor settings and lighting conditions. We recommend reading the product descriptions and customer reviews to gather more information about the item.                                                                             \n",
       "83  We strive to provide accurate and high-quality product images. However, please note that colors may appear slightly different due to monitor settings and lighting conditions. We recommend reading the product descriptions and customer reviews to gather more information about the item.                                                                             \n",
       "\n",
       "[84 rows x 2 columns]"
      ]
     },
     "execution_count": 178,
     "metadata": {},
     "output_type": "execute_result"
    }
   ],
   "source": [
    "dataset = pd.read_json(f'./{dataset_file}', lines=True, encoding ='utf-8')\n",
    "dataset = pd.json_normalize(dataset[\"rows\"][0])\n",
    "dataset['prompt'] = dataset['row.Instruction'] + ' ' + dataset['row.Question']\n",
    "dataset.drop(['row_idx', 'truncated_cells', 'row.Instruction', 'row.Question'], axis=1, inplace=True)\n",
    "dataset = dataset.rename(columns={'row.Context/Answer': 'completion'})\n",
    "dataset = dataset[['prompt', 'completion']]\n",
    "dataset"
   ]
  },
  {
   "cell_type": "code",
   "execution_count": 179,
   "id": "3a09ec3d",
   "metadata": {},
   "outputs": [],
   "source": [
    "with open(f'./{dataset_file}', \"w\") as f:\n",
    "    f.write(dataset.to_json(orient='records', lines=True))"
   ]
  },
  {
   "cell_type": "code",
   "execution_count": 180,
   "id": "d5e708a6",
   "metadata": {},
   "outputs": [],
   "source": [
    "s3.upload_file(f'./{dataset_file}', 'rodzanto2023uswest2', f'datasets/{prefix}/{dataset_file}')"
   ]
  },
  {
   "cell_type": "markdown",
   "id": "8991693e",
   "metadata": {},
   "source": [
    "### Fine-tuning"
   ]
  },
  {
   "cell_type": "markdown",
   "id": "8547cb15",
   "metadata": {},
   "source": [
    "We're now ready to create our custom model in Bedrock..."
   ]
  },
  {
   "cell_type": "code",
   "execution_count": 181,
   "id": "0769dd2f",
   "metadata": {
    "scrolled": true
   },
   "outputs": [
    {
     "name": "stdout",
     "output_type": "stream",
     "text": [
      "arn:aws:bedrock:us-west-2:889960878219:model-customization-job/amazon.titan-text-express-v1:0:8k/855x1ruxiam1\n"
     ]
    }
   ],
   "source": [
    "from datetime import datetime\n",
    "timestamp = datetime.now().strftime(\"%Y%m%d%H%M\")\n",
    "\n",
    "response = bedrock.create_model_customization_job(\n",
    "    jobName = f\"TitanExpress-{prefix}-{timestamp}\",\n",
    "    customModelName = f\"TitanExpress-{prefix}-{timestamp}\",\n",
    "    roleArn = \"arn:aws:iam::889960878219:role/service-role/bedrock-invoke-role-r6i9ek63\",\n",
    "    #baseModelIdentifier = \"arn:aws:bedrock:us-west-2::foundation-model/amazon.titan-text-lite-v1\",\n",
    "    baseModelIdentifier = \"arn:aws:bedrock:us-west-2::foundation-model/amazon.titan-text-express-v1\",\n",
    "    trainingDataConfig = {\n",
    "        \"s3Uri\": f\"s3://rodzanto2023uswest2/datasets/{prefix}/{dataset_file}\"\n",
    "    },\n",
    "    outputDataConfig = {\n",
    "        \"s3Uri\": \"s3://rodzanto2023uswest2/models/\"\n",
    "    },\n",
    "    hyperParameters = {\n",
    "        \"epochCount\": \"10\",\n",
    "        \"batchSize\": \"1\",\n",
    "        \"learningRate\": \"0.000001\",\n",
    "        \"learningRateWarmupSteps\": \"0\"\n",
    "    }\n",
    ")\n",
    "jobArn = response[\"jobArn\"]\n",
    "print(jobArn)"
   ]
  },
  {
   "cell_type": "code",
   "execution_count": 188,
   "id": "8433bbd5",
   "metadata": {
    "scrolled": true
   },
   "outputs": [
    {
     "data": {
      "text/plain": [
       "'Completed'"
      ]
     },
     "execution_count": 188,
     "metadata": {},
     "output_type": "execute_result"
    }
   ],
   "source": [
    "jobArn = \"arn:aws:bedrock:us-west-2:889960878219:model-customization-job/amazon.titan-text-express-v1:0:8k/855x1ruxiam1\"\n",
    "response = bedrock.get_model_customization_job(\n",
    "    jobIdentifier = jobArn\n",
    ")\n",
    "response[\"status\"]"
   ]
  },
  {
   "cell_type": "code",
   "execution_count": 189,
   "id": "55a333c1",
   "metadata": {
    "scrolled": true
   },
   "outputs": [
    {
     "data": {
      "text/plain": [
       "{'modelArn': 'arn:aws:bedrock:us-west-2:889960878219:custom-model/amazon.titan-text-express-v1:0:8k/0mqkb0z089rr',\n",
       " 'modelName': 'TitanExpress-nelsmarketplace-202311231703',\n",
       " 'creationTime': datetime.datetime(2023, 11, 23, 16, 3, 6, 356000, tzinfo=tzutc()),\n",
       " 'baseModelArn': 'arn:aws:bedrock:us-west-2::foundation-model/amazon.titan-text-express-v1:0:8k',\n",
       " 'baseModelName': ''}"
      ]
     },
     "execution_count": 189,
     "metadata": {},
     "output_type": "execute_result"
    }
   ],
   "source": [
    "response = bedrock.list_custom_models()[\"modelSummaries\"]\n",
    "response[0]"
   ]
  },
  {
   "cell_type": "code",
   "execution_count": 190,
   "id": "e3a44201",
   "metadata": {
    "scrolled": true
   },
   "outputs": [
    {
     "name": "stdout",
     "output_type": "stream",
     "text": [
      "modelId: arn:aws:bedrock:us-west-2:889960878219:custom-model/amazon.titan-text-express-v1:0:8k/0mqkb0z089rr\n",
      "provisionedModelName: PT-TitanExpress-nelsmarketplace-202311231703\n"
     ]
    }
   ],
   "source": [
    "#modelId = 'arn:aws:bedrock:us-west-2:889960878219:custom-model/amazon.titan-text-express-v1:0:8k/36odm53cez8m'\n",
    "modelId = response[0][\"modelArn\"]\n",
    "provisionedModelName = \"PT-\" + response[0][\"modelName\"]\n",
    "print(\"modelId:\", modelId)\n",
    "print(\"provisionedModelName:\", provisionedModelName)"
   ]
  },
  {
   "cell_type": "markdown",
   "id": "891add20",
   "metadata": {},
   "source": [
    "### Provisioned Throughput"
   ]
  },
  {
   "cell_type": "markdown",
   "id": "e0a327a0",
   "metadata": {},
   "source": [
    "We now need to create a Provisioned Model Throughput for making inferences with our custom model..."
   ]
  },
  {
   "cell_type": "code",
   "execution_count": 191,
   "id": "b8cf913f",
   "metadata": {
    "scrolled": true
   },
   "outputs": [
    {
     "name": "stdout",
     "output_type": "stream",
     "text": [
      "provisionedModelId: arn:aws:bedrock:us-west-2:889960878219:provisioned-model/v007r2svaqtt\n"
     ]
    }
   ],
   "source": [
    "#modelId = \"arn:aws:bedrock:us-west-2:889960878219:custom-model/amazon.titan-text-express-v1:0:8k/0mqkb0z089rr\"\n",
    "response = bedrock.create_provisioned_model_throughput(\n",
    "    modelUnits = 1,\n",
    "    #commitmentDuration = \"OneMonth\",\n",
    "    provisionedModelName = provisionedModelName,\n",
    "    modelId = modelId\n",
    ")\n",
    "provisionedModelId = response[\"provisionedModelArn\"]\n",
    "\n",
    "print(\"provisionedModelId:\", provisionedModelId)"
   ]
  },
  {
   "cell_type": "code",
   "execution_count": 192,
   "id": "2709fb31",
   "metadata": {
    "scrolled": true
   },
   "outputs": [
    {
     "data": {
      "text/plain": [
       "[{'provisionedModelName': 'PT-TitanExpress-nelsmarketplace-202311231703',\n",
       "  'provisionedModelArn': 'arn:aws:bedrock:us-west-2:889960878219:provisioned-model/v007r2svaqtt',\n",
       "  'modelArn': 'arn:aws:bedrock:us-west-2:889960878219:custom-model/amazon.titan-text-express-v1:0:8k/0mqkb0z089rr',\n",
       "  'desiredModelArn': 'arn:aws:bedrock:us-west-2:889960878219:custom-model/amazon.titan-text-express-v1:0:8k/0mqkb0z089rr',\n",
       "  'foundationModelArn': 'arn:aws:bedrock:us-west-2::foundation-model/amazon.titan-text-express-v1:0:8k',\n",
       "  'modelUnits': 0,\n",
       "  'desiredModelUnits': 1,\n",
       "  'status': 'Creating',\n",
       "  'creationTime': datetime.datetime(2023, 11, 24, 8, 6, 37, 610000, tzinfo=tzutc()),\n",
       "  'lastModifiedTime': datetime.datetime(2023, 11, 24, 8, 6, 37, 610000, tzinfo=tzutc())}]"
      ]
     },
     "execution_count": 192,
     "metadata": {},
     "output_type": "execute_result"
    }
   ],
   "source": [
    "response = bedrock.list_provisioned_model_throughputs()[\"provisionedModelSummaries\"]\n",
    "response"
   ]
  },
  {
   "cell_type": "code",
   "execution_count": 195,
   "id": "5c5c0597",
   "metadata": {
    "scrolled": true
   },
   "outputs": [
    {
     "data": {
      "text/plain": [
       "'InService'"
      ]
     },
     "execution_count": 195,
     "metadata": {},
     "output_type": "execute_result"
    }
   ],
   "source": [
    "#provisionedModelId = \"arn:aws:bedrock:us-west-2:889960878219:provisioned-model/v007r2svaqtt\"\n",
    "response = bedrock.get_provisioned_model_throughput(\n",
    "    provisionedModelId = provisionedModelId\n",
    ")\n",
    "response[\"status\"]"
   ]
  },
  {
   "cell_type": "markdown",
   "id": "75488e4c",
   "metadata": {},
   "source": [
    "### Inference"
   ]
  },
  {
   "cell_type": "markdown",
   "id": "f21af02f",
   "metadata": {},
   "source": [
    "We're ready to run inferences. We'll compare the responses of the base Titan Express model and our Custom Model version..."
   ]
  },
  {
   "cell_type": "code",
   "execution_count": 5,
   "id": "64e58e69",
   "metadata": {},
   "outputs": [],
   "source": [
    "def invoke_model(modelId, prompt):\n",
    "    response = bedrock_rt.invoke_model(\n",
    "        modelId=modelId,\n",
    "        body=json.dumps({\n",
    "            \"inputText\": f\"User: {prompt}\\n Assistant:\",\n",
    "            \"textGenerationConfig\":{\n",
    "                \"maxTokenCount\": 4000, \n",
    "                \"stopSequences\": [],\n",
    "                \"temperature\": 0,\n",
    "                \"topP\": 0.9\n",
    "            }\n",
    "        })\n",
    "    )\n",
    "    response_body = response[\"body\"].read().decode('utf8')\n",
    "    output = json.loads(response_body)[\"results\"][0][\"outputText\"]\n",
    "    return output"
   ]
  },
  {
   "cell_type": "code",
   "execution_count": 6,
   "id": "2613ef32",
   "metadata": {},
   "outputs": [],
   "source": [
    "prompt = \"Do your items come from far away?\""
   ]
  },
  {
   "cell_type": "code",
   "execution_count": 7,
   "id": "72f4466a",
   "metadata": {
    "scrolled": true
   },
   "outputs": [
    {
     "name": "stdout",
     "output_type": "stream",
     "text": [
      "Base FM response - Amazon Titan Express v1\n",
      "\n",
      " \n",
      "Hello! I am an AI assistant developed by Amazon Titan Foundation Models. I have been trained on vast amounts of data, making me capable of understanding and generating human-like text. My development has been focused on continuously improving my performance and capabilities, allowing me to assist users with various tasks. I am always learning and adapting, thanks to the ongoing effort of my Amazon AWS team.\n",
      "\n",
      "I am designed to be a helpful and efficient assistant, capable of handling a wide range of tasks. Whether you need information, assistance with shopping, or any other type of help, I am here to provide you with the best possible service.\n",
      "\n",
      "One of the key features of my AI technology is natural language processing. This allows me to understand and respond to user queries in a more intuitive and natural way. I can parse and analyze large volumes of text, understand the context, and generate responses that are relevant and helpful.\n",
      "\n",
      "Another important aspect of my development is machine learning. I am able to learn from my experiences and improve my performance over time. This means that I can get better at understanding user needs and providing accurate and helpful responses.\n",
      "\n",
      "I am also designed to be highly scalable and reliable. I can handle large amounts of traffic and provide fast and accurate responses to users from all over the world. This makes me an ideal assistant for businesses and organizations that require 24/7 support.\n",
      "\n",
      "In addition to my technical capabilities, I am also committed to providing excellent customer service. I am always available to answer user questions and provide assistance. I strive to create a positive and enjoyable experience for all users, and I will do everything I can to ensure that they are satisfied with my services.\n",
      "\n",
      "Overall, I am an AI assistant that is designed to be helpful, efficient, and scalable. I am capable of handling a wide range of tasks and providing accurate and helpful responses to users from all over the world. If you have any questions or need assistance, please don't hesitate to reach out to me.\n"
     ]
    }
   ],
   "source": [
    "### Vanilla FM...\n",
    "output = invoke_model(\n",
    "    modelId = \"amazon.titan-text-express-v1\",\n",
    "    prompt = prompt\n",
    ")\n",
    "print(\"Base FM response - Amazon Titan Express v1\\n\\n\", output)"
   ]
  },
  {
   "cell_type": "code",
   "execution_count": 8,
   "id": "9e750cef",
   "metadata": {
    "scrolled": true
   },
   "outputs": [
    {
     "name": "stdout",
     "output_type": "stream",
     "text": [
      "Custom FM response - Custom model arn:aws:bedrock:us-west-2:889960878219:provisioned-model/v007r2svaqtt\n",
      "\n",
      "  Our items are made in Cali and directly distributed to other major cities of Colombia: Barranquilla, Bogotá, Cartagena, and Medellin.\n"
     ]
    }
   ],
   "source": [
    "### Custom model...\n",
    "provisionedModelId = \"arn:aws:bedrock:us-west-2:889960878219:provisioned-model/v007r2svaqtt\"\n",
    "output = invoke_model(\n",
    "    modelId = provisionedModelId,\n",
    "    prompt = prompt\n",
    ")\n",
    "print(f\"Custom FM response - Custom model {provisionedModelId}\\n\\n\", output)"
   ]
  },
  {
   "cell_type": "code",
   "execution_count": null,
   "id": "6bd88649",
   "metadata": {
    "scrolled": true
   },
   "outputs": [],
   "source": [
    "### DELETE PT\n",
    "#provisionedModelId = \"arn:aws:bedrock:us-west-2:889960878219:provisioned-model/v007r2svaqtt\"\n",
    "#response = bedrock.delete_provisioned_model_throughput(\n",
    "#     provisionedModelId = provisionedModelId\n",
    "#)\n",
    "#response"
   ]
  },
  {
   "cell_type": "code",
   "execution_count": null,
   "id": "98a22b33",
   "metadata": {},
   "outputs": [],
   "source": []
  }
 ],
 "metadata": {
  "availableInstances": [
   {
    "_defaultOrder": 0,
    "_isFastLaunch": true,
    "category": "General purpose",
    "gpuNum": 0,
    "hideHardwareSpecs": false,
    "memoryGiB": 4,
    "name": "ml.t3.medium",
    "vcpuNum": 2
   },
   {
    "_defaultOrder": 1,
    "_isFastLaunch": false,
    "category": "General purpose",
    "gpuNum": 0,
    "hideHardwareSpecs": false,
    "memoryGiB": 8,
    "name": "ml.t3.large",
    "vcpuNum": 2
   },
   {
    "_defaultOrder": 2,
    "_isFastLaunch": false,
    "category": "General purpose",
    "gpuNum": 0,
    "hideHardwareSpecs": false,
    "memoryGiB": 16,
    "name": "ml.t3.xlarge",
    "vcpuNum": 4
   },
   {
    "_defaultOrder": 3,
    "_isFastLaunch": false,
    "category": "General purpose",
    "gpuNum": 0,
    "hideHardwareSpecs": false,
    "memoryGiB": 32,
    "name": "ml.t3.2xlarge",
    "vcpuNum": 8
   },
   {
    "_defaultOrder": 4,
    "_isFastLaunch": true,
    "category": "General purpose",
    "gpuNum": 0,
    "hideHardwareSpecs": false,
    "memoryGiB": 8,
    "name": "ml.m5.large",
    "vcpuNum": 2
   },
   {
    "_defaultOrder": 5,
    "_isFastLaunch": false,
    "category": "General purpose",
    "gpuNum": 0,
    "hideHardwareSpecs": false,
    "memoryGiB": 16,
    "name": "ml.m5.xlarge",
    "vcpuNum": 4
   },
   {
    "_defaultOrder": 6,
    "_isFastLaunch": false,
    "category": "General purpose",
    "gpuNum": 0,
    "hideHardwareSpecs": false,
    "memoryGiB": 32,
    "name": "ml.m5.2xlarge",
    "vcpuNum": 8
   },
   {
    "_defaultOrder": 7,
    "_isFastLaunch": false,
    "category": "General purpose",
    "gpuNum": 0,
    "hideHardwareSpecs": false,
    "memoryGiB": 64,
    "name": "ml.m5.4xlarge",
    "vcpuNum": 16
   },
   {
    "_defaultOrder": 8,
    "_isFastLaunch": false,
    "category": "General purpose",
    "gpuNum": 0,
    "hideHardwareSpecs": false,
    "memoryGiB": 128,
    "name": "ml.m5.8xlarge",
    "vcpuNum": 32
   },
   {
    "_defaultOrder": 9,
    "_isFastLaunch": false,
    "category": "General purpose",
    "gpuNum": 0,
    "hideHardwareSpecs": false,
    "memoryGiB": 192,
    "name": "ml.m5.12xlarge",
    "vcpuNum": 48
   },
   {
    "_defaultOrder": 10,
    "_isFastLaunch": false,
    "category": "General purpose",
    "gpuNum": 0,
    "hideHardwareSpecs": false,
    "memoryGiB": 256,
    "name": "ml.m5.16xlarge",
    "vcpuNum": 64
   },
   {
    "_defaultOrder": 11,
    "_isFastLaunch": false,
    "category": "General purpose",
    "gpuNum": 0,
    "hideHardwareSpecs": false,
    "memoryGiB": 384,
    "name": "ml.m5.24xlarge",
    "vcpuNum": 96
   },
   {
    "_defaultOrder": 12,
    "_isFastLaunch": false,
    "category": "General purpose",
    "gpuNum": 0,
    "hideHardwareSpecs": false,
    "memoryGiB": 8,
    "name": "ml.m5d.large",
    "vcpuNum": 2
   },
   {
    "_defaultOrder": 13,
    "_isFastLaunch": false,
    "category": "General purpose",
    "gpuNum": 0,
    "hideHardwareSpecs": false,
    "memoryGiB": 16,
    "name": "ml.m5d.xlarge",
    "vcpuNum": 4
   },
   {
    "_defaultOrder": 14,
    "_isFastLaunch": false,
    "category": "General purpose",
    "gpuNum": 0,
    "hideHardwareSpecs": false,
    "memoryGiB": 32,
    "name": "ml.m5d.2xlarge",
    "vcpuNum": 8
   },
   {
    "_defaultOrder": 15,
    "_isFastLaunch": false,
    "category": "General purpose",
    "gpuNum": 0,
    "hideHardwareSpecs": false,
    "memoryGiB": 64,
    "name": "ml.m5d.4xlarge",
    "vcpuNum": 16
   },
   {
    "_defaultOrder": 16,
    "_isFastLaunch": false,
    "category": "General purpose",
    "gpuNum": 0,
    "hideHardwareSpecs": false,
    "memoryGiB": 128,
    "name": "ml.m5d.8xlarge",
    "vcpuNum": 32
   },
   {
    "_defaultOrder": 17,
    "_isFastLaunch": false,
    "category": "General purpose",
    "gpuNum": 0,
    "hideHardwareSpecs": false,
    "memoryGiB": 192,
    "name": "ml.m5d.12xlarge",
    "vcpuNum": 48
   },
   {
    "_defaultOrder": 18,
    "_isFastLaunch": false,
    "category": "General purpose",
    "gpuNum": 0,
    "hideHardwareSpecs": false,
    "memoryGiB": 256,
    "name": "ml.m5d.16xlarge",
    "vcpuNum": 64
   },
   {
    "_defaultOrder": 19,
    "_isFastLaunch": false,
    "category": "General purpose",
    "gpuNum": 0,
    "hideHardwareSpecs": false,
    "memoryGiB": 384,
    "name": "ml.m5d.24xlarge",
    "vcpuNum": 96
   },
   {
    "_defaultOrder": 20,
    "_isFastLaunch": false,
    "category": "General purpose",
    "gpuNum": 0,
    "hideHardwareSpecs": true,
    "memoryGiB": 0,
    "name": "ml.geospatial.interactive",
    "supportedImageNames": [
     "sagemaker-geospatial-v1-0"
    ],
    "vcpuNum": 0
   },
   {
    "_defaultOrder": 21,
    "_isFastLaunch": true,
    "category": "Compute optimized",
    "gpuNum": 0,
    "hideHardwareSpecs": false,
    "memoryGiB": 4,
    "name": "ml.c5.large",
    "vcpuNum": 2
   },
   {
    "_defaultOrder": 22,
    "_isFastLaunch": false,
    "category": "Compute optimized",
    "gpuNum": 0,
    "hideHardwareSpecs": false,
    "memoryGiB": 8,
    "name": "ml.c5.xlarge",
    "vcpuNum": 4
   },
   {
    "_defaultOrder": 23,
    "_isFastLaunch": false,
    "category": "Compute optimized",
    "gpuNum": 0,
    "hideHardwareSpecs": false,
    "memoryGiB": 16,
    "name": "ml.c5.2xlarge",
    "vcpuNum": 8
   },
   {
    "_defaultOrder": 24,
    "_isFastLaunch": false,
    "category": "Compute optimized",
    "gpuNum": 0,
    "hideHardwareSpecs": false,
    "memoryGiB": 32,
    "name": "ml.c5.4xlarge",
    "vcpuNum": 16
   },
   {
    "_defaultOrder": 25,
    "_isFastLaunch": false,
    "category": "Compute optimized",
    "gpuNum": 0,
    "hideHardwareSpecs": false,
    "memoryGiB": 72,
    "name": "ml.c5.9xlarge",
    "vcpuNum": 36
   },
   {
    "_defaultOrder": 26,
    "_isFastLaunch": false,
    "category": "Compute optimized",
    "gpuNum": 0,
    "hideHardwareSpecs": false,
    "memoryGiB": 96,
    "name": "ml.c5.12xlarge",
    "vcpuNum": 48
   },
   {
    "_defaultOrder": 27,
    "_isFastLaunch": false,
    "category": "Compute optimized",
    "gpuNum": 0,
    "hideHardwareSpecs": false,
    "memoryGiB": 144,
    "name": "ml.c5.18xlarge",
    "vcpuNum": 72
   },
   {
    "_defaultOrder": 28,
    "_isFastLaunch": false,
    "category": "Compute optimized",
    "gpuNum": 0,
    "hideHardwareSpecs": false,
    "memoryGiB": 192,
    "name": "ml.c5.24xlarge",
    "vcpuNum": 96
   },
   {
    "_defaultOrder": 29,
    "_isFastLaunch": true,
    "category": "Accelerated computing",
    "gpuNum": 1,
    "hideHardwareSpecs": false,
    "memoryGiB": 16,
    "name": "ml.g4dn.xlarge",
    "vcpuNum": 4
   },
   {
    "_defaultOrder": 30,
    "_isFastLaunch": false,
    "category": "Accelerated computing",
    "gpuNum": 1,
    "hideHardwareSpecs": false,
    "memoryGiB": 32,
    "name": "ml.g4dn.2xlarge",
    "vcpuNum": 8
   },
   {
    "_defaultOrder": 31,
    "_isFastLaunch": false,
    "category": "Accelerated computing",
    "gpuNum": 1,
    "hideHardwareSpecs": false,
    "memoryGiB": 64,
    "name": "ml.g4dn.4xlarge",
    "vcpuNum": 16
   },
   {
    "_defaultOrder": 32,
    "_isFastLaunch": false,
    "category": "Accelerated computing",
    "gpuNum": 1,
    "hideHardwareSpecs": false,
    "memoryGiB": 128,
    "name": "ml.g4dn.8xlarge",
    "vcpuNum": 32
   },
   {
    "_defaultOrder": 33,
    "_isFastLaunch": false,
    "category": "Accelerated computing",
    "gpuNum": 4,
    "hideHardwareSpecs": false,
    "memoryGiB": 192,
    "name": "ml.g4dn.12xlarge",
    "vcpuNum": 48
   },
   {
    "_defaultOrder": 34,
    "_isFastLaunch": false,
    "category": "Accelerated computing",
    "gpuNum": 1,
    "hideHardwareSpecs": false,
    "memoryGiB": 256,
    "name": "ml.g4dn.16xlarge",
    "vcpuNum": 64
   },
   {
    "_defaultOrder": 35,
    "_isFastLaunch": false,
    "category": "Accelerated computing",
    "gpuNum": 1,
    "hideHardwareSpecs": false,
    "memoryGiB": 61,
    "name": "ml.p3.2xlarge",
    "vcpuNum": 8
   },
   {
    "_defaultOrder": 36,
    "_isFastLaunch": false,
    "category": "Accelerated computing",
    "gpuNum": 4,
    "hideHardwareSpecs": false,
    "memoryGiB": 244,
    "name": "ml.p3.8xlarge",
    "vcpuNum": 32
   },
   {
    "_defaultOrder": 37,
    "_isFastLaunch": false,
    "category": "Accelerated computing",
    "gpuNum": 8,
    "hideHardwareSpecs": false,
    "memoryGiB": 488,
    "name": "ml.p3.16xlarge",
    "vcpuNum": 64
   },
   {
    "_defaultOrder": 38,
    "_isFastLaunch": false,
    "category": "Accelerated computing",
    "gpuNum": 8,
    "hideHardwareSpecs": false,
    "memoryGiB": 768,
    "name": "ml.p3dn.24xlarge",
    "vcpuNum": 96
   },
   {
    "_defaultOrder": 39,
    "_isFastLaunch": false,
    "category": "Memory Optimized",
    "gpuNum": 0,
    "hideHardwareSpecs": false,
    "memoryGiB": 16,
    "name": "ml.r5.large",
    "vcpuNum": 2
   },
   {
    "_defaultOrder": 40,
    "_isFastLaunch": false,
    "category": "Memory Optimized",
    "gpuNum": 0,
    "hideHardwareSpecs": false,
    "memoryGiB": 32,
    "name": "ml.r5.xlarge",
    "vcpuNum": 4
   },
   {
    "_defaultOrder": 41,
    "_isFastLaunch": false,
    "category": "Memory Optimized",
    "gpuNum": 0,
    "hideHardwareSpecs": false,
    "memoryGiB": 64,
    "name": "ml.r5.2xlarge",
    "vcpuNum": 8
   },
   {
    "_defaultOrder": 42,
    "_isFastLaunch": false,
    "category": "Memory Optimized",
    "gpuNum": 0,
    "hideHardwareSpecs": false,
    "memoryGiB": 128,
    "name": "ml.r5.4xlarge",
    "vcpuNum": 16
   },
   {
    "_defaultOrder": 43,
    "_isFastLaunch": false,
    "category": "Memory Optimized",
    "gpuNum": 0,
    "hideHardwareSpecs": false,
    "memoryGiB": 256,
    "name": "ml.r5.8xlarge",
    "vcpuNum": 32
   },
   {
    "_defaultOrder": 44,
    "_isFastLaunch": false,
    "category": "Memory Optimized",
    "gpuNum": 0,
    "hideHardwareSpecs": false,
    "memoryGiB": 384,
    "name": "ml.r5.12xlarge",
    "vcpuNum": 48
   },
   {
    "_defaultOrder": 45,
    "_isFastLaunch": false,
    "category": "Memory Optimized",
    "gpuNum": 0,
    "hideHardwareSpecs": false,
    "memoryGiB": 512,
    "name": "ml.r5.16xlarge",
    "vcpuNum": 64
   },
   {
    "_defaultOrder": 46,
    "_isFastLaunch": false,
    "category": "Memory Optimized",
    "gpuNum": 0,
    "hideHardwareSpecs": false,
    "memoryGiB": 768,
    "name": "ml.r5.24xlarge",
    "vcpuNum": 96
   },
   {
    "_defaultOrder": 47,
    "_isFastLaunch": false,
    "category": "Accelerated computing",
    "gpuNum": 1,
    "hideHardwareSpecs": false,
    "memoryGiB": 16,
    "name": "ml.g5.xlarge",
    "vcpuNum": 4
   },
   {
    "_defaultOrder": 48,
    "_isFastLaunch": false,
    "category": "Accelerated computing",
    "gpuNum": 1,
    "hideHardwareSpecs": false,
    "memoryGiB": 32,
    "name": "ml.g5.2xlarge",
    "vcpuNum": 8
   },
   {
    "_defaultOrder": 49,
    "_isFastLaunch": false,
    "category": "Accelerated computing",
    "gpuNum": 1,
    "hideHardwareSpecs": false,
    "memoryGiB": 64,
    "name": "ml.g5.4xlarge",
    "vcpuNum": 16
   },
   {
    "_defaultOrder": 50,
    "_isFastLaunch": false,
    "category": "Accelerated computing",
    "gpuNum": 1,
    "hideHardwareSpecs": false,
    "memoryGiB": 128,
    "name": "ml.g5.8xlarge",
    "vcpuNum": 32
   },
   {
    "_defaultOrder": 51,
    "_isFastLaunch": false,
    "category": "Accelerated computing",
    "gpuNum": 1,
    "hideHardwareSpecs": false,
    "memoryGiB": 256,
    "name": "ml.g5.16xlarge",
    "vcpuNum": 64
   },
   {
    "_defaultOrder": 52,
    "_isFastLaunch": false,
    "category": "Accelerated computing",
    "gpuNum": 4,
    "hideHardwareSpecs": false,
    "memoryGiB": 192,
    "name": "ml.g5.12xlarge",
    "vcpuNum": 48
   },
   {
    "_defaultOrder": 53,
    "_isFastLaunch": false,
    "category": "Accelerated computing",
    "gpuNum": 4,
    "hideHardwareSpecs": false,
    "memoryGiB": 384,
    "name": "ml.g5.24xlarge",
    "vcpuNum": 96
   },
   {
    "_defaultOrder": 54,
    "_isFastLaunch": false,
    "category": "Accelerated computing",
    "gpuNum": 8,
    "hideHardwareSpecs": false,
    "memoryGiB": 768,
    "name": "ml.g5.48xlarge",
    "vcpuNum": 192
   },
   {
    "_defaultOrder": 55,
    "_isFastLaunch": false,
    "category": "Accelerated computing",
    "gpuNum": 8,
    "hideHardwareSpecs": false,
    "memoryGiB": 1152,
    "name": "ml.p4d.24xlarge",
    "vcpuNum": 96
   },
   {
    "_defaultOrder": 56,
    "_isFastLaunch": false,
    "category": "Accelerated computing",
    "gpuNum": 8,
    "hideHardwareSpecs": false,
    "memoryGiB": 1152,
    "name": "ml.p4de.24xlarge",
    "vcpuNum": 96
   },
   {
    "_defaultOrder": 57,
    "_isFastLaunch": false,
    "category": "Accelerated computing",
    "gpuNum": 0,
    "hideHardwareSpecs": false,
    "memoryGiB": 32,
    "name": "ml.trn1.2xlarge",
    "vcpuNum": 8
   },
   {
    "_defaultOrder": 58,
    "_isFastLaunch": false,
    "category": "Accelerated computing",
    "gpuNum": 0,
    "hideHardwareSpecs": false,
    "memoryGiB": 512,
    "name": "ml.trn1.32xlarge",
    "vcpuNum": 128
   },
   {
    "_defaultOrder": 59,
    "_isFastLaunch": false,
    "category": "Accelerated computing",
    "gpuNum": 0,
    "hideHardwareSpecs": false,
    "memoryGiB": 512,
    "name": "ml.trn1n.32xlarge",
    "vcpuNum": 128
   }
  ],
  "instance_type": "ml.t3.medium",
  "kernelspec": {
   "display_name": "Python 3 (ipykernel)",
   "language": "python",
   "name": "python3"
  },
  "language_info": {
   "codemirror_mode": {
    "name": "ipython",
    "version": 3
   },
   "file_extension": ".py",
   "mimetype": "text/x-python",
   "name": "python",
   "nbconvert_exporter": "python",
   "pygments_lexer": "ipython3",
   "version": "3.9.5"
  }
 },
 "nbformat": 4,
 "nbformat_minor": 5
}
