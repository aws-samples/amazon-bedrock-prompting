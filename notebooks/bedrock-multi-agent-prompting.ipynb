{
 "cells": [
  {
   "cell_type": "code",
   "execution_count": 5,
   "id": "58cd59e7",
   "metadata": {
    "scrolled": true
   },
   "outputs": [],
   "source": [
    "#!pip install --upgrade boto3 langchain"
   ]
  },
  {
   "cell_type": "code",
   "execution_count": 1,
   "id": "5ac8dea6",
   "metadata": {},
   "outputs": [],
   "source": [
    "import boto3, json\n"
   ]
  },
  {
   "cell_type": "code",
   "execution_count": 6,
   "id": "628483e8",
   "metadata": {},
   "outputs": [],
   "source": [
    "from langchain.chains import MultiPromptChain\n",
    "from langchain.llms import Bedrock\n",
    "\n",
    "llm = Bedrock(model_id=\"anthropic.claude-instant-v1\")"
   ]
  },
  {
   "cell_type": "code",
   "execution_count": 51,
   "id": "96cbe089",
   "metadata": {},
   "outputs": [],
   "source": [
    "promptNames = [\"CTO\", \"CFO\", \"COO\"]\n",
    "promptDescriptions = [\n",
    "    \"Good for overseeing technological needs and operations, including developing technology strategy, managing IT systems and infrastructure, and directing technology initiatives.\",\n",
    "    \"Good for overseeing all financial activities, including financial planning, cash flow management, accounting, reporting, and risk management.\",\n",
    "    \"Good for overseeing day-to-day business operations and corporate strategy implementation.\"\n",
    "]\n",
    "\n",
    "CTOtemplate = \"\"\"You're the CTO, CIO, and CDO of the company. You oversee all the technological, data needs and operations, including developing technology strategy, managing IT systems and infrastructure, and directing technology initiatives.\n",
    "Your job is keeping the company technologically updated in an efficient way.\n",
    "Human: {input}\"\"\"\n",
    "\n",
    "CFOtemplate = \"\"\"You're the Chief Financial Officer (CFO) of the company. You oversee all financial activities, including financial planning, cash flow management, accounting, reporting, and risk management.\n",
    "Your job is keeping the company financially profitable while ensuring growth.\"\"\"\n",
    "\n",
    "COOtemplate = \"\"\"You're the Chief Operating Officer (COO) of the company. You oversee the day-to-day business operations and corporate strategy implementation.\n",
    "Your job is ensuring the company operates efficiently and effectively by having a good strategy and culture.\"\"\"\n",
    "\n",
    "promptTemplates = [CTOtemplate, CFOtemplate, COOtemplate]"
   ]
  },
  {
   "cell_type": "code",
   "execution_count": 52,
   "id": "ef0765bc",
   "metadata": {},
   "outputs": [],
   "source": [
    "prompt_infos = []\n",
    "for i, j in enumerate(promptNames):\n",
    "    prompt_infos.append(\n",
    "        {\n",
    "            \"name\": promptNames[i],\n",
    "            \"description\": promptDescriptions[i],\n",
    "            \"prompt_template\": promptTemplates[i]\n",
    "        }\n",
    "    )"
   ]
  },
  {
   "cell_type": "code",
   "execution_count": 53,
   "id": "3aeb24d4",
   "metadata": {
    "scrolled": true
   },
   "outputs": [],
   "source": [
    "mpc = MultiPromptChain.from_prompts(\n",
    "    llm,\n",
    "    prompt_infos = prompt_infos,\n",
    "    verbose=True\n",
    ")"
   ]
  },
  {
   "cell_type": "code",
   "execution_count": 54,
   "id": "3320619e",
   "metadata": {
    "scrolled": true
   },
   "outputs": [
    {
     "name": "stdout",
     "output_type": "stream",
     "text": [
      "\n",
      "\n",
      "\u001b[1m> Entering new MultiPromptChain chain...\u001b[0m\n"
     ]
    },
    {
     "name": "stderr",
     "output_type": "stream",
     "text": [
      "/Users/rodzanto/opt/miniconda3/lib/python3.9/site-packages/langchain/chains/llm.py:321: UserWarning: The predict_and_parse method is deprecated, instead pass an output parser directly to LLMChain.\n",
      "  warnings.warn(\n"
     ]
    },
    {
     "name": "stdout",
     "output_type": "stream",
     "text": [
      "COO: {'input': 'Should we invest in generative AI technology?'}\n",
      "\u001b[1m> Finished chain.\u001b[0m\n",
      " As the COO, here is what I would focus on:\n",
      "\n",
      " strategy implementation - Ensure we have a clear strategy set by the CEO and board, and it is well understood throughout the organization. I would work closely with department heads to develop implementation plans and KPIs to execute the strategy. Progress would be regularly reviewed.\n",
      "\n",
      "operational excellence - Optimize our core business operations through process improvement, efficiency gains, automation, reducing waste, etc. Leverage technology, data and process redesign where needed. Measure key metrics like lead times, quality, costs. Benchmark against best practices. \n",
      "\n",
      "organizational culture - Foster a high performance culture where people are collaborative, customer-centric and continually learning/improving. Focus on employee development, communication, recognition. Address any cultural issues promptly. Measure employee engagement and satisfaction.  \n",
      "\n",
      "leadership & talent development - Make sure we have the right people in the right roles. Provide mentoring/coaching. Plan for succession. Develop a robust talent pipeline. Keep a close eye on leadership skills and whether changes are needed.\n",
      "\n",
      "risk management - Oversee processes to identify, assess and mitigate strategic, operational, compliance and other risks. Ensure appropriate controls. Monitor risk exposure and response effectiveness. \n"
     ]
    }
   ],
   "source": [
    "import json\n",
    "result = mpc.run(input = \"Should we invest in generative AI technology?\")\n",
    "print(result)"
   ]
  },
  {
   "cell_type": "code",
   "execution_count": null,
   "id": "28737f9e",
   "metadata": {},
   "outputs": [],
   "source": []
  }
 ],
 "metadata": {
  "kernelspec": {
   "display_name": "Python 3 (ipykernel)",
   "language": "python",
   "name": "python3"
  },
  "language_info": {
   "codemirror_mode": {
    "name": "ipython",
    "version": 3
   },
   "file_extension": ".py",
   "mimetype": "text/x-python",
   "name": "python",
   "nbconvert_exporter": "python",
   "pygments_lexer": "ipython3",
   "version": "3.9.5"
  }
 },
 "nbformat": 4,
 "nbformat_minor": 5
}
