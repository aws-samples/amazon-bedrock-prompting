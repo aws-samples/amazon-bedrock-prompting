{
 "cells": [
  {
   "cell_type": "markdown",
   "id": "a15f81e3-0976-4ff7-8ae1-ddb5fbdf1d94",
   "metadata": {},
   "source": [
    "# Introduction to Bedrock - Building with Bedrock Embeddings"
   ]
  },
  {
   "cell_type": "code",
   "execution_count": null,
   "id": "800edbd3-f31c-436c-93e4-a3e791c85549",
   "metadata": {
    "scrolled": true,
    "tags": []
   },
   "outputs": [],
   "source": [
    "#!unzip ../bedrock-preview-documentation/SDK/bedrock-python-sdk.zip -d /root/bedrock\n",
    "\n",
    "#!pip install --upgrade pip\n",
    "#!pip install scikit-learn seaborn\n",
    "\n",
    "#!pwd\n",
    "#!python3 -m pip install /root/bedrock/boto3-1.26.142-py3-none-any.whl\n",
    "#!python3 -m pip install /root/bedrock/botocore-1.29.142-py3-none-any.whl"
   ]
  },
  {
   "cell_type": "code",
   "execution_count": 14,
   "id": "32bd4033-cdf5-41c0-ae64-138193af773c",
   "metadata": {
    "collapsed": true,
    "jupyter": {
     "outputs_hidden": true,
     "source_hidden": true
    },
    "tags": []
   },
   "outputs": [
    {
     "name": "stdout",
     "output_type": "stream",
     "text": [
      "/root/bedrock-python-sdk\n",
      "\u001b[33mWARNING: Running pip as the 'root' user can result in broken permissions and conflicting behaviour with the system package manager. It is recommended to use a virtual environment instead: https://pip.pypa.io/warnings/venv\u001b[0m\u001b[33m\n",
      "\u001b[0m\n",
      "\u001b[1m[\u001b[0m\u001b[34;49mnotice\u001b[0m\u001b[1;39;49m]\u001b[0m\u001b[39;49m A new release of pip is available: \u001b[0m\u001b[31;49m23.0.1\u001b[0m\u001b[39;49m -> \u001b[0m\u001b[32;49m23.1.2\u001b[0m\n",
      "\u001b[1m[\u001b[0m\u001b[34;49mnotice\u001b[0m\u001b[1;39;49m]\u001b[0m\u001b[39;49m To update, run: \u001b[0m\u001b[32;49mpip install --upgrade pip\u001b[0m\n",
      "\u001b[33mWARNING: Running pip as the 'root' user can result in broken permissions and conflicting behaviour with the system package manager. It is recommended to use a virtual environment instead: https://pip.pypa.io/warnings/venv\u001b[0m\u001b[33m\n",
      "\u001b[0m\n",
      "\u001b[1m[\u001b[0m\u001b[34;49mnotice\u001b[0m\u001b[1;39;49m]\u001b[0m\u001b[39;49m A new release of pip is available: \u001b[0m\u001b[31;49m23.0.1\u001b[0m\u001b[39;49m -> \u001b[0m\u001b[32;49m23.1.2\u001b[0m\n",
      "\u001b[1m[\u001b[0m\u001b[34;49mnotice\u001b[0m\u001b[1;39;49m]\u001b[0m\u001b[39;49m To update, run: \u001b[0m\u001b[32;49mpip install --upgrade pip\u001b[0m\n"
     ]
    }
   ],
   "source": [
    "!pwd\n",
    "!python3 -m pip install boto3-1.26.142-py3-none-any.whl --quiet\n",
    "!python3 -m pip install botocore-1.29.142-py3-none-any.whl --quiet"
   ]
  },
  {
   "cell_type": "code",
   "execution_count": 20,
   "id": "14d82998-f5d1-4624-a54f-f9d04422b8d4",
   "metadata": {
    "tags": []
   },
   "outputs": [],
   "source": [
    "import boto3\n",
    "import json\n",
    "import csv\n",
    "from datetime import datetime\n",
    "\n",
    "bedrock = boto3.client(\n",
    " service_name='bedrock',\n",
    " region_name='us-east-1',\n",
    " endpoint_url='https://bedrock.us-east-1.amazonaws.com'\n",
    ")"
   ]
  },
  {
   "cell_type": "code",
   "execution_count": 21,
   "id": "c10722be-2f83-4f8c-89a4-7d9b181029f5",
   "metadata": {
    "scrolled": true,
    "tags": []
   },
   "outputs": [
    {
     "data": {
      "text/plain": [
       "{'ResponseMetadata': {'RequestId': '422f61fc-41f6-45a8-a688-68d8dfecfa1c',\n",
       "  'HTTPStatusCode': 200,\n",
       "  'HTTPHeaders': {'date': 'Wed, 07 Jun 2023 20:18:57 GMT',\n",
       "   'content-type': 'application/json',\n",
       "   'content-length': '861',\n",
       "   'connection': 'keep-alive',\n",
       "   'x-amzn-requestid': '422f61fc-41f6-45a8-a688-68d8dfecfa1c'},\n",
       "  'RetryAttempts': 0},\n",
       " 'modelSummaries': [{'modelArn': 'arn:aws:bedrock:us-east-1::foundation-model/amazon.titan-tg1-large',\n",
       "   'modelId': 'amazon.titan-tg1-large'},\n",
       "  {'modelArn': 'arn:aws:bedrock:us-east-1::foundation-model/amazon.titan-e1t-medium',\n",
       "   'modelId': 'amazon.titan-e1t-medium'},\n",
       "  {'modelArn': 'arn:aws:bedrock:us-east-1::foundation-model/stability.stable-diffusion-xl',\n",
       "   'modelId': 'stability.stable-diffusion-xl'},\n",
       "  {'modelArn': 'arn:aws:bedrock:us-east-1::foundation-model/ai21.j2-grande-instruct',\n",
       "   'modelId': 'ai21.j2-grande-instruct'},\n",
       "  {'modelArn': 'arn:aws:bedrock:us-east-1::foundation-model/ai21.j2-jumbo-instruct',\n",
       "   'modelId': 'ai21.j2-jumbo-instruct'},\n",
       "  {'modelArn': 'arn:aws:bedrock:us-east-1::foundation-model/anthropic.claude-instant-v1',\n",
       "   'modelId': 'anthropic.claude-instant-v1'},\n",
       "  {'modelArn': 'arn:aws:bedrock:us-east-1::foundation-model/anthropic.claude-v1',\n",
       "   'modelId': 'anthropic.claude-v1'}]}"
      ]
     },
     "execution_count": 21,
     "metadata": {},
     "output_type": "execute_result"
    }
   ],
   "source": [
    "bedrock.list_foundation_models()"
   ]
  },
  {
   "cell_type": "code",
   "execution_count": 74,
   "id": "968017bf-c186-4897-8a38-ecdbe276b6cf",
   "metadata": {
    "tags": []
   },
   "outputs": [],
   "source": [
    "def call_bedrock(modelId, prompt_data):\n",
    "    if 'amazon' in modelId:\n",
    "        body = json.dumps({\"inputText\": prompt_data})\n",
    "        #modelId = 'amazon.titan-tg1-large'\n",
    "    elif 'anthropic' in modelId:\n",
    "        body = json.dumps({\"prompt\": prompt_data, \"max_tokens_to_sample\": 4096})\n",
    "        #modelId = 'anthropic.claude-instant-v1'\n",
    "    elif 'ai21' in modelId:\n",
    "        body = json.dumps({\"prompt\": prompt_data,\n",
    "            \"maxTokens\":4096,\n",
    "            \"stopSequences\":[],\n",
    "            \"temperature\":0,\n",
    "            \"topP\":0.9\n",
    "        })\n",
    "    elif 'stability' in modelId:\n",
    "        body = json.dumps({\"text_prompts\":[{\"text\":prompt_data}]}) \n",
    "        #modelId = 'stability.stable-diffusion-xl'\n",
    "    else:\n",
    "        print('Parameter model must be one of titan, claude, j2, or sd')\n",
    "        return\n",
    "    accept = 'application/json'\n",
    "    contentType = 'application/json'\n",
    "\n",
    "    before = datetime.now()\n",
    "    response = bedrock.invoke_model(body=body, modelId=modelId, accept=accept, contentType=contentType)\n",
    "    latency = (datetime.now() - before)\n",
    "    response_body = json.loads(response.get('body').read())\n",
    "\n",
    "    if 'amazon' in modelId:\n",
    "        response = response_body.get('results')[0].get('outputText')\n",
    "    elif 'anthropic' in modelId:\n",
    "        response = response_body.get('completion')\n",
    "    elif 'ai21' in modelId:\n",
    "        response = response_body.get('completions')[0].get('data').get('text')\n",
    "\n",
    "    #Add interaction to the local CSV file...\n",
    "    #column_name = [\"timestamp\", \"modelId\", \"prompt\", \"response\", \"latency\"] #The name of the columns\n",
    "    data = [datetime.now(), modelId, prompt_data, response, latency] #the data\n",
    "    with open('prompt-data.csv', 'a') as f:\n",
    "        writer = csv.writer(f)\n",
    "        #writer.writerow(column_name)\n",
    "        writer.writerow(data)\n",
    "    \n",
    "    return response, latency"
   ]
  },
  {
   "cell_type": "markdown",
   "id": "087714ef-f8c7-4926-a596-efa0dfbdd8a8",
   "metadata": {},
   "source": [
    "### Titan"
   ]
  },
  {
   "cell_type": "code",
   "execution_count": 29,
   "id": "1ca76143-f430-4dbf-a811-582d8926e05c",
   "metadata": {
    "tags": []
   },
   "outputs": [],
   "source": [
    "prompt_data = \"\"\"\n",
    "Generate a list of reasons why customers should have a Medicine Ball at home using the following data\n",
    "Weighted medicine ball for upper, lower, and full body exercises\n",
    "The ball has a lightly textured surface provides a superior grip\n",
    "Weight clearly labeled on both sides.\n",
    "Ideal for classic medicine ball workouts, including ball toss, weighted twists, squats, sit ups, and more\n",
    "The person tool to help you develop core strength, balance, and coordination.\n",
    "\n",
    "\"\"\""
   ]
  },
  {
   "cell_type": "code",
   "execution_count": 30,
   "id": "4733c8ef-3b13-4c87-8a8a-d1edb12d9371",
   "metadata": {
    "tags": []
   },
   "outputs": [
    {
     "name": "stdout",
     "output_type": "stream",
     "text": [
      "Answer:\n",
      "Customers should have a weighted medicine ball at home for the following reasons: \n",
      "1. It can be used for upper, lower, and full-body exercises.\n",
      "2. The lightly textured surface provides a superior grip.\n",
      "3. We can easily identify the weight of the ball as it is clearly labeled on both sides.\n",
      "4. It helps to develop core strength, balance, and coordination. \n",
      "\n",
      " Inference time: 0:00:02.822809\n"
     ]
    }
   ],
   "source": [
    "response, latency = call_bedrock('amazon.titan-tg1-large', prompt_data)\n",
    "print(response, \"\\n\\n\", \"Inference time:\", latency)"
   ]
  },
  {
   "cell_type": "markdown",
   "id": "a65aaa42-32db-413a-97d7-8fb7a33662f5",
   "metadata": {
    "tags": []
   },
   "source": [
    "### Claude"
   ]
  },
  {
   "cell_type": "code",
   "execution_count": 97,
   "id": "382d9a5e-bb64-4af1-95dc-56f8a6ff3990",
   "metadata": {
    "tags": []
   },
   "outputs": [],
   "source": [
    "prompt_data = \"\"\"Human: Generate a list of reasons why customers should have a Medicine Ball at home using the data inside <metadata></metadata> XML tags.\n",
    "\n",
    "<metadata>\n",
    "Weighted medicine ball for upper, lower, and full body exercises\n",
    "The ball has a lightly textured surface provides a superior grip\n",
    "Weight clearly labeled on both sides.\n",
    "Ideal for classic medicine ball workouts, including ball toss, weighted twists, squats, sit ups, and more\n",
    "The person tool to help you develop core strength, balance, and coordination.\n",
    "</metadata>\n",
    "\n",
    "Asistant:\n",
    "\"\"\""
   ]
  },
  {
   "cell_type": "code",
   "execution_count": 98,
   "id": "7e14520a-990d-46b0-a660-3ea1b5a0f75d",
   "metadata": {
    "tags": []
   },
   "outputs": [
    {
     "name": "stdout",
     "output_type": "stream",
     "text": [
      "Here is a list of reasons why customers should have a Medicine Ball at home:\n",
      "\n",
      "•It provides a weighted tool for upper, lower, and full body exercises. \n",
      "•It has a textured surface that provides a good grip.\n",
      "•The weight is clearly labeled on both sides so you know how heavy it is.\n",
      "•It can be used for classic medicine ball workouts like ball tosses, weighted twists, squats, sit ups, and more.\n",
      "•It helps develop core strength, balance, and coordination. \n",
      "\n",
      " Inference time: 0:00:02.553383\n"
     ]
    }
   ],
   "source": [
    "response, latency = call_bedrock('anthropic.claude-v1', prompt_data)\n",
    "print(response, \"\\n\\n\", \"Inference time:\", latency)"
   ]
  },
  {
   "cell_type": "markdown",
   "id": "d8860223-f1d6-430a-b6c2-81114aae7229",
   "metadata": {
    "tags": []
   },
   "source": [
    "### Jurassic-2"
   ]
  },
  {
   "cell_type": "code",
   "execution_count": 32,
   "id": "179f7724-d4f3-4dfd-b8ce-042a05d9dc2e",
   "metadata": {
    "tags": []
   },
   "outputs": [],
   "source": [
    "prompt_data =\"\"\"Generate a list of reasons why customers should have a Medicine Ball at home using the following data: Weighted medicine ball for upper, lower, and full body exercises\n",
    "The ball has a lightly textured surface provides a superior grip. Weight clearly labeled on both sides. Ideal for classic medicine ball workouts, including ball toss, weighted twists, squats, sit ups, and more. The person tool to help you develop core strength, balance, and coordination.\"\"\""
   ]
  },
  {
   "cell_type": "code",
   "execution_count": 31,
   "id": "e4d8e1b2-6e88-4790-9df8-676816d6e924",
   "metadata": {
    "tags": []
   },
   "outputs": [],
   "source": [
    "prompt_data = \"\"\"\n",
    "Generate a description for a red t-shirt\n",
    "\n",
    "\"\"\""
   ]
  },
  {
   "cell_type": "code",
   "execution_count": 54,
   "id": "ea921d6b-40a1-4ea9-9330-c68ad35bf77b",
   "metadata": {
    "tags": []
   },
   "outputs": [
    {
     "name": "stdout",
     "output_type": "stream",
     "text": [
      "Here's a description for a red t-shirt:\n",
      "The t-shirt is red, made from a soft and comfortable fabric, and fits snugly. \n",
      "\n",
      " Inference time: 0:00:00.817721\n"
     ]
    }
   ],
   "source": [
    "response, latency = call_bedrock('ai21.j2-jumbo-instruct', prompt_data)\n",
    "print(response, \"\\n\\n\", \"Inference time:\", latency)"
   ]
  },
  {
   "cell_type": "code",
   "execution_count": 32,
   "id": "76fabc4b-2830-44c4-ae6a-9448f8a94938",
   "metadata": {
    "tags": []
   },
   "outputs": [
    {
     "name": "stdout",
     "output_type": "stream",
     "text": [
      "A simple red t-shirt that can be worn as part of a uniform or paired with jeans. It is made of soft cotton and fits comfortably.  \n",
      "\n",
      " Inference time: 0:00:01.520414\n"
     ]
    }
   ],
   "source": [
    "response, latency = call_bedrock('amazon.titan-tg1-large', prompt_data)\n",
    "print(response, \"\\n\\n\", \"Inference time:\", latency)"
   ]
  },
  {
   "cell_type": "code",
   "execution_count": 33,
   "id": "75a03205-2f2a-4917-b0bb-e495637297e7",
   "metadata": {
    "tags": []
   },
   "outputs": [],
   "source": [
    "prompt_data = \"\"\"\n",
    "Human: Generate a description for a red t-shirt\n",
    "Assistant:\n",
    "\"\"\""
   ]
  },
  {
   "cell_type": "code",
   "execution_count": 34,
   "id": "4d1b7b1f-99b3-4b76-b7be-f05112cae7e1",
   "metadata": {
    "tags": []
   },
   "outputs": [
    {
     "name": "stdout",
     "output_type": "stream",
     "text": [
      " Here is a possible description for a red t-shirt:\n",
      "\n",
      "Red cotton crewneck t-shirt. Short sleeves. Round neckline. Solid bright red color. Made of 100% cotton for a soft and breathable feel. Straight cut with a relaxed, comfortable fit. Versatile staple that can be dressed up or down and paired with jeans, shorts or khakis. \n",
      "\n",
      " Inference time: 0:00:02.538685\n"
     ]
    }
   ],
   "source": [
    "response, latency = call_bedrock('anthropic.claude-v1', prompt_data)\n",
    "print(response, \"\\n\\n\", \"Inference time:\", latency)"
   ]
  },
  {
   "cell_type": "code",
   "execution_count": 35,
   "id": "e6689ae8-78f3-4721-8158-e3d3b9b2a9aa",
   "metadata": {
    "tags": []
   },
   "outputs": [],
   "source": [
    "prompt_data = \"\"\"\n",
    "Human: Generate a description for a red t-shirt\n",
    "Assistant:\n",
    "\"\"\""
   ]
  },
  {
   "cell_type": "code",
   "execution_count": 36,
   "id": "4c200a8c-ffbd-4cdb-b783-52bfa0361840",
   "metadata": {
    "tags": []
   },
   "outputs": [
    {
     "name": "stdout",
     "output_type": "stream",
     "text": [
      "A red t-shirt with a round neck and short sleeves, made from 100% cotton. \n",
      "\n",
      " Inference time: 0:00:00.538712\n"
     ]
    }
   ],
   "source": [
    "response, latency = call_bedrock('ai21.j2-jumbo-instruct', prompt_data)\n",
    "print(response, \"\\n\\n\", \"Inference time:\", latency)"
   ]
  },
  {
   "cell_type": "code",
   "execution_count": 131,
   "id": "36bd518b-6b08-4e33-8f0b-3c760c87171a",
   "metadata": {
    "tags": []
   },
   "outputs": [],
   "source": [
    "prompt_data = \"\"\"\n",
    "Complete the following instructions in order\n",
    "Intructions:\n",
    "1. Generate a description for red t-shirt\n",
    "2. Createa description for a blue hat\n",
    "3. Generate one reason why people should wear a blue hat\n",
    "\n",
    "\"\"\""
   ]
  },
  {
   "cell_type": "code",
   "execution_count": 132,
   "id": "c805927e-bdb4-41df-a49f-c96b85501b8d",
   "metadata": {
    "tags": []
   },
   "outputs": [
    {
     "name": "stdout",
     "output_type": "stream",
     "text": [
      "1. Generate a description for red t-shirt\n",
      "Red t-shirt is made of 100% cotton. It is a product of fine cotton which is highly breathable and comfortable. \n",
      "2. Createa description for a blue hat\n",
      "Blue hat is a classic accessory that can match with different styles of outfits. It is made of 100% cotton and it is adjustable. \n",
      "3. Generate one reason why people should wear a blue hat\n",
      "People should wear a blue hat because it can protect them from the sun. The blue color of the hat can also make them look more stylish. \n",
      "\n",
      " Inference time: 0:00:03.834686\n"
     ]
    }
   ],
   "source": [
    "response, latency = call_bedrock('amazon.titan-tg1-large', prompt_data)\n",
    "print(response, \"\\n\\n\", \"Inference time:\", latency)"
   ]
  },
  {
   "cell_type": "code",
   "execution_count": 139,
   "id": "2323fc87-34cb-451f-922e-675ef4aaa456",
   "metadata": {
    "tags": []
   },
   "outputs": [],
   "source": [
    "prompt_data = \"\"\"Human: Follow the instruction inside <metadata></metadata> XML tags.\n",
    "\n",
    "<metadata>\n",
    "1. Generate a description for red t-shirt\n",
    "2. Create description for a blue hat\n",
    "3. Generate one reason why people should wear a blue hat\n",
    "</metadata>\n",
    "\n",
    "Asistant:\n",
    "\"\"\""
   ]
  },
  {
   "cell_type": "code",
   "execution_count": 140,
   "id": "79261b36-a755-4a97-92f2-a22052d28dcd",
   "metadata": {
    "tags": []
   },
   "outputs": [
    {
     "name": "stdout",
     "output_type": "stream",
     "text": [
      "\n",
      "1. A red cotton t-shirt with short sleeves, round neckline and a relaxed fit.\n",
      "\n",
      "2. A navy blue baseball cap made of cotton with an adjustable strap closure.\n",
      "\n",
      "3. A blue hat can help protect your head and face from the sun's UV rays. \n",
      "\n",
      " Inference time: 0:00:02.016885\n"
     ]
    }
   ],
   "source": [
    "response, latency = call_bedrock('anthropic.claude-v1', prompt_data)\n",
    "print(response, \"\\n\\n\", \"Inference time:\", latency)"
   ]
  },
  {
   "cell_type": "code",
   "execution_count": 141,
   "id": "a3d54f31-93a8-49b8-beb9-573cc7eff3a9",
   "metadata": {
    "tags": []
   },
   "outputs": [],
   "source": [
    "prompt_data =\"\"\"Execute the following instructions: \n",
    "1. Generate a description for red t-shirt\n",
    "2. Create description for a blue hat\n",
    "3. Generate one reason why people should wear a blue hat\n",
    "\"\"\""
   ]
  },
  {
   "cell_type": "code",
   "execution_count": 142,
   "id": "0889c858-7bac-4475-a4e1-a8cd54b2167a",
   "metadata": {
    "tags": []
   },
   "outputs": [
    {
     "name": "stdout",
     "output_type": "stream",
     "text": [
      "1. A bright red t-shirt with a round neck and comfortable fit.\n",
      "2. A bright blue hat with a curved brim, adjustable strap, and breathable fabric.\n",
      "3. Wearing a blue hat can protect your head from the sun and keep you cool. \n",
      "\n",
      " Inference time: 0:00:01.282441\n"
     ]
    }
   ],
   "source": [
    "response, latency = call_bedrock('ai21.j2-jumbo-instruct', prompt_data)\n",
    "print(response, \"\\n\\n\", \"Inference time:\", latency)"
   ]
  },
  {
   "cell_type": "code",
   "execution_count": 43,
   "id": "8988d776-f728-4250-88cb-9948ba8e105b",
   "metadata": {
    "tags": []
   },
   "outputs": [],
   "source": [
    "prompt_data = \"\"\"\n",
    "Summarize the following text:\n",
    "Weighted medicine ball for upper, lower, and full body exercises. The ball has a lightly textured surface provides a superior grip. The Weight clearly labeled on both sides.\n",
    "Its ideal for classic medicine ball workouts, including ball toss, weighted twists, squats, sit ups, and more. The personal tool to help you develop core strength, balance, and coordination.\n",
    "\n",
    "\n",
    "\n",
    "\"\"\""
   ]
  },
  {
   "cell_type": "code",
   "execution_count": 44,
   "id": "003a774a-f3bc-41aa-9249-fc2372393be6",
   "metadata": {
    "tags": []
   },
   "outputs": [
    {
     "name": "stdout",
     "output_type": "stream",
     "text": [
      "This text is about a weighted medicine ball. The ball has a lightly textured surface to provide a superior grip, and its weight is clearly labeled on both sides. It is ideal for classic medicine ball workouts and can help develop core strength, balance, and coordination. \n",
      "\n",
      " Inference time: 0:00:01.951318\n"
     ]
    }
   ],
   "source": [
    "response, latency = call_bedrock('amazon.titan-tg1-large', prompt_data)\n",
    "print(response, \"\\n\\n\", \"Inference time:\", latency)"
   ]
  },
  {
   "cell_type": "code",
   "execution_count": 45,
   "id": "22a18b6c-21e2-4813-940a-36016b645d11",
   "metadata": {
    "tags": []
   },
   "outputs": [],
   "source": [
    "prompt_data = \"\"\"Human: Provide a summary of the text inside the <metadata></metadata> XML tags.\n",
    "\n",
    "<metadata>\n",
    "Weighted medicine ball for upper, lower, and full body exercises. The ball has a lightly textured surface provides a superior grip. The Weight clearly labeled on both sides.\n",
    "Its ideal for classic medicine ball workouts, including ball toss, weighted twists, squats, sit ups, and more. The personal tool to help you develop core strength, balance, and coordination.\n",
    "</metadata>\n",
    "\n",
    "Asistant:\n",
    "\"\"\""
   ]
  },
  {
   "cell_type": "code",
   "execution_count": 46,
   "id": "c3ef3093-7e8c-42e5-94b7-3024b73458a7",
   "metadata": {
    "tags": []
   },
   "outputs": [
    {
     "name": "stdout",
     "output_type": "stream",
     "text": [
      "\n",
      "<summary> \n",
      "- Weighted medicine ball for various exercises.  \n",
      "- Lightly textured surface for better grip. \n",
      "- Weight labeled on both sides.\n",
      "- Used for medicine ball exercises, including ball toss, twists, squats, sit ups.  \n",
      "- Helps develop core strength, balance and coordination.\n",
      "</summary> \n",
      "\n",
      " Inference time: 0:00:02.110315\n"
     ]
    }
   ],
   "source": [
    "response, latency = call_bedrock('anthropic.claude-v1', prompt_data)\n",
    "print(response, \"\\n\\n\", \"Inference time:\", latency)"
   ]
  },
  {
   "cell_type": "code",
   "execution_count": 47,
   "id": "00538eaf-64c4-4247-b8f6-e2a9e74c2671",
   "metadata": {
    "tags": []
   },
   "outputs": [],
   "source": [
    "prompt_data = \"\"\"\n",
    "Summarize the following text:\n",
    "Weighted medicine ball for upper, lower, and full body exercises. The ball has a lightly textured surface provides a superior grip. The Weight clearly labeled on both sides.\n",
    "Its ideal for classic medicine ball workouts, including ball toss, weighted twists, squats, sit ups, and more. The personal tool to help you develop core strength, balance, and coordination.\n",
    "\n",
    "\n",
    "\n",
    "\"\"\""
   ]
  },
  {
   "cell_type": "code",
   "execution_count": 48,
   "id": "24ad7a77-ddca-4c6d-a94d-6a5730f053b2",
   "metadata": {
    "tags": []
   },
   "outputs": [
    {
     "name": "stdout",
     "output_type": "stream",
     "text": [
      "A weighted medicine ball for upper, lower, and full body exercises. \n",
      "\n",
      " Inference time: 0:00:00.829962\n"
     ]
    }
   ],
   "source": [
    "response, latency = call_bedrock('ai21.j2-jumbo-instruct', prompt_data)\n",
    "print(response, \"\\n\\n\", \"Inference time:\", latency)"
   ]
  },
  {
   "cell_type": "code",
   "execution_count": 51,
   "id": "9b5af2b0-5f91-4ebb-aa93-9054e3a63fed",
   "metadata": {
    "tags": []
   },
   "outputs": [],
   "source": [
    "prompt_data = \"\"\"\n",
    "Here is an ad for a product, please extract the product name and what its use for :\n",
    "\n",
    "Weighted medicine ball for upper, lower, and full body exercises. The ball has a lightly textured surface provides a superior grip. The Weight clearly labeled on both sides.\n",
    "Its ideal for classic medicine ball workouts, including ball toss, weighted twists, squats, sit ups, and more. The personal tool to help you develop core strength, balance, and coordination.\n",
    "\n",
    "\n",
    "\n",
    "\"\"\""
   ]
  },
  {
   "cell_type": "code",
   "execution_count": 52,
   "id": "ff0adc29-7afd-40f3-9537-4c6bf421624b",
   "metadata": {
    "tags": []
   },
   "outputs": [
    {
     "name": "stdout",
     "output_type": "stream",
     "text": [
      "Weighted medicine ball is used for upper, lower, and full body exercises. \n",
      "\n",
      " Inference time: 0:00:01.060757\n"
     ]
    }
   ],
   "source": [
    "response, latency = call_bedrock('amazon.titan-tg1-large', prompt_data)\n",
    "print(response, \"\\n\\n\", \"Inference time:\", latency)"
   ]
  },
  {
   "cell_type": "code",
   "execution_count": 53,
   "id": "0833cdc7-e9eb-4e21-93f1-4e83aba9abaf",
   "metadata": {
    "tags": []
   },
   "outputs": [],
   "source": [
    "prompt_data = \"\"\"Human:\n",
    "The information about a new product is inside the <metadata></metadata> XML tags, I want you to extract the product name and what its use for\n",
    "\n",
    "<metadata>\n",
    "Weighted medicine ball for upper, lower, and full body exercises. The ball has a lightly textured surface provides a superior grip. The Weight clearly labeled on both sides.\n",
    "Its ideal for classic medicine ball workouts, including ball toss, weighted twists, squats, sit ups, and more. The personal tool to help you develop core strength, balance, and coordination.\n",
    "</metadata>\n",
    "\n",
    "Asistant:\n",
    "\"\"\""
   ]
  },
  {
   "cell_type": "code",
   "execution_count": 54,
   "id": "9c371d6e-75f2-4ace-98e1-69ebd5156c07",
   "metadata": {
    "tags": []
   },
   "outputs": [
    {
     "name": "stdout",
     "output_type": "stream",
     "text": [
      "\n",
      "Product name: Weighted medicine ball\n",
      "Use: For upper, lower, and full body exercises. Ideal for medicine ball workouts that help develop core strength, balance and coordination. \n",
      "\n",
      " Inference time: 0:00:01.341715\n"
     ]
    }
   ],
   "source": [
    "response, latency = call_bedrock('anthropic.claude-v1', prompt_data)\n",
    "print(response, \"\\n\\n\", \"Inference time:\", latency)"
   ]
  },
  {
   "cell_type": "code",
   "execution_count": 57,
   "id": "66495c58-30de-47cb-8412-6f6425755c2e",
   "metadata": {
    "tags": []
   },
   "outputs": [],
   "source": [
    "prompt_data = \"\"\"\n",
    "Here is an description of product, extract the product name and what its use for :\n",
    "\n",
    "Weighted medicine ball for upper, lower, and full body exercises. The ball has a lightly textured surface provides a superior grip. The Weight clearly labeled on both sides.\n",
    "Its ideal for classic medicine ball workouts, including ball toss, weighted twists, squats, sit ups, and more. The personal tool to help you develop core strength, balance, and coordination.\n",
    "\n",
    "\n",
    "\n",
    "\"\"\""
   ]
  },
  {
   "cell_type": "code",
   "execution_count": 58,
   "id": "7ed7a32f-bf68-4a16-8c77-ad2f2cf53df9",
   "metadata": {
    "tags": []
   },
   "outputs": [
    {
     "name": "stdout",
     "output_type": "stream",
     "text": [
      "The product name is \"Weighted Medicine Ball\" and it is used for upper, lower, and full body \n",
      "\n",
      " Inference time: 0:00:00.596962\n"
     ]
    }
   ],
   "source": [
    "response, latency = call_bedrock('ai21.j2-jumbo-instruct', prompt_data)\n",
    "print(response, \"\\n\\n\", \"Inference time:\", latency)"
   ]
  },
  {
   "cell_type": "code",
   "execution_count": 75,
   "id": "7d417113-bbfe-40f0-a0ae-08d8edff308c",
   "metadata": {},
   "outputs": [],
   "source": [
    "prompt_data =\"\"\"Generate a list of reasons why customers should have a Medicine Ball at home using the following data in 2 sentences: Weighted medicine ball for upper, lower, and full body exercises\n",
    "The ball has a lightly textured surface provides a superior grip. Weight clearly labeled on both sides. Ideal for classic medicine ball workouts, including ball toss, weighted twists, squats, sit ups, and more. The person tool to help you develop core strength, balance, and coordination.\"\"\""
   ]
  },
  {
   "cell_type": "code",
   "execution_count": 76,
   "id": "9fd49334-dae4-4b2f-9ef1-54b95be030b6",
   "metadata": {
    "tags": []
   },
   "outputs": [
    {
     "name": "stdout",
     "output_type": "stream",
     "text": [
      "\n",
      "A medicine ball is a versatile piece of equipment that can be used for a variety of exercises, including upper, lower, and full body exercises. The ball has a lightly textured surface that provides a good grip, and the weight is clearly labeled on both sides. \n",
      "\n",
      " Inference time: 0:00:01.143750\n"
     ]
    }
   ],
   "source": [
    "response, latency = call_bedrock('ai21.j2-jumbo-instruct', prompt_data)\n",
    "print(response, \"\\n\\n\", \"Inference time:\", latency)"
   ]
  },
  {
   "cell_type": "code",
   "execution_count": null,
   "id": "0df1bf65-317c-4066-afb8-1a856630b7d9",
   "metadata": {},
   "outputs": [],
   "source": []
  },
  {
   "cell_type": "code",
   "execution_count": null,
   "id": "3ee4c056-7e75-48d3-8f8b-e1044572aa23",
   "metadata": {},
   "outputs": [],
   "source": []
  }
 ],
 "metadata": {
  "availableInstances": [
   {
    "_defaultOrder": 0,
    "_isFastLaunch": true,
    "category": "General purpose",
    "gpuNum": 0,
    "hideHardwareSpecs": false,
    "memoryGiB": 4,
    "name": "ml.t3.medium",
    "vcpuNum": 2
   },
   {
    "_defaultOrder": 1,
    "_isFastLaunch": false,
    "category": "General purpose",
    "gpuNum": 0,
    "hideHardwareSpecs": false,
    "memoryGiB": 8,
    "name": "ml.t3.large",
    "vcpuNum": 2
   },
   {
    "_defaultOrder": 2,
    "_isFastLaunch": false,
    "category": "General purpose",
    "gpuNum": 0,
    "hideHardwareSpecs": false,
    "memoryGiB": 16,
    "name": "ml.t3.xlarge",
    "vcpuNum": 4
   },
   {
    "_defaultOrder": 3,
    "_isFastLaunch": false,
    "category": "General purpose",
    "gpuNum": 0,
    "hideHardwareSpecs": false,
    "memoryGiB": 32,
    "name": "ml.t3.2xlarge",
    "vcpuNum": 8
   },
   {
    "_defaultOrder": 4,
    "_isFastLaunch": true,
    "category": "General purpose",
    "gpuNum": 0,
    "hideHardwareSpecs": false,
    "memoryGiB": 8,
    "name": "ml.m5.large",
    "vcpuNum": 2
   },
   {
    "_defaultOrder": 5,
    "_isFastLaunch": false,
    "category": "General purpose",
    "gpuNum": 0,
    "hideHardwareSpecs": false,
    "memoryGiB": 16,
    "name": "ml.m5.xlarge",
    "vcpuNum": 4
   },
   {
    "_defaultOrder": 6,
    "_isFastLaunch": false,
    "category": "General purpose",
    "gpuNum": 0,
    "hideHardwareSpecs": false,
    "memoryGiB": 32,
    "name": "ml.m5.2xlarge",
    "vcpuNum": 8
   },
   {
    "_defaultOrder": 7,
    "_isFastLaunch": false,
    "category": "General purpose",
    "gpuNum": 0,
    "hideHardwareSpecs": false,
    "memoryGiB": 64,
    "name": "ml.m5.4xlarge",
    "vcpuNum": 16
   },
   {
    "_defaultOrder": 8,
    "_isFastLaunch": false,
    "category": "General purpose",
    "gpuNum": 0,
    "hideHardwareSpecs": false,
    "memoryGiB": 128,
    "name": "ml.m5.8xlarge",
    "vcpuNum": 32
   },
   {
    "_defaultOrder": 9,
    "_isFastLaunch": false,
    "category": "General purpose",
    "gpuNum": 0,
    "hideHardwareSpecs": false,
    "memoryGiB": 192,
    "name": "ml.m5.12xlarge",
    "vcpuNum": 48
   },
   {
    "_defaultOrder": 10,
    "_isFastLaunch": false,
    "category": "General purpose",
    "gpuNum": 0,
    "hideHardwareSpecs": false,
    "memoryGiB": 256,
    "name": "ml.m5.16xlarge",
    "vcpuNum": 64
   },
   {
    "_defaultOrder": 11,
    "_isFastLaunch": false,
    "category": "General purpose",
    "gpuNum": 0,
    "hideHardwareSpecs": false,
    "memoryGiB": 384,
    "name": "ml.m5.24xlarge",
    "vcpuNum": 96
   },
   {
    "_defaultOrder": 12,
    "_isFastLaunch": false,
    "category": "General purpose",
    "gpuNum": 0,
    "hideHardwareSpecs": false,
    "memoryGiB": 8,
    "name": "ml.m5d.large",
    "vcpuNum": 2
   },
   {
    "_defaultOrder": 13,
    "_isFastLaunch": false,
    "category": "General purpose",
    "gpuNum": 0,
    "hideHardwareSpecs": false,
    "memoryGiB": 16,
    "name": "ml.m5d.xlarge",
    "vcpuNum": 4
   },
   {
    "_defaultOrder": 14,
    "_isFastLaunch": false,
    "category": "General purpose",
    "gpuNum": 0,
    "hideHardwareSpecs": false,
    "memoryGiB": 32,
    "name": "ml.m5d.2xlarge",
    "vcpuNum": 8
   },
   {
    "_defaultOrder": 15,
    "_isFastLaunch": false,
    "category": "General purpose",
    "gpuNum": 0,
    "hideHardwareSpecs": false,
    "memoryGiB": 64,
    "name": "ml.m5d.4xlarge",
    "vcpuNum": 16
   },
   {
    "_defaultOrder": 16,
    "_isFastLaunch": false,
    "category": "General purpose",
    "gpuNum": 0,
    "hideHardwareSpecs": false,
    "memoryGiB": 128,
    "name": "ml.m5d.8xlarge",
    "vcpuNum": 32
   },
   {
    "_defaultOrder": 17,
    "_isFastLaunch": false,
    "category": "General purpose",
    "gpuNum": 0,
    "hideHardwareSpecs": false,
    "memoryGiB": 192,
    "name": "ml.m5d.12xlarge",
    "vcpuNum": 48
   },
   {
    "_defaultOrder": 18,
    "_isFastLaunch": false,
    "category": "General purpose",
    "gpuNum": 0,
    "hideHardwareSpecs": false,
    "memoryGiB": 256,
    "name": "ml.m5d.16xlarge",
    "vcpuNum": 64
   },
   {
    "_defaultOrder": 19,
    "_isFastLaunch": false,
    "category": "General purpose",
    "gpuNum": 0,
    "hideHardwareSpecs": false,
    "memoryGiB": 384,
    "name": "ml.m5d.24xlarge",
    "vcpuNum": 96
   },
   {
    "_defaultOrder": 20,
    "_isFastLaunch": false,
    "category": "General purpose",
    "gpuNum": 0,
    "hideHardwareSpecs": true,
    "memoryGiB": 0,
    "name": "ml.geospatial.interactive",
    "supportedImageNames": [
     "sagemaker-geospatial-v1-0"
    ],
    "vcpuNum": 0
   },
   {
    "_defaultOrder": 21,
    "_isFastLaunch": true,
    "category": "Compute optimized",
    "gpuNum": 0,
    "hideHardwareSpecs": false,
    "memoryGiB": 4,
    "name": "ml.c5.large",
    "vcpuNum": 2
   },
   {
    "_defaultOrder": 22,
    "_isFastLaunch": false,
    "category": "Compute optimized",
    "gpuNum": 0,
    "hideHardwareSpecs": false,
    "memoryGiB": 8,
    "name": "ml.c5.xlarge",
    "vcpuNum": 4
   },
   {
    "_defaultOrder": 23,
    "_isFastLaunch": false,
    "category": "Compute optimized",
    "gpuNum": 0,
    "hideHardwareSpecs": false,
    "memoryGiB": 16,
    "name": "ml.c5.2xlarge",
    "vcpuNum": 8
   },
   {
    "_defaultOrder": 24,
    "_isFastLaunch": false,
    "category": "Compute optimized",
    "gpuNum": 0,
    "hideHardwareSpecs": false,
    "memoryGiB": 32,
    "name": "ml.c5.4xlarge",
    "vcpuNum": 16
   },
   {
    "_defaultOrder": 25,
    "_isFastLaunch": false,
    "category": "Compute optimized",
    "gpuNum": 0,
    "hideHardwareSpecs": false,
    "memoryGiB": 72,
    "name": "ml.c5.9xlarge",
    "vcpuNum": 36
   },
   {
    "_defaultOrder": 26,
    "_isFastLaunch": false,
    "category": "Compute optimized",
    "gpuNum": 0,
    "hideHardwareSpecs": false,
    "memoryGiB": 96,
    "name": "ml.c5.12xlarge",
    "vcpuNum": 48
   },
   {
    "_defaultOrder": 27,
    "_isFastLaunch": false,
    "category": "Compute optimized",
    "gpuNum": 0,
    "hideHardwareSpecs": false,
    "memoryGiB": 144,
    "name": "ml.c5.18xlarge",
    "vcpuNum": 72
   },
   {
    "_defaultOrder": 28,
    "_isFastLaunch": false,
    "category": "Compute optimized",
    "gpuNum": 0,
    "hideHardwareSpecs": false,
    "memoryGiB": 192,
    "name": "ml.c5.24xlarge",
    "vcpuNum": 96
   },
   {
    "_defaultOrder": 29,
    "_isFastLaunch": true,
    "category": "Accelerated computing",
    "gpuNum": 1,
    "hideHardwareSpecs": false,
    "memoryGiB": 16,
    "name": "ml.g4dn.xlarge",
    "vcpuNum": 4
   },
   {
    "_defaultOrder": 30,
    "_isFastLaunch": false,
    "category": "Accelerated computing",
    "gpuNum": 1,
    "hideHardwareSpecs": false,
    "memoryGiB": 32,
    "name": "ml.g4dn.2xlarge",
    "vcpuNum": 8
   },
   {
    "_defaultOrder": 31,
    "_isFastLaunch": false,
    "category": "Accelerated computing",
    "gpuNum": 1,
    "hideHardwareSpecs": false,
    "memoryGiB": 64,
    "name": "ml.g4dn.4xlarge",
    "vcpuNum": 16
   },
   {
    "_defaultOrder": 32,
    "_isFastLaunch": false,
    "category": "Accelerated computing",
    "gpuNum": 1,
    "hideHardwareSpecs": false,
    "memoryGiB": 128,
    "name": "ml.g4dn.8xlarge",
    "vcpuNum": 32
   },
   {
    "_defaultOrder": 33,
    "_isFastLaunch": false,
    "category": "Accelerated computing",
    "gpuNum": 4,
    "hideHardwareSpecs": false,
    "memoryGiB": 192,
    "name": "ml.g4dn.12xlarge",
    "vcpuNum": 48
   },
   {
    "_defaultOrder": 34,
    "_isFastLaunch": false,
    "category": "Accelerated computing",
    "gpuNum": 1,
    "hideHardwareSpecs": false,
    "memoryGiB": 256,
    "name": "ml.g4dn.16xlarge",
    "vcpuNum": 64
   },
   {
    "_defaultOrder": 35,
    "_isFastLaunch": false,
    "category": "Accelerated computing",
    "gpuNum": 1,
    "hideHardwareSpecs": false,
    "memoryGiB": 61,
    "name": "ml.p3.2xlarge",
    "vcpuNum": 8
   },
   {
    "_defaultOrder": 36,
    "_isFastLaunch": false,
    "category": "Accelerated computing",
    "gpuNum": 4,
    "hideHardwareSpecs": false,
    "memoryGiB": 244,
    "name": "ml.p3.8xlarge",
    "vcpuNum": 32
   },
   {
    "_defaultOrder": 37,
    "_isFastLaunch": false,
    "category": "Accelerated computing",
    "gpuNum": 8,
    "hideHardwareSpecs": false,
    "memoryGiB": 488,
    "name": "ml.p3.16xlarge",
    "vcpuNum": 64
   },
   {
    "_defaultOrder": 38,
    "_isFastLaunch": false,
    "category": "Accelerated computing",
    "gpuNum": 8,
    "hideHardwareSpecs": false,
    "memoryGiB": 768,
    "name": "ml.p3dn.24xlarge",
    "vcpuNum": 96
   },
   {
    "_defaultOrder": 39,
    "_isFastLaunch": false,
    "category": "Memory Optimized",
    "gpuNum": 0,
    "hideHardwareSpecs": false,
    "memoryGiB": 16,
    "name": "ml.r5.large",
    "vcpuNum": 2
   },
   {
    "_defaultOrder": 40,
    "_isFastLaunch": false,
    "category": "Memory Optimized",
    "gpuNum": 0,
    "hideHardwareSpecs": false,
    "memoryGiB": 32,
    "name": "ml.r5.xlarge",
    "vcpuNum": 4
   },
   {
    "_defaultOrder": 41,
    "_isFastLaunch": false,
    "category": "Memory Optimized",
    "gpuNum": 0,
    "hideHardwareSpecs": false,
    "memoryGiB": 64,
    "name": "ml.r5.2xlarge",
    "vcpuNum": 8
   },
   {
    "_defaultOrder": 42,
    "_isFastLaunch": false,
    "category": "Memory Optimized",
    "gpuNum": 0,
    "hideHardwareSpecs": false,
    "memoryGiB": 128,
    "name": "ml.r5.4xlarge",
    "vcpuNum": 16
   },
   {
    "_defaultOrder": 43,
    "_isFastLaunch": false,
    "category": "Memory Optimized",
    "gpuNum": 0,
    "hideHardwareSpecs": false,
    "memoryGiB": 256,
    "name": "ml.r5.8xlarge",
    "vcpuNum": 32
   },
   {
    "_defaultOrder": 44,
    "_isFastLaunch": false,
    "category": "Memory Optimized",
    "gpuNum": 0,
    "hideHardwareSpecs": false,
    "memoryGiB": 384,
    "name": "ml.r5.12xlarge",
    "vcpuNum": 48
   },
   {
    "_defaultOrder": 45,
    "_isFastLaunch": false,
    "category": "Memory Optimized",
    "gpuNum": 0,
    "hideHardwareSpecs": false,
    "memoryGiB": 512,
    "name": "ml.r5.16xlarge",
    "vcpuNum": 64
   },
   {
    "_defaultOrder": 46,
    "_isFastLaunch": false,
    "category": "Memory Optimized",
    "gpuNum": 0,
    "hideHardwareSpecs": false,
    "memoryGiB": 768,
    "name": "ml.r5.24xlarge",
    "vcpuNum": 96
   },
   {
    "_defaultOrder": 47,
    "_isFastLaunch": false,
    "category": "Accelerated computing",
    "gpuNum": 1,
    "hideHardwareSpecs": false,
    "memoryGiB": 16,
    "name": "ml.g5.xlarge",
    "vcpuNum": 4
   },
   {
    "_defaultOrder": 48,
    "_isFastLaunch": false,
    "category": "Accelerated computing",
    "gpuNum": 1,
    "hideHardwareSpecs": false,
    "memoryGiB": 32,
    "name": "ml.g5.2xlarge",
    "vcpuNum": 8
   },
   {
    "_defaultOrder": 49,
    "_isFastLaunch": false,
    "category": "Accelerated computing",
    "gpuNum": 1,
    "hideHardwareSpecs": false,
    "memoryGiB": 64,
    "name": "ml.g5.4xlarge",
    "vcpuNum": 16
   },
   {
    "_defaultOrder": 50,
    "_isFastLaunch": false,
    "category": "Accelerated computing",
    "gpuNum": 1,
    "hideHardwareSpecs": false,
    "memoryGiB": 128,
    "name": "ml.g5.8xlarge",
    "vcpuNum": 32
   },
   {
    "_defaultOrder": 51,
    "_isFastLaunch": false,
    "category": "Accelerated computing",
    "gpuNum": 1,
    "hideHardwareSpecs": false,
    "memoryGiB": 256,
    "name": "ml.g5.16xlarge",
    "vcpuNum": 64
   },
   {
    "_defaultOrder": 52,
    "_isFastLaunch": false,
    "category": "Accelerated computing",
    "gpuNum": 4,
    "hideHardwareSpecs": false,
    "memoryGiB": 192,
    "name": "ml.g5.12xlarge",
    "vcpuNum": 48
   },
   {
    "_defaultOrder": 53,
    "_isFastLaunch": false,
    "category": "Accelerated computing",
    "gpuNum": 4,
    "hideHardwareSpecs": false,
    "memoryGiB": 384,
    "name": "ml.g5.24xlarge",
    "vcpuNum": 96
   },
   {
    "_defaultOrder": 54,
    "_isFastLaunch": false,
    "category": "Accelerated computing",
    "gpuNum": 8,
    "hideHardwareSpecs": false,
    "memoryGiB": 768,
    "name": "ml.g5.48xlarge",
    "vcpuNum": 192
   },
   {
    "_defaultOrder": 55,
    "_isFastLaunch": false,
    "category": "Accelerated computing",
    "gpuNum": 8,
    "hideHardwareSpecs": false,
    "memoryGiB": 1152,
    "name": "ml.p4d.24xlarge",
    "vcpuNum": 96
   },
   {
    "_defaultOrder": 56,
    "_isFastLaunch": false,
    "category": "Accelerated computing",
    "gpuNum": 8,
    "hideHardwareSpecs": false,
    "memoryGiB": 1152,
    "name": "ml.p4de.24xlarge",
    "vcpuNum": 96
   }
  ],
  "instance_type": "ml.t3.medium",
  "kernelspec": {
   "display_name": "Python 3 (Data Science 3.0)",
   "language": "python",
   "name": "python3__SAGEMAKER_INTERNAL__arn:aws:sagemaker:us-east-1:081325390199:image/sagemaker-data-science-310-v1"
  },
  "language_info": {
   "codemirror_mode": {
    "name": "ipython",
    "version": 3
   },
   "file_extension": ".py",
   "mimetype": "text/x-python",
   "name": "python",
   "nbconvert_exporter": "python",
   "pygments_lexer": "ipython3",
   "version": "3.10.6"
  }
 },
 "nbformat": 4,
 "nbformat_minor": 5
}
