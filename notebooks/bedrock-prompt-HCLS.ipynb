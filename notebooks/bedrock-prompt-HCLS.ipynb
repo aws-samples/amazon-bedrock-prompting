{
 "cells": [
  {
   "attachments": {},
   "cell_type": "markdown",
   "id": "d0916a3a-e402-48b7-a775-ce739e4aeaf4",
   "metadata": {},
   "source": [
    "# Introduction to Bedrock - Text Summarization Sample - Health Care and Life Sciences "
   ]
  },
  {
   "attachments": {},
   "cell_type": "markdown",
   "id": "bbab02f1-3eac-4274-b06b-d51ce586df2c",
   "metadata": {
    "tags": []
   },
   "source": [
    "--- \n",
    "\n",
    "In this demo notebook, we demonstrate how to use the Bedrock Python SDK for a text question and answer (Q&A) example. We show how to use Bedrock's Foundational Models to answer questions after reading a passage\n",
    "\n",
    "---"
   ]
  },
  {
   "attachments": {},
   "cell_type": "markdown",
   "id": "4c1fda97-9150-484a-8cfa-86ec9568fc61",
   "metadata": {},
   "source": [
    "## 1. Set Up and API walkthrough"
   ]
  },
  {
   "attachments": {},
   "cell_type": "markdown",
   "id": "27a83a8d-9527-48b4-92ff-fce963fbe3b5",
   "metadata": {},
   "source": [
    "---\n",
    "Before executing the notebook for the first time, execute this cell to add bedrock extensions to the Python boto3 SDK\n",
    "\n",
    "---"
   ]
  },
  {
   "cell_type": "code",
   "execution_count": 2,
   "id": "108c611c-7246-45c4-9f1e-76888b5076eb",
   "metadata": {
    "tags": []
   },
   "outputs": [],
   "source": [
    "import boto3\n",
    "import botocore\n",
    "import pandas as pd\n",
    "\n",
    "try:\n",
    "    from langchain.chains import LLMChain\n",
    "    from langchain.llms.bedrock import Bedrock\n",
    "    from langchain.prompts import PromptTemplate\n",
    "    from langchain.embeddings import BedrockEmbeddings\n",
    "except Exception as e:\n",
    "    print(e)\n",
    "    print(\"please install langchain version 0.0.190\")"
   ]
  },
  {
   "cell_type": "code",
   "execution_count": 3,
   "id": "044e5eec",
   "metadata": {},
   "outputs": [],
   "source": [
    "assert boto3.__version__ == \"1.26.142\"\n",
    "assert botocore.__version__ == \"1.29.142\""
   ]
  },
  {
   "attachments": {},
   "cell_type": "markdown",
   "id": "abb2f62c",
   "metadata": {},
   "source": [
    "#### Un comment these to run from your local environment outside of AWS"
   ]
  },
  {
   "cell_type": "code",
   "execution_count": 4,
   "id": "2f15fafc",
   "metadata": {},
   "outputs": [],
   "source": [
    "import sys\n",
    "import os\n",
    "from pprint import pprint"
   ]
  },
  {
   "attachments": {},
   "cell_type": "markdown",
   "id": "07958746-7313-484a-887b-167b8d8acf31",
   "metadata": {},
   "source": [
    "#### Now let's set up our connection to the Amazon Bedrock SDK using Boto3"
   ]
  },
  {
   "cell_type": "code",
   "execution_count": 5,
   "id": "0dd15c3b-0cc3-4fc5-8e38-4cc9078a3758",
   "metadata": {
    "tags": []
   },
   "outputs": [],
   "source": [
    "import boto3\n",
    "import json\n",
    "\n",
    "bedrock = boto3.client(\n",
    "    service_name=\"bedrock\",\n",
    "    region_name=\"us-east-1\",\n",
    "    endpoint_url=\"https://bedrock.us-east-1.amazonaws.com\",\n",
    ")"
   ]
  },
  {
   "attachments": {},
   "cell_type": "markdown",
   "id": "9e9174c4-326a-463e-92e1-8c7e47111269",
   "metadata": {},
   "source": [
    "#### We can validate our connection by testing out the _list_foundation_models()_ method, which will tell us all the models available for us to use "
   ]
  },
  {
   "cell_type": "code",
   "execution_count": 6,
   "id": "f67b4466-12ff-4975-9811-7a19c6206604",
   "metadata": {
    "tags": []
   },
   "outputs": [
    {
     "data": {
      "text/plain": [
       "{'ResponseMetadata': {'RequestId': '99f81aba-b73d-43df-b5d8-baa3c5b84758',\n",
       "  'HTTPStatusCode': 200,\n",
       "  'HTTPHeaders': {'date': 'Thu, 08 Jun 2023 14:15:33 GMT',\n",
       "   'content-type': 'application/json',\n",
       "   'content-length': '861',\n",
       "   'connection': 'keep-alive',\n",
       "   'x-amzn-requestid': '99f81aba-b73d-43df-b5d8-baa3c5b84758'},\n",
       "  'RetryAttempts': 0},\n",
       " 'modelSummaries': [{'modelArn': 'arn:aws:bedrock:us-east-1::foundation-model/amazon.titan-tg1-large',\n",
       "   'modelId': 'amazon.titan-tg1-large'},\n",
       "  {'modelArn': 'arn:aws:bedrock:us-east-1::foundation-model/amazon.titan-e1t-medium',\n",
       "   'modelId': 'amazon.titan-e1t-medium'},\n",
       "  {'modelArn': 'arn:aws:bedrock:us-east-1::foundation-model/stability.stable-diffusion-xl',\n",
       "   'modelId': 'stability.stable-diffusion-xl'},\n",
       "  {'modelArn': 'arn:aws:bedrock:us-east-1::foundation-model/ai21.j2-grande-instruct',\n",
       "   'modelId': 'ai21.j2-grande-instruct'},\n",
       "  {'modelArn': 'arn:aws:bedrock:us-east-1::foundation-model/ai21.j2-jumbo-instruct',\n",
       "   'modelId': 'ai21.j2-jumbo-instruct'},\n",
       "  {'modelArn': 'arn:aws:bedrock:us-east-1::foundation-model/anthropic.claude-instant-v1',\n",
       "   'modelId': 'anthropic.claude-instant-v1'},\n",
       "  {'modelArn': 'arn:aws:bedrock:us-east-1::foundation-model/anthropic.claude-v1',\n",
       "   'modelId': 'anthropic.claude-v1'}]}"
      ]
     },
     "execution_count": 6,
     "metadata": {},
     "output_type": "execute_result"
    }
   ],
   "source": [
    "bedrock.list_foundation_models()"
   ]
  },
  {
   "attachments": {},
   "cell_type": "markdown",
   "id": "be9044d4-9d04-47c3-86ca-5b206585b784",
   "metadata": {},
   "source": [
    "#### In this Notebook we will be using the invoke_model() method of Amazon Bedrock. This will be the primary method we use for most of our Text Generation and Processing tasks. "
   ]
  },
  {
   "attachments": {},
   "cell_type": "markdown",
   "id": "881928fb-4daf-47e5-a2b6-b2292a679a81",
   "metadata": {},
   "source": [
    "##### The mandatory parameters required to use this method are, where _modelId_ represents the Amazon Bedrock model ARN, and _body_ which is the prompt for our task. The _body_ prompt will change depending on the foundational model provider selected. We walk through this in detail below\n",
    "\n",
    "```\n",
    "{\n",
    "   modelId= model_id,\n",
    "   contentType= \"application/json\",\n",
    "   accept= \"application/json\",\n",
    "   body=body\n",
    "}\n",
    "\n",
    "```"
   ]
  },
  {
   "attachments": {},
   "cell_type": "markdown",
   "id": "ce22c308-ebbf-4ef5-a823-832b7c236e31",
   "metadata": {},
   "source": [
    "## 2. Reading the data\n",
    "We take data from the [pubmed database of scientific papers from huggingface.](https://huggingface.co/datasets/scientific_papers/viewer/pubmed/train?row=0)\n"
   ]
  },
  {
   "cell_type": "code",
   "execution_count": 7,
   "id": "c2b95058",
   "metadata": {},
   "outputs": [],
   "source": [
    "pubmed_dataset =pd.read_csv(\"./huggingface_medpub_dataset_short.csv\")"
   ]
  },
  {
   "cell_type": "code",
   "execution_count": 8,
   "id": "e34d80f3",
   "metadata": {},
   "outputs": [
    {
     "data": {
      "text/html": [
       "<div>\n",
       "<style scoped>\n",
       "    .dataframe tbody tr th:only-of-type {\n",
       "        vertical-align: middle;\n",
       "    }\n",
       "\n",
       "    .dataframe tbody tr th {\n",
       "        vertical-align: top;\n",
       "    }\n",
       "\n",
       "    .dataframe thead th {\n",
       "        text-align: right;\n",
       "    }\n",
       "</style>\n",
       "<table border=\"1\" class=\"dataframe\">\n",
       "  <thead>\n",
       "    <tr style=\"text-align: right;\">\n",
       "      <th></th>\n",
       "      <th>article</th>\n",
       "      <th>abstract</th>\n",
       "      <th>section_names</th>\n",
       "    </tr>\n",
       "  </thead>\n",
       "  <tbody>\n",
       "    <tr>\n",
       "      <th>0</th>\n",
       "      <td>anxiety affects quality of life in those livin...</td>\n",
       "      <td>research on the implications of anxiety in pa...</td>\n",
       "      <td>1. Introduction\\n2. Methods\\n3. Results\\n4. Di...</td>\n",
       "    </tr>\n",
       "    <tr>\n",
       "      <th>1</th>\n",
       "      <td>small non - coding rnas are transcribed into m...</td>\n",
       "      <td>small non - coding rnas include sirna , mirna...</td>\n",
       "      <td>Introduction\\nAberrant Expression of miRNA in ...</td>\n",
       "    </tr>\n",
       "    <tr>\n",
       "      <th>2</th>\n",
       "      <td>ohss is a serious complication of ovulation in...</td>\n",
       "      <td>objective : to evaluate the efficacy and safe...</td>\n",
       "      <td>Introduction\\nMaterials and Methods\\nResults\\n...</td>\n",
       "    </tr>\n",
       "    <tr>\n",
       "      <th>3</th>\n",
       "      <td>congenital adrenal hyperplasia ( cah ) refers ...</td>\n",
       "      <td>congenital adrenal hyperplasia is a group of ...</td>\n",
       "      <td>I\\nM\\nR\\nD</td>\n",
       "    </tr>\n",
       "    <tr>\n",
       "      <th>4</th>\n",
       "      <td>type 1 diabetes ( t1d ) results from the destr...</td>\n",
       "      <td>objective(s):pentoxifylline is an immunomodul...</td>\n",
       "      <td>Introduction\\nMaterials and Methods\\nDrug and ...</td>\n",
       "    </tr>\n",
       "  </tbody>\n",
       "</table>\n",
       "</div>"
      ],
      "text/plain": [
       "                                             article  \\\n",
       "0  anxiety affects quality of life in those livin...   \n",
       "1  small non - coding rnas are transcribed into m...   \n",
       "2  ohss is a serious complication of ovulation in...   \n",
       "3  congenital adrenal hyperplasia ( cah ) refers ...   \n",
       "4  type 1 diabetes ( t1d ) results from the destr...   \n",
       "\n",
       "                                            abstract  \\\n",
       "0   research on the implications of anxiety in pa...   \n",
       "1   small non - coding rnas include sirna , mirna...   \n",
       "2   objective : to evaluate the efficacy and safe...   \n",
       "3   congenital adrenal hyperplasia is a group of ...   \n",
       "4   objective(s):pentoxifylline is an immunomodul...   \n",
       "\n",
       "                                       section_names  \n",
       "0  1. Introduction\\n2. Methods\\n3. Results\\n4. Di...  \n",
       "1  Introduction\\nAberrant Expression of miRNA in ...  \n",
       "2  Introduction\\nMaterials and Methods\\nResults\\n...  \n",
       "3                                         I\\nM\\nR\\nD  \n",
       "4  Introduction\\nMaterials and Methods\\nDrug and ...  "
      ]
     },
     "execution_count": 8,
     "metadata": {},
     "output_type": "execute_result"
    }
   ],
   "source": [
    "pubmed_dataset"
   ]
  },
  {
   "cell_type": "code",
   "execution_count": 95,
   "id": "aa393118",
   "metadata": {},
   "outputs": [
    {
     "data": {
      "text/html": [
       "<div>\n",
       "<style scoped>\n",
       "    .dataframe tbody tr th:only-of-type {\n",
       "        vertical-align: middle;\n",
       "    }\n",
       "\n",
       "    .dataframe tbody tr th {\n",
       "        vertical-align: top;\n",
       "    }\n",
       "\n",
       "    .dataframe thead th {\n",
       "        text-align: right;\n",
       "    }\n",
       "</style>\n",
       "<table border=\"1\" class=\"dataframe\">\n",
       "  <thead>\n",
       "    <tr style=\"text-align: right;\">\n",
       "      <th></th>\n",
       "      <th>article</th>\n",
       "      <th>abstract</th>\n",
       "      <th>section_names</th>\n",
       "      <th>article_length_chars</th>\n",
       "      <th>abstract_length_chars</th>\n",
       "      <th>article_length_words</th>\n",
       "      <th>abstract_length_words</th>\n",
       "    </tr>\n",
       "  </thead>\n",
       "  <tbody>\n",
       "    <tr>\n",
       "      <th>0</th>\n",
       "      <td>anxiety affects quality of life in those livin...</td>\n",
       "      <td>research on the implications of anxiety in pa...</td>\n",
       "      <td>1. Introduction\\n2. Methods\\n3. Results\\n4. Di...</td>\n",
       "      <td>17759</td>\n",
       "      <td>1240</td>\n",
       "      <td>3072</td>\n",
       "      <td>221</td>\n",
       "    </tr>\n",
       "    <tr>\n",
       "      <th>1</th>\n",
       "      <td>small non - coding rnas are transcribed into m...</td>\n",
       "      <td>small non - coding rnas include sirna , mirna...</td>\n",
       "      <td>Introduction\\nAberrant Expression of miRNA in ...</td>\n",
       "      <td>15247</td>\n",
       "      <td>602</td>\n",
       "      <td>2442</td>\n",
       "      <td>105</td>\n",
       "    </tr>\n",
       "    <tr>\n",
       "      <th>2</th>\n",
       "      <td>ohss is a serious complication of ovulation in...</td>\n",
       "      <td>objective : to evaluate the efficacy and safe...</td>\n",
       "      <td>Introduction\\nMaterials and Methods\\nResults\\n...</td>\n",
       "      <td>21979</td>\n",
       "      <td>1531</td>\n",
       "      <td>3785</td>\n",
       "      <td>279</td>\n",
       "    </tr>\n",
       "    <tr>\n",
       "      <th>3</th>\n",
       "      <td>congenital adrenal hyperplasia ( cah ) refers ...</td>\n",
       "      <td>congenital adrenal hyperplasia is a group of ...</td>\n",
       "      <td>I\\nM\\nR\\nD</td>\n",
       "      <td>5389</td>\n",
       "      <td>822</td>\n",
       "      <td>911</td>\n",
       "      <td>146</td>\n",
       "    </tr>\n",
       "    <tr>\n",
       "      <th>4</th>\n",
       "      <td>type 1 diabetes ( t1d ) results from the destr...</td>\n",
       "      <td>objective(s):pentoxifylline is an immunomodul...</td>\n",
       "      <td>Introduction\\nMaterials and Methods\\nDrug and ...</td>\n",
       "      <td>17938</td>\n",
       "      <td>1411</td>\n",
       "      <td>3217</td>\n",
       "      <td>226</td>\n",
       "    </tr>\n",
       "  </tbody>\n",
       "</table>\n",
       "</div>"
      ],
      "text/plain": [
       "                                             article  \\\n",
       "0  anxiety affects quality of life in those livin...   \n",
       "1  small non - coding rnas are transcribed into m...   \n",
       "2  ohss is a serious complication of ovulation in...   \n",
       "3  congenital adrenal hyperplasia ( cah ) refers ...   \n",
       "4  type 1 diabetes ( t1d ) results from the destr...   \n",
       "\n",
       "                                            abstract  \\\n",
       "0   research on the implications of anxiety in pa...   \n",
       "1   small non - coding rnas include sirna , mirna...   \n",
       "2   objective : to evaluate the efficacy and safe...   \n",
       "3   congenital adrenal hyperplasia is a group of ...   \n",
       "4   objective(s):pentoxifylline is an immunomodul...   \n",
       "\n",
       "                                       section_names  article_length_chars  \\\n",
       "0  1. Introduction\\n2. Methods\\n3. Results\\n4. Di...                 17759   \n",
       "1  Introduction\\nAberrant Expression of miRNA in ...                 15247   \n",
       "2  Introduction\\nMaterials and Methods\\nResults\\n...                 21979   \n",
       "3                                         I\\nM\\nR\\nD                  5389   \n",
       "4  Introduction\\nMaterials and Methods\\nDrug and ...                 17938   \n",
       "\n",
       "   abstract_length_chars  article_length_words  abstract_length_words  \n",
       "0                   1240                  3072                    221  \n",
       "1                    602                  2442                    105  \n",
       "2                   1531                  3785                    279  \n",
       "3                    822                   911                    146  \n",
       "4                   1411                  3217                    226  "
      ]
     },
     "execution_count": 95,
     "metadata": {},
     "output_type": "execute_result"
    }
   ],
   "source": [
    "pubmed_dataset[\"article_length_chars\"] = pubmed_dataset.apply(lambda x: len(x['article']), axis=1)\n",
    "pubmed_dataset[\"abstract_length_chars\"] = pubmed_dataset.apply(lambda x: len(x['abstract']), axis=1)\n",
    "pubmed_dataset[\"article_length_words\"] = pubmed_dataset[\"article\"].apply(lambda x: len(x.split(\" \")))\n",
    "pubmed_dataset[\"abstract_length_words\"] = pubmed_dataset[\"abstract\"].apply(lambda x: len(x.split(\" \")))\n",
    "pubmed_dataset.head()"
   ]
  },
  {
   "attachments": {},
   "cell_type": "markdown",
   "id": "f29e7f1a-d2ee-4d1f-a074-d65f1dae3aee",
   "metadata": {},
   "source": [
    "#### Let's now try out the Amazon Bedrock models to have it summarize our sample"
   ]
  },
  {
   "attachments": {},
   "cell_type": "markdown",
   "id": "2a16090b",
   "metadata": {},
   "source": [
    "## First try: all models, no specialised instruction set for the models"
   ]
  },
  {
   "cell_type": "code",
   "execution_count": 96,
   "id": "a5ecaba9",
   "metadata": {},
   "outputs": [],
   "source": [
    "models = {\"titan\":\"amazon.titan-tg1-large\", \"j2\":\"ai21.j2-jumbo-instruct\", \"claude\":\"anthropic.claude-v1\"}\n",
    "example_text = pubmed_dataset[\"article\"].iloc[3]"
   ]
  },
  {
   "cell_type": "code",
   "execution_count": 97,
   "id": "7df55eed-a3cf-426c-95ea-ec60dade6477",
   "metadata": {
    "tags": []
   },
   "outputs": [],
   "source": [
    "import boto3\n",
    "import json\n",
    "import csv\n",
    "from datetime import datetime\n",
    "\n",
    "def call_bedrock(modelId, prompt_data):\n",
    "    if 'amazon' in modelId:\n",
    "        body = json.dumps({\n",
    "            \"inputText\": prompt_data,\n",
    "            \"textGenerationConfig\":\n",
    "            {\n",
    "                \"maxTokenCount\":4096,\n",
    "                \"stopSequences\":[],\n",
    "                \"temperature\":0,\n",
    "                \"topP\":0.9\n",
    "            }\n",
    "        })\n",
    "        #modelId = 'amazon.titan-tg1-large'\n",
    "    elif 'anthropic' in modelId:\n",
    "        body = json.dumps({\"prompt\": prompt_data, \"max_tokens_to_sample\": 512})\n",
    "        #modelId = 'anthropic.claude-instant-v1'\n",
    "    elif 'ai21' in modelId:\n",
    "        body = json.dumps({\"prompt\": prompt_data,\n",
    "                           \"maxTokens\":4096})\n",
    "        #modelId = 'ai21.j2-grande-instruct'\n",
    "    elif 'stability' in modelId:\n",
    "        body = json.dumps({\"text_prompts\":[{\"text\":prompt_data}]}) \n",
    "        #modelId = 'stability.stable-diffusion-xl'\n",
    "    else:\n",
    "        print('Parameter model must be one of titan, claude, j2, or sd')\n",
    "        return\n",
    "    accept = 'application/json'\n",
    "    contentType = 'application/json'\n",
    "\n",
    "    before = datetime.now()\n",
    "    response = bedrock.invoke_model(body=body, modelId=modelId, accept=accept, contentType=contentType)\n",
    "    latency = (datetime.now() - before)\n",
    "    response_body = json.loads(response.get('body').read())\n",
    "\n",
    "    if 'amazon' in modelId:\n",
    "        response = response_body.get('results')[0].get('outputText')\n",
    "    elif 'anthropic' in modelId:\n",
    "        response = response_body.get('completion')\n",
    "    elif 'ai21' in modelId:\n",
    "        response = response_body.get('completions')[0].get('data').get('text')\n",
    "\n",
    "    #Add interaction to the local CSV file...\n",
    "    #column_name = [\"timestamp\", \"modelId\", \"prompt\", \"response\", \"latency\"] #The name of the columns\n",
    "    data = [datetime.now(), modelId, prompt_data, response, latency] #the data\n",
    "    with open('./prompt-data/prompt-data.csv', 'a') as f:\n",
    "        writer = csv.writer(f)\n",
    "        #writer.writerow(column_name)\n",
    "        writer.writerow(data)\n",
    "    \n",
    "    return response, latency"
   ]
  },
  {
   "cell_type": "code",
   "execution_count": 98,
   "id": "6df55c3a",
   "metadata": {},
   "outputs": [
    {
     "data": {
      "text/plain": [
       "'congenital adrenal hyperplasia ( cah ) refers to a group of autosomal recessive disorders caused by an enzyme deficiency which leads to defects in biosynthesis of steroid precursors .\\ndepending on the severity and degree of 21 hydroxylase deficiency , the clinical spectrum may vary from mild form of non classical cah to classic cah .\\nhowever , the non classical cah variant is more common with a prevalence rate of 1 in 1000 .\\nit also helps in maintaining normal levels of precursors by suppressing adreno cortico trophic hormone ( acth ) . during childhood\\n, the management is largely focused on achieving normal growth and attaining appropriate final adult height .\\njohns medical college hospital , bangalore by the department of endocrinology on patients diagnosed to have cah and seen in the outpatient clinic between january 2012 and october 2012 . during this period\\ndata regarding demography , clinical presentation at time of diagnosis , treatment details , height sds and bmi were collected .\\nall patients underwent biochemical testing for 17 hydroxy progesterone ( 17 ohp ) levels for assessment of adequacy of therapy . bone age assessment with left hand and wrist\\nbmi was calculated for all patients and obesity was defined using who charts as values above 95th percentile .\\n17 ohp levels between 1 ng / ml and 12 ng / ml were considered appropriate ; values below 1 ng / ml suggested suppression and over treatment and values above 12 ng / ml suggested under treatment .\\n29 patients were included in the study of which 22 were females ( 76% ) and 7 were males ( 24% ) . based on the cross sectional data collected , 11 patients were adults ( age > 18 ) and 18 patients were children ( 62% ) . among the males ,\\none child was identified at birth via a neonatal screening program , one child presented with early pubarche , the other 5 infants presented between their 3rd and 6th week of life with features suggestive of adrenal crisis - poor feeding , vomiting and failure to gain weight .\\none of the male patients incidentally also had a penoscrotal hypospadias which was surgically corrected . among the females ,\\n9 infants were identified at birth due to presence of genital ambiguity ( 40% ) , 1 presented with symptoms of adrenal crisis at 4 weeks of life , 4 patients presented in the pre pubertal period due to early onset adrenarche ( 18% ) , 5 patients presented in the late adolescent period with marked virilization ( 23% ) and 3 patients presented with features of poly cystic ovarian disease ( pcos ) .\\nall the five patients who presented in the late adolescent period had obvious genital ambiguity from birth , however , they sought medical attention only much later due to marked virilization and failure to attain menarche .\\none among them had actually been evaluated and even underwent a clitoroplasty at a young age , but unfortunately , the diagnosis of cah was missed as she was mistakenly categorized as probable ovo testicular dsd due to presence of mullerian structures with a phallic length of around 6 cm .\\nall these 5 women had a masculine built at presentation with poor breast development , severe hirsutism , muscular body habitus , temporal balding and varying degrees of deepening of voice .\\nthe non classical cah ( nccah ) patients presented in adulthood with complaints of irregular cycles and hirsutism ; they had no features of virilisation .\\nsimple virilizing was the most common sub class seen among the women ( 81% ) whereas the salt wasting type was predominant among boys ( 85% ) .\\naround 35% of patients had short stature as defined by height sds < -2.0 ; 2 patients who presented with adrenarche had increase in height sds , however , their bone age was also correspondingly advanced .\\nall the children were treated with hydrocortisone ; almost all adult patients were on dexamethasone .\\nnone of the nccah patients were treated with glucocorticoids ; they were on anti - androgen therapy along with oral contraceptive pills .\\nmost adult classic cah patients with complaints of hirsutism were treated with either spironolactone or finasteride .\\npubertal induction with ethinyl estradiol was initiated for three of the adult patients who sought medical care late .\\nanalysis of 17 ohp levels revealed that 32% were suppressed with levels less than 1ng / ml ; appropriate in 47% and inadequate in 21% of patients .\\nwe report the phenotypic features of a cohort of patients with cah being evaluated and managed in a tertiary centre in southern india . in this series ,\\nthe typical presentation of male babies were with adrenal crisis between the 3 and 6 week of life . around 20% of female patients with classic cah\\nwere identified and appropriately treated only after late adolescence even when genital ambiguity was present since birth .\\nshort stature was seen in one third of patients on therapy and the average final adult height among patients with classic cah was 142.37 , which was significantly lower than the mean adult height for females in our population .\\nthe mean final adult height of 157.5 cm for those with nccah was better than their classic cah counterpart .\\nobesity and hypertension were not found to be significantly higher in this cohort of cah patients .\\none third of patients had suppressed 17 ohp levels suggestive of over replacement therapy which may also contribute to the reduction in the final adult stature .'"
      ]
     },
     "execution_count": 98,
     "metadata": {},
     "output_type": "execute_result"
    }
   ],
   "source": [
    "example_text"
   ]
  },
  {
   "cell_type": "code",
   "execution_count": 99,
   "id": "33085ccf",
   "metadata": {},
   "outputs": [],
   "source": [
    "prompt_data =f\"\"\"Summarize the following text in 100 words or less:\n",
    "{example_text}\n",
    "\"\"\""
   ]
  },
  {
   "cell_type": "code",
   "execution_count": 100,
   "id": "459bae87",
   "metadata": {},
   "outputs": [
    {
     "name": "stdout",
     "output_type": "stream",
     "text": [
      "Summary (101 words):\n",
      "A study analyzed 29 patients with congenital adrenal hyperplasia ( CAH ) at a hospital in India. The majority (76%) were female. About 40% of females were identified at birth due to genital ambiguity. However, some females sought treatment only in adulthood due to virilization. Nearly all males presented as infants with adrenal crisis. Patients commonly had short stature (35%) and were treated with hydrocortisone or dexamethasone. About 1/3 had over-suppressed hormone levels, potentially impacting height. Adult height was below average for classic CAH patients at 142cm for females and 157cm for non-classic CAH. The study highlights the need for early diagnosis and optimized treatment of CAH.    \n",
      "\n",
      " Inference time: 0:00:06.124923 \n",
      "\n",
      " Number of words: 112\n"
     ]
    }
   ],
   "source": [
    "response, latency = call_bedrock(models[\"claude\"], prompt_data)\n",
    "print(response, \"\\n\\n\", \"Inference time:\", latency, \"\\n\\n\", \"Number of words:\", len(response.split(\" \")))"
   ]
  },
  {
   "cell_type": "code",
   "execution_count": 101,
   "id": "c5a20192",
   "metadata": {},
   "outputs": [
    {
     "name": "stdout",
     "output_type": "stream",
     "text": [
      "johns medical college hospital ( jmh ) , bangalore by the department of endocrinology on patients diagnosed to have congenital adrenal hyperplasia \n",
      "\n",
      " Inference time: 0:00:01.172991 \n",
      "\n",
      " Number of words: 22\n"
     ]
    }
   ],
   "source": [
    "response, latency = call_bedrock(models[\"j2\"], prompt_data)\n",
    "print(response, \"\\n\\n\", \"Inference time:\", latency, \"\\n\\n\", \"Number of words:\", len(response.split(\" \")))"
   ]
  },
  {
   "cell_type": "code",
   "execution_count": 102,
   "id": "0760fd75",
   "metadata": {},
   "outputs": [
    {
     "name": "stdout",
     "output_type": "stream",
     "text": [
      "A genetic disorder that results in abnormalities in the biosynthesis of steroid precursors is called congenital adrenal hyperplasia ( CAH). The clinical range varies from the mild, non-classical kind to the severe, classical kind, and is brought on by an enzyme shortage. 29 people were enrolled in the research, including 22 women and 7 men. 11 of them were adults, and 18 of them were children. While 9 infants were discovered at birth owing to genital ambiguity, 1 presented with adrenal crisis symptoms at four weeks of age, 4 patients presented in the pre-pubertal period due to early adrenarche, 5 patients presented in the late adolescent period with marked virilization, and 3 patients presented in the late adolescent period with features of polycystic ovarian disease, 22 women were identified as having classic cah. The mean adult height of those with nccah was higher than that of those with classic cah, although none of the nccah patients received glucocorticoids and all children were given hydrocortisone. Three of the adult patients who sought medical attention late were given pubertal induction with ethinyl estradiol. \n",
      "\n",
      " Inference time: 0:00:08.324319 \n",
      "\n",
      " Number of words: 181\n"
     ]
    }
   ],
   "source": [
    "response, latency = call_bedrock(models[\"titan\"], prompt_data)\n",
    "print(response, \"\\n\\n\", \"Inference time:\", latency, \"\\n\\n\", \"Number of words:\", len(response.split(\" \")))"
   ]
  },
  {
   "cell_type": "code",
   "execution_count": 103,
   "id": "a379bda0",
   "metadata": {},
   "outputs": [
    {
     "data": {
      "text/plain": [
       "919"
      ]
     },
     "execution_count": 103,
     "metadata": {},
     "output_type": "execute_result"
    }
   ],
   "source": [
    "# how long was our example text?\n",
    "len(prompt_data.split(\" \"))"
   ]
  },
  {
   "attachments": {},
   "cell_type": "markdown",
   "id": "b33c6279",
   "metadata": {},
   "source": [
    "# Summarization\n",
    "Adding that the prompt should be in 5 bullet points and that the style should be appropriate for a high school student. "
   ]
  },
  {
   "attachments": {},
   "cell_type": "markdown",
   "id": "53e9af7f",
   "metadata": {},
   "source": [
    "### Anthropic Claude Summarisation Deep Dive\n",
    "For Antropic Claude the order of the prompt should roughly be the following:\n",
    "- “/n/n Human:“\n",
    "- Give task context\n",
    "- Give detailed task description, including rules  and exceptions. Explain it as you would to a new employee with no context. \n",
    "- Give examples. Inputs and outputs (optional, but improves formatting and accuracy)\n",
    "- Demonstrate the output formatting you want; deal with clauses chattiness \n",
    "- Assistant: \n",
    "\n",
    "—> Assistant: My Answer is (\n"
   ]
  },
  {
   "cell_type": "code",
   "execution_count": 106,
   "id": "f8eca2ba",
   "metadata": {},
   "outputs": [],
   "source": [
    "claude_prompt = f\"\"\"\\n\\nHuman: \n",
    "Summarize the following text in 5 sentences as bullet points. Style should be appropriate for a high-school student. \n",
    "<text>{example_text}</text>\n",
    "\n",
    "Assistant: My Answer is (\n",
    "\"\"\""
   ]
  },
  {
   "cell_type": "code",
   "execution_count": 105,
   "id": "428a7a9b",
   "metadata": {},
   "outputs": [
    {
     "name": "stdout",
     "output_type": "stream",
     "text": [
      "• cah refers to enzyme deficiency leading to disorders in steroid production. \n",
      "• Variants range from milder non-classical type to severe classic type. \n",
      "• Study looked at 29 cah patients, mostly children and women, in India.\n",
      "• Common presentations were virilization in women and adrenal crisis in men.\n",
      "• Short stature was found in 1/3 of patients; adult height lower than average.    \n",
      ") \n",
      "\n",
      " Inference time: 0:00:04.298292 \n",
      "\n",
      " Number of words: 64\n"
     ]
    }
   ],
   "source": [
    "response, latency = call_bedrock(models[\"claude\"], claude_prompt)\n",
    "print(response, \"\\n\\n\", \"Inference time:\", latency, \"\\n\\n\", \"Number of words:\", len(response.split(\" \")))"
   ]
  },
  {
   "attachments": {},
   "cell_type": "markdown",
   "id": "d583e463",
   "metadata": {},
   "source": [
    "#### Claude: Adding \\<context\\> and  Switching instruction order "
   ]
  },
  {
   "cell_type": "code",
   "execution_count": 108,
   "id": "0d893bb6",
   "metadata": {},
   "outputs": [
    {
     "name": "stdout",
     "output_type": "stream",
     "text": [
      "\n",
      "•There are types of congenital adrenal hyperplasia (CAH) resulting from enzyme deficiencies that affect steroid production. \n",
      "•The most common form is 21-hydroxylase deficiency, ranging from mild (non-classical) to severe (classic) CAH.  \n",
      "• Patients (especially infants) with classic CAH may experience adrenal crisis without treatment.\n",
      "• Treatment focuses on hormone replacement and growth promotion. \n",
      "•The study found that female classic CAH patients often presented late, average adult height was below normal, and some patients received excess treatment. \n",
      "\n",
      " Inference time: 0:00:04.937051 \n",
      "\n",
      " Number of words: 76\n"
     ]
    }
   ],
   "source": [
    "claude_prompt = f\"\"\"\\n\\nHuman: \n",
    "<context>Medical document, describing genetics defect and its symptoms.</context>\n",
    "<text>{example_text}</text>\n",
    "\n",
    "<instruction>Summarize the following text in 5 sentences as bullet points. Style should be appropriate for a high-school student.</instruction>\n",
    "Assistant: My Answer is \n",
    "\"\"\"\n",
    "response, latency = call_bedrock(models[\"claude\"], claude_prompt)\n",
    "print(response, \"\\n\\n\", \"Inference time:\", latency, \"\\n\\n\", \"Number of words:\", len(response.split(\" \")))"
   ]
  },
  {
   "cell_type": "code",
   "execution_count": 109,
   "id": "2a359ebb",
   "metadata": {},
   "outputs": [
    {
     "name": "stdout",
     "output_type": "stream",
     "text": [
      "\n",
      "• A genetic defect causes an enzyme deficiency leading to impaired steroid production.\n",
      "\n",
      "• The severity varies from mild to severe, causing different symptoms.\n",
      "\n",
      "• The study analyzes 29 patients, mostly females, with the condition.\n",
      "\n",
      "• Infants often present with adrenal crisis; girls may have genital ambiguity. \n",
      "\n",
      "• Treatment and outcomes vary; short stature and suppressed hormone levels are common. \n",
      "\n",
      " Inference time: 0:00:04.228537 \n",
      "\n",
      " Number of words: 57\n"
     ]
    }
   ],
   "source": [
    "claude_prompt = f\"\"\"\\n\\nHuman: \n",
    "<instruction>Summarize the following text in 5 sentences as bullet points. Style should be appropriate for a high-school student.</instruction>\n",
    "<context>Medical document, describing genetics defect and its symptoms.</context>\n",
    "<text>{example_text}</text>\n",
    "Assistant: My Answer is\n",
    "\"\"\"\n",
    "response, latency = call_bedrock(models[\"claude\"], claude_prompt)\n",
    "print(response, \"\\n\\n\", \"Inference time:\", latency, \"\\n\\n\", \"Number of words:\", len(response.split(\" \")))"
   ]
  },
  {
   "attachments": {},
   "cell_type": "markdown",
   "id": "2b3fa41f",
   "metadata": {},
   "source": [
    "### Learnings Claude\n",
    "- Start with \\n\\nHuman:\n",
    "- Wrap context/input in xml tags. \n",
    "- Context helps the model follow the requested level of depth for explanations, otherwise it will follow too much the medical speech. \n",
    "- reversing the order does not change too much the performance. This might be if you have shorter input lenght\n"
   ]
  },
  {
   "attachments": {},
   "cell_type": "markdown",
   "id": "7c593b76",
   "metadata": {},
   "source": [
    "## Titan\n",
    "Now we are going to look at titan model.  "
   ]
  },
  {
   "cell_type": "code",
   "execution_count": 110,
   "id": "ac3b3016",
   "metadata": {},
   "outputs": [
    {
     "name": "stdout",
     "output_type": "stream",
     "text": [
      "1. Congenital adrenal hyperplasia ( CAH ) is a group of autosomal recessive disorders caused by an enzyme deficiency.\n",
      "2. The clinical spectrum may vary from mild to severe, depending on the degree of 21-hydroxylase deficiency.\n",
      "3. The non-classical form of CAH is more common, with a prevalence rate of 1 in 1000.\n",
      "4. Management during childhood is focused on achieving normal growth and attaining appropriate final adult height.\n",
      "5. 17-hydroxyprogesterone (17 OHp) levels are used to assess therapy, and values between 1 ng/mL and 12 ng/mL are considered appropriate. \n",
      "\n",
      " Inference time: 0:00:05.352086 \n",
      "\n",
      " Number of words: 86\n"
     ]
    }
   ],
   "source": [
    "titan_prompt = f\"\"\"Summarize the text below in 5 sentences as bullet points. Style should be appropriate for a high-school student.\n",
    "Text: {example_text}\n",
    "\n",
    "The text is about: \n",
    "\"\"\"\n",
    "response, latency = call_bedrock(models[\"titan\"], titan_prompt)\n",
    "print(response, \"\\n\\n\", \"Inference time:\", latency, \"\\n\\n\", \"Number of words:\", len(response.split(\" \")))"
   ]
  },
  {
   "cell_type": "code",
   "execution_count": 111,
   "id": "27f3914b",
   "metadata": {},
   "outputs": [
    {
     "name": "stdout",
     "output_type": "stream",
     "text": [
      "1. Congenital adrenal hyperplasia is a group of autosomal recessive disorders.\n",
      "2. It is caused by an enzyme deficiency, which leads to defects in the biosynthesis of steroid precursors.\n",
      "3. Depending on the severity and degree of 21-hydroxylase deficiency, the clinical spectrum may vary from mild to classic.\n",
      "4. The non-classical form is more common and affects 1 in 1000 people.\n",
      "5. Management in childhood is focused on achieving normal growth and final adult height. \n",
      "\n",
      " Inference time: 0:00:04.786722 \n",
      "\n",
      " Number of words: 71\n"
     ]
    }
   ],
   "source": [
    "titan_prompt = f\"\"\"\n",
    "{example_text}\n",
    "\n",
    "Instruction: Summarize the text above in 5 sentences as bullet points. Style should be appropriate for a high-school student.\n",
    "The text is about: \n",
    "\"\"\"\n",
    "response, latency = call_bedrock(models[\"titan\"], titan_prompt)\n",
    "print(response, \"\\n\\n\", \"Inference time:\", latency, \"\\n\\n\", \"Number of words:\", len(response.split(\" \")))"
   ]
  },
  {
   "attachments": {},
   "cell_type": "markdown",
   "id": "2dc16bab",
   "metadata": {},
   "source": [
    "### Learning Titan:\n",
    "#### regular order: \n",
    "Start the instruction directly without a new line on the instruction. Reference the text with a \"Text:\" helps. Reference the task body with an output indictor. \n",
    "#### reversed order: \n",
    "It does respond well to the different prompts. Adding a new line on the top, helps it to separate the example text and instructions.\n",
    "\n",
    "A output indicator must be given, ideally referencing the task. This output indicator should directly follow the task if the order is <text><instruction><output indicator> "
   ]
  },
  {
   "attachments": {},
   "cell_type": "markdown",
   "id": "bcb7ae5e",
   "metadata": {},
   "source": [
    "### AI21 "
   ]
  },
  {
   "cell_type": "code",
   "execution_count": 112,
   "id": "77fcc587",
   "metadata": {},
   "outputs": [
    {
     "name": "stdout",
     "output_type": "stream",
     "text": [
      "Congenital adrenal hyperplasia (CAH) refers to a group of autosomal recessive disorders caused by an enzyme deficiency which leads to defects in biosynthesis of steroid precursors. Depending on the severity and degree of 21 hydroxylase deficiency, the clinical spectrum may vary from mild form of non classical CAH to classic CAH. However, the non classical CAH variant is more common with a prevalence rate of 1 in 1000. It helps maintain normal levels of precursors by suppressing adreno corticotrophic hormone (ACTH). The management is focused on achieving normal growth and attaining appropriate final adult height. \n",
      "\n",
      " Inference time: 0:00:03.026570 \n",
      "\n",
      " Number of words: 95\n"
     ]
    }
   ],
   "source": [
    "j2_prompt = f\"\"\"Instruction:\n",
    "Summarize the text below in 5 sentences as bullet points. Style should be appropriate for a high-school student.\n",
    "{example_text}\n",
    "\n",
    "The text is about:\n",
    "\"\"\"\n",
    "response, latency = call_bedrock(models[\"j2\"], j2_prompt)\n",
    "print(response, \"\\n\\n\", \"Inference time:\", latency, \"\\n\\n\", \"Number of words:\", len(response.split(\" \")))"
   ]
  },
  {
   "cell_type": "code",
   "execution_count": 113,
   "id": "0b97e727",
   "metadata": {},
   "outputs": [
    {
     "name": "stdout",
     "output_type": "stream",
     "text": [
      "\n",
      "*A group of disorders caused by an enzyme deficiency that leads to defects in biosynthesis of steroid precursors.\n",
      "*The severity of 21 hydroxylase deficiency determines the clinical spectrum, which varies from mild to classic.\n",
      "*The management is mostly focused on achieving normal growth and final adult height during childhood.\n",
      "*A study was conducted on 29 patients diagnosed with CAH and seen between 2012 and 2012, and data was collected.\n",
      "*The study reported that most classical CAH patients had short stature and suppressed 17 OHP levels, while most NCCAH patients had adequate 17 OHP levels. \n",
      "\n",
      " Inference time: 0:00:03.497687 \n",
      "\n",
      " Number of words: 90\n"
     ]
    }
   ],
   "source": [
    "j2_prompt = f\"\"\"{example_text}\n",
    "Instruction:\n",
    "Summarize the text above in 5 sentences as bullet points. Style should be appropriate for a high-school student.\n",
    "\n",
    "The text is about:\n",
    "\"\"\"\n",
    "response, latency = call_bedrock(models[\"j2\"], j2_prompt)\n",
    "print(response, \"\\n\\n\", \"Inference time:\", latency, \"\\n\\n\", \"Number of words:\", len(response.split(\" \")))"
   ]
  },
  {
   "attachments": {},
   "cell_type": "markdown",
   "id": "d9e70aea",
   "metadata": {},
   "source": [
    "### Learning J2:\n",
    "Adding a tag \"Instruction:\" helps it to follow what you ask it. \n",
    "\"Context:\" does not seem to help. \n",
    "#### regular order: \n",
    "Does not work consistently. To be abandoned\n",
    "#### reversed order: \n",
    "Directly start with the text to summarize. No new line, no indicator, that it is text. \n",
    "<text><instruction><output indicator> "
   ]
  },
  {
   "attachments": {},
   "cell_type": "markdown",
   "id": "390c3507",
   "metadata": {},
   "source": [
    "# Question and Answering\n",
    "For Q&A on the medical dataset we are going to use the [MedQuA](https://github.com/abachaa/MedQuAD) dataset. We will pick different Q&A pairs to evaluate the evoltion of our prompt. "
   ]
  },
  {
   "cell_type": "code",
   "execution_count": 9,
   "id": "a7097af9",
   "metadata": {},
   "outputs": [],
   "source": [
    "f = open(\"./painkiller_leaflet_short.txt\", \"r\")\n",
    "instapainrelief_text = f.read()\n"
   ]
  },
  {
   "attachments": {},
   "cell_type": "markdown",
   "id": "b7ca811d",
   "metadata": {},
   "source": [
    "### Claude model\n"
   ]
  },
  {
   "cell_type": "code",
   "execution_count": 115,
   "id": "3e8470e7",
   "metadata": {},
   "outputs": [
    {
     "name": "stdout",
     "output_type": "stream",
     "text": [
      "\n",
      "No, you should avoid drinking alcohol while taking InstaPainRelief tablets. \n",
      "\n",
      " Inference time: 0:00:03.021411 \n",
      "\n",
      " Number of words: 10\n"
     ]
    }
   ],
   "source": [
    "claude_prompt = f\"\"\"\\n\\nHuman: \n",
    "Given the text below, answer the following questions as found in the text. Answer like you would be talking to a five year old. \n",
    "<text>{instapainrelief_text}</text>\n",
    "\n",
    "<question>Can I drink Alcohol while taking the medicine?</question>\n",
    "\n",
    "Assistant: My Answer is (\n",
    "\"\"\"\n",
    "\n",
    "response, latency = call_bedrock(models[\"claude\"], claude_prompt)\n",
    "print(response, \"\\n\\n\", \"Inference time:\", latency, \"\\n\\n\", \"Number of words:\", len(response.split(\" \")))"
   ]
  },
  {
   "cell_type": "code",
   "execution_count": 116,
   "id": "e01748bb",
   "metadata": {},
   "outputs": [
    {
     "name": "stdout",
     "output_type": "stream",
     "text": [
      "\n",
      "I don't know\n",
      "\n",
      ") the package size of InstaPainRelief. This information is not provided in the given text. \n",
      "\n",
      " Inference time: 0:00:03.437955 \n",
      "\n",
      " Number of words: 17\n"
     ]
    }
   ],
   "source": [
    "claude_prompt = f\"\"\"\\n\\nHuman: \n",
    "Given the text below, answer the following questions as found in the text. Answer like you would be talking to a five year old. If you do not know the answer, respond with \"I don't know\".\n",
    "<text>{instapainrelief_text}</text>\n",
    "\n",
    "<question>In what package size is InstaPainRelief available?</question>\n",
    "\n",
    "Assistant: My Answer is (\n",
    "\"\"\"\n",
    "\n",
    "response, latency = call_bedrock(models[\"claude\"], claude_prompt)\n",
    "print(response, \"\\n\\n\", \"Inference time:\", latency, \"\\n\\n\", \"Number of words:\", len(response.split(\" \")))"
   ]
  },
  {
   "attachments": {},
   "cell_type": "markdown",
   "id": "23d78c76",
   "metadata": {},
   "source": [
    "### Titan model"
   ]
  },
  {
   "cell_type": "code",
   "execution_count": 117,
   "id": "40e477e0",
   "metadata": {},
   "outputs": [
    {
     "name": "stdout",
     "output_type": "stream",
     "text": [
      "No, do not drink Alcohol while taking the medicine, it may make you feel sick. \n",
      "\n",
      " Inference time: 0:00:04.007388 \n",
      "\n",
      " Number of words: 15\n"
     ]
    }
   ],
   "source": [
    "titan_prompt = f\"\"\"{instapainrelief_text_short}\n",
    "\n",
    "Given the text above, answer the following questions as found in the text. Answer like you would be talking to a five year old. \n",
    "\n",
    "Question: Can I drink Alcohol while taking the medicine?\n",
    "Answer: \n",
    "\"\"\"\n",
    "\n",
    "response, latency = call_bedrock(models[\"titan\"], titan_prompt)\n",
    "print(response, \"\\n\\n\", \"Inference time:\", latency, \"\\n\\n\", \"Number of words:\", len(response.split(\" \")))"
   ]
  },
  {
   "attachments": {},
   "cell_type": "markdown",
   "id": "be7fe513",
   "metadata": {},
   "source": [
    "### J2 model"
   ]
  },
  {
   "cell_type": "code",
   "execution_count": 118,
   "id": "8e561afe",
   "metadata": {},
   "outputs": [
    {
     "name": "stdout",
     "output_type": "stream",
     "text": [
      "It is not recommended to take Alcohol while taking this medicine as it may intensify side effects. \n",
      "\n",
      " Inference time: 0:00:01.010567 \n",
      "\n",
      " Number of words: 17\n"
     ]
    }
   ],
   "source": [
    "j2_prompt = f\"\"\"{instapainrelief_text_short}\n",
    "Given the text above, answer the following questions as found in the text. Answer like you would be talking to a five year old. \n",
    "\n",
    "Question: Can I drink Alcohol while taking the medicine?\n",
    "Answer: \n",
    "\"\"\"\n",
    "response, latency = call_bedrock(models[\"j2\"], j2_prompt)\n",
    "print(response, \"\\n\\n\", \"Inference time:\", latency, \"\\n\\n\", \"Number of words:\", len(response.split(\" \")))"
   ]
  },
  {
   "attachments": {},
   "cell_type": "markdown",
   "id": "c140e2a5",
   "metadata": {},
   "source": [
    "# Text Generation - Chemical reaction "
   ]
  },
  {
   "attachments": {},
   "cell_type": "markdown",
   "id": "c8857071",
   "metadata": {},
   "source": [
    "### Claude "
   ]
  },
  {
   "cell_type": "code",
   "execution_count": 119,
   "id": "c181daaf",
   "metadata": {},
   "outputs": [
    {
     "name": "stdout",
     "output_type": "stream",
     "text": [
      "\n",
      "Sulfuric acid reacts with sodium chloride, and gives <chemical1>sodium sulfate</chemical1> and <chemical2>hydrogen chloride</chemical2>: \n",
      "\n",
      " Inference time: 0:00:01.216493 \n",
      "\n",
      " Number of words: 13\n"
     ]
    }
   ],
   "source": [
    "claude_prompt = f\"\"\"\\n\\nHuman: \n",
    "Sulfuric acid reacts with sodium chloride, and gives <chemical1>_____</chemical1> and <chemical2>_____<chemical2>:\n",
    "\n",
    "Assistant: the chemical1 and chemical 2 are:\n",
    "\"\"\"\n",
    "\n",
    "response, latency = call_bedrock(models[\"claude\"], claude_prompt)\n",
    "print(response, \"\\n\\n\", \"Inference time:\", latency, \"\\n\\n\", \"Number of words:\", len(response.split(\" \")))"
   ]
  },
  {
   "attachments": {},
   "cell_type": "markdown",
   "id": "d01f3238",
   "metadata": {},
   "source": [
    "### Titan"
   ]
  },
  {
   "cell_type": "code",
   "execution_count": 120,
   "id": "2a3400af",
   "metadata": {},
   "outputs": [
    {
     "name": "stdout",
     "output_type": "stream",
     "text": [
      "sodium sulfate and sulfur dioxide \n",
      "\n",
      " Inference time: 0:00:01.022524 \n",
      "\n",
      " Number of words: 5\n"
     ]
    }
   ],
   "source": [
    "titan_prompt =f\"\"\"Question:\n",
    "Sulfuric acid reacts with sodium chloride, and gives _____ and _____:\n",
    "\n",
    "Answer: the chemical compounds are:\n",
    "\"\"\"\n",
    "\n",
    "response, latency = call_bedrock(models[\"titan\"], titan_prompt)\n",
    "print(response, \"\\n\\n\", \"Inference time:\", latency, \"\\n\\n\", \"Number of words:\", len(response.split(\" \")))"
   ]
  },
  {
   "attachments": {},
   "cell_type": "markdown",
   "id": "f8f55ff5",
   "metadata": {},
   "source": [
    "### J2 model"
   ]
  },
  {
   "cell_type": "code",
   "execution_count": 123,
   "id": "e434f492",
   "metadata": {},
   "outputs": [
    {
     "name": "stdout",
     "output_type": "stream",
     "text": [
      "sodium sulfate and hydrogen chloride. \n",
      "\n",
      " Inference time: 0:00:00.562379 \n",
      "\n",
      " Number of words: 5\n"
     ]
    }
   ],
   "source": [
    "j2_prompt = f\"\"\"Question:\n",
    "Sulfuric acid reacts with sodium chloride, and gives _____ and _____:\n",
    "\n",
    "Answer: the chemical compounds are:\n",
    "\"\"\"\n",
    "response, latency = call_bedrock(models[\"j2\"], j2_prompt)\n",
    "print(response, \"\\n\\n\", \"Inference time:\", latency, \"\\n\\n\", \"Number of words:\", len(response.split(\" \")))"
   ]
  },
  {
   "attachments": {},
   "cell_type": "markdown",
   "id": "ca49b2da",
   "metadata": {},
   "source": []
  }
 ],
 "metadata": {
  "availableInstances": [
   {
    "_defaultOrder": 0,
    "_isFastLaunch": true,
    "category": "General purpose",
    "gpuNum": 0,
    "hideHardwareSpecs": false,
    "memoryGiB": 4,
    "name": "ml.t3.medium",
    "vcpuNum": 2
   },
   {
    "_defaultOrder": 1,
    "_isFastLaunch": false,
    "category": "General purpose",
    "gpuNum": 0,
    "hideHardwareSpecs": false,
    "memoryGiB": 8,
    "name": "ml.t3.large",
    "vcpuNum": 2
   },
   {
    "_defaultOrder": 2,
    "_isFastLaunch": false,
    "category": "General purpose",
    "gpuNum": 0,
    "hideHardwareSpecs": false,
    "memoryGiB": 16,
    "name": "ml.t3.xlarge",
    "vcpuNum": 4
   },
   {
    "_defaultOrder": 3,
    "_isFastLaunch": false,
    "category": "General purpose",
    "gpuNum": 0,
    "hideHardwareSpecs": false,
    "memoryGiB": 32,
    "name": "ml.t3.2xlarge",
    "vcpuNum": 8
   },
   {
    "_defaultOrder": 4,
    "_isFastLaunch": true,
    "category": "General purpose",
    "gpuNum": 0,
    "hideHardwareSpecs": false,
    "memoryGiB": 8,
    "name": "ml.m5.large",
    "vcpuNum": 2
   },
   {
    "_defaultOrder": 5,
    "_isFastLaunch": false,
    "category": "General purpose",
    "gpuNum": 0,
    "hideHardwareSpecs": false,
    "memoryGiB": 16,
    "name": "ml.m5.xlarge",
    "vcpuNum": 4
   },
   {
    "_defaultOrder": 6,
    "_isFastLaunch": false,
    "category": "General purpose",
    "gpuNum": 0,
    "hideHardwareSpecs": false,
    "memoryGiB": 32,
    "name": "ml.m5.2xlarge",
    "vcpuNum": 8
   },
   {
    "_defaultOrder": 7,
    "_isFastLaunch": false,
    "category": "General purpose",
    "gpuNum": 0,
    "hideHardwareSpecs": false,
    "memoryGiB": 64,
    "name": "ml.m5.4xlarge",
    "vcpuNum": 16
   },
   {
    "_defaultOrder": 8,
    "_isFastLaunch": false,
    "category": "General purpose",
    "gpuNum": 0,
    "hideHardwareSpecs": false,
    "memoryGiB": 128,
    "name": "ml.m5.8xlarge",
    "vcpuNum": 32
   },
   {
    "_defaultOrder": 9,
    "_isFastLaunch": false,
    "category": "General purpose",
    "gpuNum": 0,
    "hideHardwareSpecs": false,
    "memoryGiB": 192,
    "name": "ml.m5.12xlarge",
    "vcpuNum": 48
   },
   {
    "_defaultOrder": 10,
    "_isFastLaunch": false,
    "category": "General purpose",
    "gpuNum": 0,
    "hideHardwareSpecs": false,
    "memoryGiB": 256,
    "name": "ml.m5.16xlarge",
    "vcpuNum": 64
   },
   {
    "_defaultOrder": 11,
    "_isFastLaunch": false,
    "category": "General purpose",
    "gpuNum": 0,
    "hideHardwareSpecs": false,
    "memoryGiB": 384,
    "name": "ml.m5.24xlarge",
    "vcpuNum": 96
   },
   {
    "_defaultOrder": 12,
    "_isFastLaunch": false,
    "category": "General purpose",
    "gpuNum": 0,
    "hideHardwareSpecs": false,
    "memoryGiB": 8,
    "name": "ml.m5d.large",
    "vcpuNum": 2
   },
   {
    "_defaultOrder": 13,
    "_isFastLaunch": false,
    "category": "General purpose",
    "gpuNum": 0,
    "hideHardwareSpecs": false,
    "memoryGiB": 16,
    "name": "ml.m5d.xlarge",
    "vcpuNum": 4
   },
   {
    "_defaultOrder": 14,
    "_isFastLaunch": false,
    "category": "General purpose",
    "gpuNum": 0,
    "hideHardwareSpecs": false,
    "memoryGiB": 32,
    "name": "ml.m5d.2xlarge",
    "vcpuNum": 8
   },
   {
    "_defaultOrder": 15,
    "_isFastLaunch": false,
    "category": "General purpose",
    "gpuNum": 0,
    "hideHardwareSpecs": false,
    "memoryGiB": 64,
    "name": "ml.m5d.4xlarge",
    "vcpuNum": 16
   },
   {
    "_defaultOrder": 16,
    "_isFastLaunch": false,
    "category": "General purpose",
    "gpuNum": 0,
    "hideHardwareSpecs": false,
    "memoryGiB": 128,
    "name": "ml.m5d.8xlarge",
    "vcpuNum": 32
   },
   {
    "_defaultOrder": 17,
    "_isFastLaunch": false,
    "category": "General purpose",
    "gpuNum": 0,
    "hideHardwareSpecs": false,
    "memoryGiB": 192,
    "name": "ml.m5d.12xlarge",
    "vcpuNum": 48
   },
   {
    "_defaultOrder": 18,
    "_isFastLaunch": false,
    "category": "General purpose",
    "gpuNum": 0,
    "hideHardwareSpecs": false,
    "memoryGiB": 256,
    "name": "ml.m5d.16xlarge",
    "vcpuNum": 64
   },
   {
    "_defaultOrder": 19,
    "_isFastLaunch": false,
    "category": "General purpose",
    "gpuNum": 0,
    "hideHardwareSpecs": false,
    "memoryGiB": 384,
    "name": "ml.m5d.24xlarge",
    "vcpuNum": 96
   },
   {
    "_defaultOrder": 20,
    "_isFastLaunch": false,
    "category": "General purpose",
    "gpuNum": 0,
    "hideHardwareSpecs": true,
    "memoryGiB": 0,
    "name": "ml.geospatial.interactive",
    "supportedImageNames": [
     "sagemaker-geospatial-v1-0"
    ],
    "vcpuNum": 0
   },
   {
    "_defaultOrder": 21,
    "_isFastLaunch": true,
    "category": "Compute optimized",
    "gpuNum": 0,
    "hideHardwareSpecs": false,
    "memoryGiB": 4,
    "name": "ml.c5.large",
    "vcpuNum": 2
   },
   {
    "_defaultOrder": 22,
    "_isFastLaunch": false,
    "category": "Compute optimized",
    "gpuNum": 0,
    "hideHardwareSpecs": false,
    "memoryGiB": 8,
    "name": "ml.c5.xlarge",
    "vcpuNum": 4
   },
   {
    "_defaultOrder": 23,
    "_isFastLaunch": false,
    "category": "Compute optimized",
    "gpuNum": 0,
    "hideHardwareSpecs": false,
    "memoryGiB": 16,
    "name": "ml.c5.2xlarge",
    "vcpuNum": 8
   },
   {
    "_defaultOrder": 24,
    "_isFastLaunch": false,
    "category": "Compute optimized",
    "gpuNum": 0,
    "hideHardwareSpecs": false,
    "memoryGiB": 32,
    "name": "ml.c5.4xlarge",
    "vcpuNum": 16
   },
   {
    "_defaultOrder": 25,
    "_isFastLaunch": false,
    "category": "Compute optimized",
    "gpuNum": 0,
    "hideHardwareSpecs": false,
    "memoryGiB": 72,
    "name": "ml.c5.9xlarge",
    "vcpuNum": 36
   },
   {
    "_defaultOrder": 26,
    "_isFastLaunch": false,
    "category": "Compute optimized",
    "gpuNum": 0,
    "hideHardwareSpecs": false,
    "memoryGiB": 96,
    "name": "ml.c5.12xlarge",
    "vcpuNum": 48
   },
   {
    "_defaultOrder": 27,
    "_isFastLaunch": false,
    "category": "Compute optimized",
    "gpuNum": 0,
    "hideHardwareSpecs": false,
    "memoryGiB": 144,
    "name": "ml.c5.18xlarge",
    "vcpuNum": 72
   },
   {
    "_defaultOrder": 28,
    "_isFastLaunch": false,
    "category": "Compute optimized",
    "gpuNum": 0,
    "hideHardwareSpecs": false,
    "memoryGiB": 192,
    "name": "ml.c5.24xlarge",
    "vcpuNum": 96
   },
   {
    "_defaultOrder": 29,
    "_isFastLaunch": true,
    "category": "Accelerated computing",
    "gpuNum": 1,
    "hideHardwareSpecs": false,
    "memoryGiB": 16,
    "name": "ml.g4dn.xlarge",
    "vcpuNum": 4
   },
   {
    "_defaultOrder": 30,
    "_isFastLaunch": false,
    "category": "Accelerated computing",
    "gpuNum": 1,
    "hideHardwareSpecs": false,
    "memoryGiB": 32,
    "name": "ml.g4dn.2xlarge",
    "vcpuNum": 8
   },
   {
    "_defaultOrder": 31,
    "_isFastLaunch": false,
    "category": "Accelerated computing",
    "gpuNum": 1,
    "hideHardwareSpecs": false,
    "memoryGiB": 64,
    "name": "ml.g4dn.4xlarge",
    "vcpuNum": 16
   },
   {
    "_defaultOrder": 32,
    "_isFastLaunch": false,
    "category": "Accelerated computing",
    "gpuNum": 1,
    "hideHardwareSpecs": false,
    "memoryGiB": 128,
    "name": "ml.g4dn.8xlarge",
    "vcpuNum": 32
   },
   {
    "_defaultOrder": 33,
    "_isFastLaunch": false,
    "category": "Accelerated computing",
    "gpuNum": 4,
    "hideHardwareSpecs": false,
    "memoryGiB": 192,
    "name": "ml.g4dn.12xlarge",
    "vcpuNum": 48
   },
   {
    "_defaultOrder": 34,
    "_isFastLaunch": false,
    "category": "Accelerated computing",
    "gpuNum": 1,
    "hideHardwareSpecs": false,
    "memoryGiB": 256,
    "name": "ml.g4dn.16xlarge",
    "vcpuNum": 64
   },
   {
    "_defaultOrder": 35,
    "_isFastLaunch": false,
    "category": "Accelerated computing",
    "gpuNum": 1,
    "hideHardwareSpecs": false,
    "memoryGiB": 61,
    "name": "ml.p3.2xlarge",
    "vcpuNum": 8
   },
   {
    "_defaultOrder": 36,
    "_isFastLaunch": false,
    "category": "Accelerated computing",
    "gpuNum": 4,
    "hideHardwareSpecs": false,
    "memoryGiB": 244,
    "name": "ml.p3.8xlarge",
    "vcpuNum": 32
   },
   {
    "_defaultOrder": 37,
    "_isFastLaunch": false,
    "category": "Accelerated computing",
    "gpuNum": 8,
    "hideHardwareSpecs": false,
    "memoryGiB": 488,
    "name": "ml.p3.16xlarge",
    "vcpuNum": 64
   },
   {
    "_defaultOrder": 38,
    "_isFastLaunch": false,
    "category": "Accelerated computing",
    "gpuNum": 8,
    "hideHardwareSpecs": false,
    "memoryGiB": 768,
    "name": "ml.p3dn.24xlarge",
    "vcpuNum": 96
   },
   {
    "_defaultOrder": 39,
    "_isFastLaunch": false,
    "category": "Memory Optimized",
    "gpuNum": 0,
    "hideHardwareSpecs": false,
    "memoryGiB": 16,
    "name": "ml.r5.large",
    "vcpuNum": 2
   },
   {
    "_defaultOrder": 40,
    "_isFastLaunch": false,
    "category": "Memory Optimized",
    "gpuNum": 0,
    "hideHardwareSpecs": false,
    "memoryGiB": 32,
    "name": "ml.r5.xlarge",
    "vcpuNum": 4
   },
   {
    "_defaultOrder": 41,
    "_isFastLaunch": false,
    "category": "Memory Optimized",
    "gpuNum": 0,
    "hideHardwareSpecs": false,
    "memoryGiB": 64,
    "name": "ml.r5.2xlarge",
    "vcpuNum": 8
   },
   {
    "_defaultOrder": 42,
    "_isFastLaunch": false,
    "category": "Memory Optimized",
    "gpuNum": 0,
    "hideHardwareSpecs": false,
    "memoryGiB": 128,
    "name": "ml.r5.4xlarge",
    "vcpuNum": 16
   },
   {
    "_defaultOrder": 43,
    "_isFastLaunch": false,
    "category": "Memory Optimized",
    "gpuNum": 0,
    "hideHardwareSpecs": false,
    "memoryGiB": 256,
    "name": "ml.r5.8xlarge",
    "vcpuNum": 32
   },
   {
    "_defaultOrder": 44,
    "_isFastLaunch": false,
    "category": "Memory Optimized",
    "gpuNum": 0,
    "hideHardwareSpecs": false,
    "memoryGiB": 384,
    "name": "ml.r5.12xlarge",
    "vcpuNum": 48
   },
   {
    "_defaultOrder": 45,
    "_isFastLaunch": false,
    "category": "Memory Optimized",
    "gpuNum": 0,
    "hideHardwareSpecs": false,
    "memoryGiB": 512,
    "name": "ml.r5.16xlarge",
    "vcpuNum": 64
   },
   {
    "_defaultOrder": 46,
    "_isFastLaunch": false,
    "category": "Memory Optimized",
    "gpuNum": 0,
    "hideHardwareSpecs": false,
    "memoryGiB": 768,
    "name": "ml.r5.24xlarge",
    "vcpuNum": 96
   },
   {
    "_defaultOrder": 47,
    "_isFastLaunch": false,
    "category": "Accelerated computing",
    "gpuNum": 1,
    "hideHardwareSpecs": false,
    "memoryGiB": 16,
    "name": "ml.g5.xlarge",
    "vcpuNum": 4
   },
   {
    "_defaultOrder": 48,
    "_isFastLaunch": false,
    "category": "Accelerated computing",
    "gpuNum": 1,
    "hideHardwareSpecs": false,
    "memoryGiB": 32,
    "name": "ml.g5.2xlarge",
    "vcpuNum": 8
   },
   {
    "_defaultOrder": 49,
    "_isFastLaunch": false,
    "category": "Accelerated computing",
    "gpuNum": 1,
    "hideHardwareSpecs": false,
    "memoryGiB": 64,
    "name": "ml.g5.4xlarge",
    "vcpuNum": 16
   },
   {
    "_defaultOrder": 50,
    "_isFastLaunch": false,
    "category": "Accelerated computing",
    "gpuNum": 1,
    "hideHardwareSpecs": false,
    "memoryGiB": 128,
    "name": "ml.g5.8xlarge",
    "vcpuNum": 32
   },
   {
    "_defaultOrder": 51,
    "_isFastLaunch": false,
    "category": "Accelerated computing",
    "gpuNum": 1,
    "hideHardwareSpecs": false,
    "memoryGiB": 256,
    "name": "ml.g5.16xlarge",
    "vcpuNum": 64
   },
   {
    "_defaultOrder": 52,
    "_isFastLaunch": false,
    "category": "Accelerated computing",
    "gpuNum": 4,
    "hideHardwareSpecs": false,
    "memoryGiB": 192,
    "name": "ml.g5.12xlarge",
    "vcpuNum": 48
   },
   {
    "_defaultOrder": 53,
    "_isFastLaunch": false,
    "category": "Accelerated computing",
    "gpuNum": 4,
    "hideHardwareSpecs": false,
    "memoryGiB": 384,
    "name": "ml.g5.24xlarge",
    "vcpuNum": 96
   },
   {
    "_defaultOrder": 54,
    "_isFastLaunch": false,
    "category": "Accelerated computing",
    "gpuNum": 8,
    "hideHardwareSpecs": false,
    "memoryGiB": 768,
    "name": "ml.g5.48xlarge",
    "vcpuNum": 192
   },
   {
    "_defaultOrder": 55,
    "_isFastLaunch": false,
    "category": "Accelerated computing",
    "gpuNum": 8,
    "hideHardwareSpecs": false,
    "memoryGiB": 1152,
    "name": "ml.p4d.24xlarge",
    "vcpuNum": 96
   },
   {
    "_defaultOrder": 56,
    "_isFastLaunch": false,
    "category": "Accelerated computing",
    "gpuNum": 8,
    "hideHardwareSpecs": false,
    "memoryGiB": 1152,
    "name": "ml.p4de.24xlarge",
    "vcpuNum": 96
   }
  ],
  "instance_type": "ml.t3.medium",
  "kernelspec": {
   "display_name": "bedrock",
   "language": "python",
   "name": "python3"
  },
  "language_info": {
   "codemirror_mode": {
    "name": "ipython",
    "version": 3
   },
   "file_extension": ".py",
   "mimetype": "text/x-python",
   "name": "python",
   "nbconvert_exporter": "python",
   "pygments_lexer": "ipython3",
   "version": "3.9.16"
  }
 },
 "nbformat": 4,
 "nbformat_minor": 5
}
