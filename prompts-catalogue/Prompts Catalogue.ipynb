{
 "cells": [
  {
   "cell_type": "markdown",
   "id": "abcfa1ad",
   "metadata": {},
   "source": [
    "# Prompt Examples Catalogue for Generative AI\n",
    "\n",
    "In this example, we'll setup a tool for browsing through prompt examples per industry, genai task, and language, to make it easier to get inspiration on potential use cases of [**Generative AI with AWS**](https://aws.amazon.com/generative-ai/).\n",
    "\n",
    "We provide a pre-defined set of example prompts in a file, but you can adapt the tool to create your examples and/or importing your own set of examples."
   ]
  },
  {
   "cell_type": "markdown",
   "id": "49be1d79",
   "metadata": {},
   "source": [
    "## Read pre-defined example catalogue"
   ]
  },
  {
   "cell_type": "code",
   "execution_count": 1,
   "id": "9adcef56",
   "metadata": {},
   "outputs": [],
   "source": [
    "import pandas as pd"
   ]
  },
  {
   "cell_type": "code",
   "execution_count": 31,
   "id": "9ffbbce3",
   "metadata": {},
   "outputs": [
    {
     "data": {
      "text/html": [
       "<div>\n",
       "<style scoped>\n",
       "    .dataframe tbody tr th:only-of-type {\n",
       "        vertical-align: middle;\n",
       "    }\n",
       "\n",
       "    .dataframe tbody tr th {\n",
       "        vertical-align: top;\n",
       "    }\n",
       "\n",
       "    .dataframe thead th {\n",
       "        text-align: right;\n",
       "    }\n",
       "</style>\n",
       "<table border=\"1\" class=\"dataframe\">\n",
       "  <thead>\n",
       "    <tr style=\"text-align: right;\">\n",
       "      <th></th>\n",
       "      <th>industry</th>\n",
       "      <th>use case</th>\n",
       "      <th>task</th>\n",
       "      <th>prompting technique</th>\n",
       "      <th>language</th>\n",
       "      <th>model</th>\n",
       "      <th>date added</th>\n",
       "      <th>input prompt</th>\n",
       "      <th>model output</th>\n",
       "    </tr>\n",
       "  </thead>\n",
       "  <tbody>\n",
       "    <tr>\n",
       "      <th>0</th>\n",
       "      <td>Media &amp; Entertainment</td>\n",
       "      <td>A media &amp; entertainment company wants to gener...</td>\n",
       "      <td>Text Generation</td>\n",
       "      <td>Zero-shot</td>\n",
       "      <td>English</td>\n",
       "      <td>Amazon Titan Large</td>\n",
       "      <td>July 2023</td>\n",
       "      <td>Generate a list of 10 recommended TV shows to ...</td>\n",
       "      <td>1. The Last Dance: This documentary series fol...</td>\n",
       "    </tr>\n",
       "  </tbody>\n",
       "</table>\n",
       "</div>"
      ],
      "text/plain": [
       "                industry                                           use case  \\\n",
       "0  Media & Entertainment  A media & entertainment company wants to gener...   \n",
       "\n",
       "              task prompting technique language               model  \\\n",
       "0  Text Generation           Zero-shot  English  Amazon Titan Large   \n",
       "\n",
       "  date added                                       input prompt  \\\n",
       "0  July 2023  Generate a list of 10 recommended TV shows to ...   \n",
       "\n",
       "                                        model output  \n",
       "0  1. The Last Dance: This documentary series fol...  "
      ]
     },
     "execution_count": 31,
     "metadata": {},
     "output_type": "execute_result"
    }
   ],
   "source": [
    "catalogue = pd.read_csv('./rodzanto-catalogue-20230804.csv', sep='_')\n",
    "catalogue"
   ]
  },
  {
   "cell_type": "code",
   "execution_count": 33,
   "id": "344e54ff",
   "metadata": {},
   "outputs": [
    {
     "name": "stdout",
     "output_type": "stream",
     "text": [
      "Generate a list of 10 recommended TV shows to watch considering the information in the metadata below.\\nInclude a very brief description of each recommendation.\\nMetadata:\\nCountry is UK\\nAge range between 20-30\\nShows must be about sports\\nList of recommendations:\n"
     ]
    }
   ],
   "source": [
    "input_prompt = catalogue.iloc[0,7]\n",
    "print(input_prompt)"
   ]
  },
  {
   "cell_type": "code",
   "execution_count": 34,
   "id": "a8508871",
   "metadata": {},
   "outputs": [],
   "source": [
    "catalogue.to_parquet(f'aws-examples-07082023.parquet.gzip', compression='gzip')"
   ]
  },
  {
   "cell_type": "code",
   "execution_count": null,
   "id": "80c132f7",
   "metadata": {},
   "outputs": [],
   "source": []
  }
 ],
 "metadata": {
  "kernelspec": {
   "display_name": "Python 3 (ipykernel)",
   "language": "python",
   "name": "python3"
  },
  "language_info": {
   "codemirror_mode": {
    "name": "ipython",
    "version": 3
   },
   "file_extension": ".py",
   "mimetype": "text/x-python",
   "name": "python",
   "nbconvert_exporter": "python",
   "pygments_lexer": "ipython3",
   "version": "3.9.5"
  }
 },
 "nbformat": 4,
 "nbformat_minor": 5
}
