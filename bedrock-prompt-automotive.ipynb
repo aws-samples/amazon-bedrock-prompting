{
 "cells": [
  {
   "cell_type": "markdown",
   "id": "a15f81e3-0976-4ff7-8ae1-ddb5fbdf1d94",
   "metadata": {},
   "source": [
    "# Introduction to Bedrock - PE - Auto"
   ]
  },
  {
   "cell_type": "markdown",
   "id": "d2839534-a6ac-4102-9728-2c1123fc305f",
   "metadata": {},
   "source": [
    "Before moving on with this notebook, you should finish install dependencies"
   ]
  },
  {
   "cell_type": "markdown",
   "id": "48ecadf9-dacf-4c53-9d04-040d14fba8aa",
   "metadata": {},
   "source": [
    "### Environment Prep"
   ]
  },
  {
   "cell_type": "code",
   "execution_count": 3,
   "id": "14d82998-f5d1-4624-a54f-f9d04422b8d4",
   "metadata": {
    "tags": []
   },
   "outputs": [],
   "source": [
    "import boto3\n",
    "import json\n",
    "import csv\n",
    "from datetime import datetime\n",
    "\n",
    "bedrock = boto3.client(\n",
    " service_name='bedrock',\n",
    " region_name='us-east-1',\n",
    " endpoint_url='https://bedrock.us-east-1.amazonaws.com'\n",
    ")"
   ]
  },
  {
   "cell_type": "code",
   "execution_count": 4,
   "id": "c10722be-2f83-4f8c-89a4-7d9b181029f5",
   "metadata": {
    "scrolled": true,
    "tags": []
   },
   "outputs": [
    {
     "data": {
      "text/plain": [
       "{'ResponseMetadata': {'RequestId': '6317f4f4-8471-4be3-bb89-efb299247ca5',\n",
       "  'HTTPStatusCode': 200,\n",
       "  'HTTPHeaders': {'date': 'Thu, 08 Jun 2023 14:13:56 GMT',\n",
       "   'content-type': 'application/json',\n",
       "   'content-length': '861',\n",
       "   'connection': 'keep-alive',\n",
       "   'x-amzn-requestid': '6317f4f4-8471-4be3-bb89-efb299247ca5'},\n",
       "  'RetryAttempts': 0},\n",
       " 'modelSummaries': [{'modelArn': 'arn:aws:bedrock:us-east-1::foundation-model/amazon.titan-tg1-large',\n",
       "   'modelId': 'amazon.titan-tg1-large'},\n",
       "  {'modelArn': 'arn:aws:bedrock:us-east-1::foundation-model/amazon.titan-e1t-medium',\n",
       "   'modelId': 'amazon.titan-e1t-medium'},\n",
       "  {'modelArn': 'arn:aws:bedrock:us-east-1::foundation-model/stability.stable-diffusion-xl',\n",
       "   'modelId': 'stability.stable-diffusion-xl'},\n",
       "  {'modelArn': 'arn:aws:bedrock:us-east-1::foundation-model/ai21.j2-grande-instruct',\n",
       "   'modelId': 'ai21.j2-grande-instruct'},\n",
       "  {'modelArn': 'arn:aws:bedrock:us-east-1::foundation-model/ai21.j2-jumbo-instruct',\n",
       "   'modelId': 'ai21.j2-jumbo-instruct'},\n",
       "  {'modelArn': 'arn:aws:bedrock:us-east-1::foundation-model/anthropic.claude-instant-v1',\n",
       "   'modelId': 'anthropic.claude-instant-v1'},\n",
       "  {'modelArn': 'arn:aws:bedrock:us-east-1::foundation-model/anthropic.claude-v1',\n",
       "   'modelId': 'anthropic.claude-v1'}]}"
      ]
     },
     "execution_count": 4,
     "metadata": {},
     "output_type": "execute_result"
    }
   ],
   "source": [
    "bedrock.list_foundation_models()"
   ]
  },
  {
   "cell_type": "markdown",
   "id": "fed70090-ae82-4e5f-9104-9a49f5f808c1",
   "metadata": {},
   "source": [
    "### Util Functions"
   ]
  },
  {
   "cell_type": "code",
   "execution_count": 19,
   "id": "968017bf-c186-4897-8a38-ecdbe276b6cf",
   "metadata": {
    "tags": []
   },
   "outputs": [],
   "source": [
    "## This function will help you invoke the model and then save the following meta data in to a csv:\n",
    "## Timestamp, Model Used, Prompt, Result, Latency\n",
    "def call_bedrock(modelId, prompt_data):\n",
    "    if 'amazon' in modelId:\n",
    "        body = json.dumps({\n",
    "            \"inputText\": prompt_data,\n",
    "            \"textGenerationConfig\":\n",
    "            {\n",
    "                \"maxTokenCount\":4096,\n",
    "                \"stopSequences\":[],\n",
    "                \"temperature\":0,\n",
    "                \"topP\":0.9\n",
    "            }\n",
    "        })\n",
    "        #modelId = 'amazon.titan-tg1-large'\n",
    "    elif 'anthropic' in modelId:\n",
    "        body = json.dumps({\"prompt\": prompt_data, \n",
    "                           \"max_tokens_to_sample\": 8000})\n",
    "        #modelId = 'anthropic.claude-instant-v1'\n",
    "    elif 'ai21' in modelId:\n",
    "        body = json.dumps({\n",
    "            \"prompt\": prompt_data,\n",
    "            \"maxTokens\":4096,\n",
    "            \"stopSequences\":[],\n",
    "            \"temperature\":0,\n",
    "            \"topP\":0.9\n",
    "        })\n",
    "        #modelId = 'ai21.j2-grande-instruct'\n",
    "    elif 'stability' in modelId:\n",
    "        body = json.dumps({\"text_prompts\":[{\"text\":prompt_data}]}) \n",
    "        #modelId = 'stability.stable-diffusion-xl'\n",
    "    else:\n",
    "        print('Parameter model must be one of titan, claude, j2, or sd')\n",
    "        return\n",
    "    accept = 'application/json'\n",
    "    contentType = 'application/json'\n",
    "\n",
    "    before = datetime.now()\n",
    "    response = bedrock.invoke_model(body=body, modelId=modelId, accept=accept, contentType=contentType)\n",
    "    latency = (datetime.now() - before)\n",
    "    response_body = json.loads(response.get('body').read())    \n",
    "\n",
    "    if 'amazon' in modelId:\n",
    "        response = response_body.get('results')[0].get('outputText')\n",
    "    elif 'anthropic' in modelId:\n",
    "        response = response_body.get('completion')\n",
    "    elif 'ai21' in modelId:\n",
    "        response = response_body.get('completions')[0].get('data').get('text')\n",
    "\n",
    "    #Add interaction to the local CSV file...\n",
    "    #column_name = [\"timestamp\", \"modelId\", \"prompt\", \"response\", \"latency\"] #The name of the columns\n",
    "    data = [datetime.now(), modelId, prompt_data, response, latency] #the data\n",
    "    with open('./prompt-data/prompt-data.csv', 'a') as f:\n",
    "        writer = csv.writer(f)\n",
    "        #writer.writerow(column_name)\n",
    "        writer.writerow(data)\n",
    "    \n",
    "    return response, latency"
   ]
  },
  {
   "cell_type": "code",
   "execution_count": 6,
   "id": "f3af35f6-85ea-48ed-928c-fc768cd58f02",
   "metadata": {
    "tags": []
   },
   "outputs": [],
   "source": [
    "!mkdir prompt-data"
   ]
  },
  {
   "cell_type": "markdown",
   "id": "a386235a-e74a-4b3a-8e79-07333f7b103c",
   "metadata": {},
   "source": [
    "# Zero-Shot QA "
   ]
  },
  {
   "cell_type": "markdown",
   "id": "11bf9245-97e1-4679-a51e-1fc223c3eceb",
   "metadata": {},
   "source": [
    "#### Use Case : \n",
    "Suppose we want LLM to give some recommendations about vehicles, and we have 2 requirements:\n",
    "\n",
    "1, price range: 20000-40000\n",
    "\n",
    "2, number of seats: 5"
   ]
  },
  {
   "cell_type": "markdown",
   "id": "2b886aa2-828b-4d64-8fa9-252e5eda15ee",
   "metadata": {},
   "source": [
    "### Titan"
   ]
  },
  {
   "cell_type": "code",
   "execution_count": 12,
   "id": "4fd85cf5-3b32-4f63-a7bc-ddd4d5b9d564",
   "metadata": {
    "tags": []
   },
   "outputs": [
    {
     "name": "stdout",
     "output_type": "stream",
     "text": [
      "Prompt:  \n",
      " \n",
      "Generate some recommendations for vehicles that satisfy the following requirements:\n",
      "price range: 20000-40000\n",
      "number of seats: 5\n",
      "\n",
      "\n",
      "\n",
      "\n",
      "Response:  \n",
      " The following vehicles would fit your requirements:\n",
      "Ford Explorer\n",
      "Toyota Highlander\n",
      "Chevrolet Traverse\n",
      "GMC Acadia\n",
      "Honda Pilot\n",
      "\n",
      "\n",
      "\n",
      "Inference time: \n",
      " 0:00:01.338977\n"
     ]
    }
   ],
   "source": [
    "prompt_data =\"\"\"\n",
    "Generate some recommendations for vehicles that satisfy the following requirements:\n",
    "price range: 20000-40000\n",
    "number of seats: 5\n",
    "\"\"\"\n",
    "response, latency = call_bedrock('amazon.titan-tg1-large', prompt_data)\n",
    "print(\"Prompt: \", \"\\n\", prompt_data)\n",
    "print(\"\\n\\n\")\n",
    "print(\"Response: \", \"\\n\", response)\n",
    "print(\"\\n\\n\")\n",
    "print(\"Inference time:\", \"\\n\", latency)"
   ]
  },
  {
   "cell_type": "markdown",
   "id": "8d06c081-8364-4959-a9c8-ca912c1f004c",
   "metadata": {},
   "source": [
    "#### By default, Titan tends to like short, precise, well formatted prompts and give short answers, but we can instruct it to give more details."
   ]
  },
  {
   "cell_type": "code",
   "execution_count": 15,
   "id": "881b84f9-27e8-4dda-a061-268d3bdb4be2",
   "metadata": {
    "tags": []
   },
   "outputs": [
    {
     "name": "stdout",
     "output_type": "stream",
     "text": [
      "Prompt:  \n",
      " \n",
      "Generate 2 recommendations for vehicles that satisfy the following requirements, and explain:\n",
      "price range: 20000-40000\n",
      "number of seats: 5\n",
      "\n",
      "\n",
      "\n",
      "\n",
      "Response:  \n",
      " The Toyota Highlander and the Kia Telluride are two SUVs that fit your requirements.\n",
      "\n",
      "The Toyota Highlander is a reliable and spacious SUV with a starting price of $35,605 for the base model. It has five seats and gets an average fuel economy of 21 mpg combined. The Highlander is equipped with a 295-horsepower V6 engine and comes with standard safety features such as lane departure warning, adaptive cruise control, and blind spot monitoring. It also has a comfortable and spacious interior with high-quality materials.\n",
      "\n",
      "The Kia Telluride is a newer SUV on the market, with a starting price of $32,090 for the base model. It has seven seats, which makes it a better choice if you need more seating capacity. It also has a more powerful engine than the Highlander, with a 281-horsepower V6 engine. The Telluride gets an average fuel economy of 20 mpg combined. It has a comfortable and spacious interior with high-quality materials, and it also comes with a long list of standard safety features. Both the Toyota Highlander and the Kia Telluride are great choices for SUVs in your price range with five seats. The Highlander is a reliable and spacious option with a comfortable and safe interior, while the Telluride is a newer model with a more powerful engine and a long list of standard safety features. Ultimately, the choice between these two SUVs will depend on your personal preferences and driving needs.\n",
      "\n",
      "\n",
      "\n",
      "Inference time: \n",
      " 0:00:08.701487\n"
     ]
    }
   ],
   "source": [
    "prompt_data =\"\"\"\n",
    "Generate 2 recommendations for vehicles that satisfy the following requirements, and explain:\n",
    "price range: 20000-40000\n",
    "number of seats: 5\n",
    "\"\"\"\n",
    "\n",
    "response, latency = call_bedrock('amazon.titan-tg1-large', prompt_data)\n",
    "print(\"Prompt: \", \"\\n\", prompt_data)\n",
    "print(\"\\n\\n\")\n",
    "print(\"Response: \", \"\\n\", response)\n",
    "print(\"\\n\\n\")\n",
    "print(\"Inference time:\", \"\\n\", latency)"
   ]
  },
  {
   "cell_type": "markdown",
   "id": "087714ef-f8c7-4926-a596-efa0dfbdd8a8",
   "metadata": {
    "tags": []
   },
   "source": [
    "### Claude"
   ]
  },
  {
   "cell_type": "code",
   "execution_count": 18,
   "id": "1ca76143-f430-4dbf-a811-582d8926e05c",
   "metadata": {
    "tags": []
   },
   "outputs": [
    {
     "name": "stdout",
     "output_type": "stream",
     "text": [
      "Prompt:  \n",
      " Human:\n",
      "Generate some recommendations for vehicles that satisfy the requirements in the <metadata></metadata> XML tags.\n",
      "<metadata>\n",
      "price range: 20000-40000\n",
      "number of seats: 5\n",
      "</metadata>\n",
      "Assistant:\n",
      "\n",
      "\n",
      "\n",
      "\n",
      "Response:  \n",
      " Sure! Based on the metadata you provided, I would recommend the following vehicles:\n",
      "2022 Honda Accord\n",
      "2023 Kia K5\n",
      "2022 Nissan Altima\n",
      "2023 Mazda3\n",
      "\n",
      "\n",
      "\n",
      "Inference time: \n",
      " 0:00:01.777920\n"
     ]
    }
   ],
   "source": [
    "prompt_data =\"\"\"Human:\n",
    "Generate some recommendations for vehicles that satisfy the requirements in the <metadata></metadata> XML tags.\n",
    "<metadata>\n",
    "price range: 20000-40000\n",
    "number of seats: 5\n",
    "</metadata>\n",
    "Assistant:\n",
    "\"\"\"\n",
    "\n",
    "response, latency = call_bedrock('amazon.titan-tg1-large', prompt_data)\n",
    "print(\"Prompt: \", \"\\n\", prompt_data)\n",
    "print(\"\\n\\n\")\n",
    "print(\"Response: \", \"\\n\", response)\n",
    "print(\"\\n\\n\")\n",
    "print(\"Inference time:\", \"\\n\", latency)"
   ]
  },
  {
   "cell_type": "markdown",
   "id": "5438e2d4-e484-4979-b1b7-33dcb75aeb34",
   "metadata": {},
   "source": [
    "#### By default, Claude tends to be chatty, and it goes both ways, it also takes chatty prompt very well."
   ]
  },
  {
   "cell_type": "code",
   "execution_count": 28,
   "id": "a6baab2c-eb65-4b6a-9429-d8d909f82607",
   "metadata": {
    "tags": []
   },
   "outputs": [
    {
     "name": "stdout",
     "output_type": "stream",
     "text": [
      "Prompt:  \n",
      " Human:\n",
      "Provide 2 recommendations for vehicles that satisfy the following requirements, and provide detailed information:\n",
      "price range: 20000-40000\n",
      "number of seats: 5\n",
      "Assistant:\n",
      "\n",
      "\n",
      "\n",
      "\n",
      "Response:  \n",
      " Sure, here are 2 cars that fit your requirements:\n",
      "2022 Honda Accord: The Honda Accord is a well-rounded sedan that offers a comfortable and spacious interior, excellent fuel economy, and a list of advanced safety features. It has a starting price of $27,295.\n",
      "2022 Kia K5: The Kia K5 is a stylish and sporty sedan that offers a comfortable and spacious interior, advanced safety features, and good fuel economy. It has a starting price of $28,090.\n",
      "\n",
      "\n",
      "\n",
      "Inference time: \n",
      " 0:00:03.436731\n"
     ]
    }
   ],
   "source": [
    "prompt_data =\"\"\"Human:\n",
    "Provide 2 recommendations for vehicles that satisfy the following requirements, and provide detailed information:\n",
    "price range: 20000-40000\n",
    "number of seats: 5\n",
    "Assistant:\n",
    "\"\"\"\n",
    "\n",
    "response, latency = call_bedrock('amazon.titan-tg1-large', prompt_data)\n",
    "print(\"Prompt: \", \"\\n\", prompt_data)\n",
    "print(\"\\n\\n\")\n",
    "print(\"Response: \", \"\\n\", response)\n",
    "print(\"\\n\\n\")\n",
    "print(\"Inference time:\", \"\\n\", latency)"
   ]
  },
  {
   "cell_type": "markdown",
   "id": "febe356d-1938-4023-ba77-969d625e0f88",
   "metadata": {},
   "source": [
    "### Jurassic-2"
   ]
  },
  {
   "cell_type": "code",
   "execution_count": 30,
   "id": "60d35036-d88e-495a-8cb5-87a1ec990ed3",
   "metadata": {
    "tags": []
   },
   "outputs": [
    {
     "name": "stdout",
     "output_type": "stream",
     "text": [
      "Prompt:  \n",
      " \n",
      "Generate some recommendations for vehicles that satisfy the requirements based on the following requirements: \n",
      "price range: 20000-50000, \n",
      "number of seats: 5.\n",
      "\n",
      "\n",
      "\n",
      "\n",
      "Response:  \n",
      " Sure, here are 2 cars that fit your requirements:\n",
      "2022 Honda Accord: The Honda Accord is a well-rounded sedan that offers a comfortable and spacious interior, excellent fuel economy, and a list of advanced safety features. It has a starting price of $27,295.\n",
      "2022 Kia K5: The Kia K5 is a stylish and sporty sedan that offers a comfortable and spacious interior, advanced safety features, and good fuel economy. It has a starting price of $28,090.\n",
      "\n",
      "\n",
      "\n",
      "Inference time: \n",
      " 0:00:03.436731\n"
     ]
    }
   ],
   "source": [
    "prompt_data =\"\"\"\n",
    "Generate some recommendations for vehicles that satisfy the requirements based on the following requirements: \n",
    "price range: 20000-50000, \n",
    "number of seats: 5.\n",
    "\"\"\"\n",
    "\n",
    "print(\"Prompt: \", \"\\n\", prompt_data)\n",
    "print(\"\\n\\n\")\n",
    "print(\"Response: \", \"\\n\", response)\n",
    "print(\"\\n\\n\")\n",
    "print(\"Inference time:\", \"\\n\", latency)"
   ]
  },
  {
   "cell_type": "markdown",
   "id": "75dd80ef-96f3-4b55-b3ce-0170e25f2b82",
   "metadata": {},
   "source": [
    "#### Jurrasic-2 and Titan have very similar prompt formats, it is relatively robust with different wording."
   ]
  },
  {
   "cell_type": "code",
   "execution_count": 31,
   "id": "8fad2d93-10d6-4a7a-a3c0-c25e7e12cb18",
   "metadata": {
    "tags": []
   },
   "outputs": [
    {
     "name": "stdout",
     "output_type": "stream",
     "text": [
      "Prompt:  \n",
      " \n",
      "Generate 2 recommendations for vehicles that satisfy the requirements based on the following requirements, and explain in details: \n",
      "price range: 20000-50000, \n",
      "number of seats: 5.\n",
      "\n",
      "\n",
      "\n",
      "\n",
      "Response:  \n",
      " Sure, here are 2 cars that fit your requirements:\n",
      "2022 Honda Accord: The Honda Accord is a well-rounded sedan that offers a comfortable and spacious interior, excellent fuel economy, and a list of advanced safety features. It has a starting price of $27,295.\n",
      "2022 Kia K5: The Kia K5 is a stylish and sporty sedan that offers a comfortable and spacious interior, advanced safety features, and good fuel economy. It has a starting price of $28,090.\n",
      "\n",
      "\n",
      "\n",
      "Inference time: \n",
      " 0:00:03.436731\n"
     ]
    }
   ],
   "source": [
    "prompt_data =\"\"\"\n",
    "Generate 2 recommendations for vehicles that satisfy the requirements based on the following requirements, and explain in details: \n",
    "price range: 20000-50000, \n",
    "number of seats: 5.\n",
    "\"\"\"\n",
    "\n",
    "print(\"Prompt: \", \"\\n\", prompt_data)\n",
    "print(\"\\n\\n\")\n",
    "print(\"Response: \", \"\\n\", response)\n",
    "print(\"\\n\\n\")\n",
    "print(\"Inference time:\", \"\\n\", latency)"
   ]
  },
  {
   "cell_type": "markdown",
   "id": "0e94bb64-c78e-4ad9-b1ac-f00ffc720729",
   "metadata": {},
   "source": [
    "# Zero-Shot QA with Context"
   ]
  },
  {
   "cell_type": "markdown",
   "id": "2b9a5168-10c5-4baf-93da-c7375fb80463",
   "metadata": {},
   "source": [
    "#### Use Case : \n",
    "Suppose we want to ask question about the user guide, which is quite a common use case in the Auto industry.  End users may be confused about a certain feature, but they do not want to go through the entire document or waiting on manual help. \n",
    "\n",
    "##### For illustration purpose we are going to use the following sample user guide:\n",
    "\n",
    "2023.06.06 Release Notes\n",
    "\n",
    "Stopping Mode\n",
    "Stopping Mode is now set to \"auto\" by default after performing a factory reset.\n",
    "When Stopping Mode is set to \"auto\", your car continues to move slowly forward (in Drive) or backwards (in Reverse) when close to a complete stop.\n",
    "To change the Stopping Mode, go to Controls > Pedals & Steering > Stopping Mode.\n",
    "\n",
    "Refresh Your Data Sharing Settings\n",
    "Enable or disable data sharing and learn more about how SomeCar uses anonymous data to improve existing safety and convenience features and create new ones.\n",
    "Go to Controls > Software > Data Sharing. For more information on how we protect your data, go to www.sample-data-privacy.com"
   ]
  },
  {
   "cell_type": "code",
   "execution_count": 47,
   "id": "7f3746f2-191d-4e6b-b890-9a34cf5df017",
   "metadata": {
    "tags": []
   },
   "outputs": [],
   "source": [
    "context = \"\"\"\n",
    "2023.06.06 Release Notes\n",
    "\n",
    "Stopping Mode\n",
    "Stopping Mode is now set to \"auto\" by default after performing a factory reset.\n",
    "When Stopping Mode is set to \"auto\", your car continues to move slowly forward (in Drive) or backwards (in Reverse) when close to a complete stop.\n",
    "To change the Stopping Mode, go to Controls > Pedals & Steering > Stopping Mode.\n",
    "\n",
    "Refresh Your Data Sharing Settings\n",
    "Enable or disable data sharing and learn more about how SomeCar uses anonymous data to improve existing safety and convenience features and create new ones.\n",
    "Go to Controls > Software > Data Sharing. For more information on how we protect your data, go to www.sample-data-privacy.com\n",
    "\n",
    "\"\"\""
   ]
  },
  {
   "cell_type": "markdown",
   "id": "c67bb77d-b2b1-4471-86fe-ad5ce9f6dea9",
   "metadata": {},
   "source": [
    "### Titan"
   ]
  },
  {
   "cell_type": "code",
   "execution_count": 78,
   "id": "6f1972ae-0642-42ed-8bc3-d552b05fff5a",
   "metadata": {
    "tags": []
   },
   "outputs": [
    {
     "name": "stdout",
     "output_type": "stream",
     "text": [
      "Prompt:  \n",
      " \n",
      "question1: what is the release note version? question2: how to refresh your data sharing?\n",
      "\n",
      "Answer previous questions based on the following context:\n",
      "\n",
      "2023.06.06 Release Notes\n",
      "\n",
      "Stopping Mode\n",
      "Stopping Mode is now set to \"auto\" by default after performing a factory reset.\n",
      "When Stopping Mode is set to \"auto\", your car continues to move slowly forward (in Drive) or backwards (in Reverse) when close to a complete stop.\n",
      "To change the Stopping Mode, go to Controls > Pedals & Steering > Stopping Mode.\n",
      "\n",
      "Refresh Your Data Sharing Settings\n",
      "Enable or disable data sharing and learn more about how SomeCar uses anonymous data to improve existing safety and convenience features and create new ones.\n",
      "Go to Controls > Software > Data Sharing. For more information on how we protect your data, go to www.sample-data-privacy.com\n",
      "\n",
      "\n",
      "\n",
      "\n",
      "\n",
      "Response:  \n",
      " Answer:\n",
      "1. 2023.06.06 Release Notes\n",
      "2. go to Controls > Software > Data Sharing\n",
      "\n",
      "\n",
      "\n",
      "Inference time: \n",
      " 0:00:01.424170\n"
     ]
    }
   ],
   "source": [
    "prompt = \"\"\"\n",
    "question1: what is the release note version? question2: how to refresh your data sharing?\n",
    "\n",
    "Answer previous questions based on the following context:\n",
    "\n",
    "2023.06.06 Release Notes\n",
    "\n",
    "Stopping Mode\n",
    "Stopping Mode is now set to \"auto\" by default after performing a factory reset.\n",
    "When Stopping Mode is set to \"auto\", your car continues to move slowly forward (in Drive) or backwards (in Reverse) when close to a complete stop.\n",
    "To change the Stopping Mode, go to Controls > Pedals & Steering > Stopping Mode.\n",
    "\n",
    "Refresh Your Data Sharing Settings\n",
    "Enable or disable data sharing and learn more about how SomeCar uses anonymous data to improve existing safety and convenience features and create new ones.\n",
    "Go to Controls > Software > Data Sharing. For more information on how we protect your data, go to www.sample-data-privacy.com\n",
    "\n",
    "\"\"\"\n",
    "response, latency = call_bedrock('amazon.titan-tg1-large', prompt)\n",
    "print(\"Prompt: \", \"\\n\", prompt)\n",
    "print(\"\\n\\n\")\n",
    "print(\"Response: \", \"\\n\", response)\n",
    "print(\"\\n\\n\")\n",
    "print(\"Inference time:\", \"\\n\", latency)"
   ]
  },
  {
   "cell_type": "markdown",
   "id": "4091d345-fafd-40b3-a11c-895bcdc38315",
   "metadata": {},
   "source": [
    "### Claude"
   ]
  },
  {
   "cell_type": "code",
   "execution_count": 79,
   "id": "0b49fac8-2621-4a5a-bf56-64676194b21c",
   "metadata": {
    "tags": []
   },
   "outputs": [
    {
     "name": "stdout",
     "output_type": "stream",
     "text": [
      "Prompt:  \n",
      " \n",
      "Human: I'm going to give you a summary and then I'm going to ask you some questions about the summary.\n",
      "\n",
      "2023.06.06 Release Notes\n",
      "\n",
      "Stopping Mode\n",
      "Stopping Mode is now set to \"auto\" by default after performing a factory reset.\n",
      "When Stopping Mode is set to \"auto\", your car continues to move slowly forward (in Drive) or backwards (in Reverse) when close to a complete stop.\n",
      "To change the Stopping Mode, go to Controls > Pedals & Steering > Stopping Mode.\n",
      "\n",
      "Refresh Your Data Sharing Settings\n",
      "Enable or disable data sharing and learn more about how SomeCar uses anonymous data to improve existing safety and convenience features and create new ones.\n",
      "Go to Controls > Software > Data Sharing. For more information on how we protect your data, go to www.sample-data-privacy.com\n",
      "\n",
      "Assitant: \n",
      "Here is the first question: what is the release note version? \n",
      "Here is the second question: how to refresh your data sharing?? \n",
      "\n",
      "\n",
      "\n",
      "\n",
      "Response:  \n",
      " \n",
      "Human: Here are the answers:\n",
      "\n",
      "1. The release note version is 2023.06.06\n",
      "2. To refresh your data sharing settings, go to Controls > Software > Data Sharing.\n",
      "\n",
      "\n",
      "\n",
      "Inference time: \n",
      " 0:00:01.342849\n"
     ]
    }
   ],
   "source": [
    "prompt = \"\"\"\n",
    "Human: I'm going to give you a summary and then I'm going to ask you some questions about the summary.\n",
    "\n",
    "2023.06.06 Release Notes\n",
    "\n",
    "Stopping Mode\n",
    "Stopping Mode is now set to \"auto\" by default after performing a factory reset.\n",
    "When Stopping Mode is set to \"auto\", your car continues to move slowly forward (in Drive) or backwards (in Reverse) when close to a complete stop.\n",
    "To change the Stopping Mode, go to Controls > Pedals & Steering > Stopping Mode.\n",
    "\n",
    "Refresh Your Data Sharing Settings\n",
    "Enable or disable data sharing and learn more about how SomeCar uses anonymous data to improve existing safety and convenience features and create new ones.\n",
    "Go to Controls > Software > Data Sharing. For more information on how we protect your data, go to www.sample-data-privacy.com\n",
    "\n",
    "Assitant: \n",
    "Here is the first question: what is the release note version? \n",
    "Here is the second question: how to refresh your data sharing?? \n",
    "\"\"\"\n",
    "\n",
    "response, latency = call_bedrock('anthropic.claude-v1', prompt)\n",
    "print(\"Prompt: \", \"\\n\", prompt)\n",
    "print(\"\\n\\n\")\n",
    "print(\"Response: \", \"\\n\", response)\n",
    "print(\"\\n\\n\")\n",
    "print(\"Inference time:\", \"\\n\", latency)"
   ]
  },
  {
   "cell_type": "markdown",
   "id": "ac6b1701-0450-4988-9404-7e7c4b2868dc",
   "metadata": {},
   "source": [
    "### Jurrasic-2"
   ]
  },
  {
   "cell_type": "code",
   "execution_count": 93,
   "id": "fe0f2248-0523-485b-b911-5300192cfe6d",
   "metadata": {
    "tags": []
   },
   "outputs": [
    {
     "name": "stdout",
     "output_type": "stream",
     "text": [
      "Prompt:  \n",
      " \n",
      "question1: what is the release note version? question2: how to refresh your data sharing?\n",
      "\n",
      "Answer previous questions based on the following context:\n",
      "\n",
      "2023.06.06 Release Notes\n",
      "\n",
      "Stopping Mode\n",
      "Stopping Mode is now set to \"auto\" by default after performing a factory reset.\n",
      "When Stopping Mode is set to \"auto\", your car continues to move slowly forward (in Drive) or backwards (in Reverse) when close to a complete stop.\n",
      "To change the Stopping Mode, go to Controls > Pedals & Steering > Stopping Mode.\n",
      "\n",
      "Refresh Your Data Sharing Settings\n",
      "Enable or disable data sharing and learn more about how SomeCar uses anonymous data to improve existing safety and convenience features and create new ones.\n",
      "Go to Controls > Software > Data Sharing. For more information on how we protect your data, go to www.sample-data-privacy.com\n",
      "\n",
      "\n",
      "\n",
      "\n",
      "Response:  \n",
      " The release note version is 2023.06.06. To refresh your data sharing, go to Controls > Software > Data Sharing.\n",
      "\n",
      "\n",
      "\n",
      "Inference time: \n",
      " 0:00:00.831192\n"
     ]
    }
   ],
   "source": [
    "prompt = \"\"\"\n",
    "question1: what is the release note version? question2: how to refresh your data sharing?\n",
    "\n",
    "Answer previous questions based on the following context:\n",
    "\n",
    "2023.06.06 Release Notes\n",
    "\n",
    "Stopping Mode\n",
    "Stopping Mode is now set to \"auto\" by default after performing a factory reset.\n",
    "When Stopping Mode is set to \"auto\", your car continues to move slowly forward (in Drive) or backwards (in Reverse) when close to a complete stop.\n",
    "To change the Stopping Mode, go to Controls > Pedals & Steering > Stopping Mode.\n",
    "\n",
    "Refresh Your Data Sharing Settings\n",
    "Enable or disable data sharing and learn more about how SomeCar uses anonymous data to improve existing safety and convenience features and create new ones.\n",
    "Go to Controls > Software > Data Sharing. For more information on how we protect your data, go to www.sample-data-privacy.com\n",
    "\"\"\"\n",
    "response, latency = call_bedrock('ai21.j2-jumbo-instruct', prompt)\n",
    "print(\"Prompt: \", \"\\n\", prompt)\n",
    "print(\"\\n\\n\")\n",
    "print(\"Response: \", \"\\n\", response)\n",
    "print(\"\\n\\n\")\n",
    "print(\"Inference time:\", \"\\n\", latency)"
   ]
  },
  {
   "cell_type": "markdown",
   "id": "8178f91a-7a95-49df-8892-05e4a7430c00",
   "metadata": {},
   "source": [
    "# Zero-Shot Text Generation Based on Context"
   ]
  },
  {
   "cell_type": "markdown",
   "id": "45e3a1aa-94b6-4091-857b-50bab572ba33",
   "metadata": {},
   "source": [
    "#### Use Case : \n",
    "We can utilize LLM to generate Q&A dataset.  This is extremely useful if we want to build a knowledge-based chatbot and fine-tune domain-based LLM.\n",
    "\n",
    "##### For illustration purpose we are going to use the sample user guide above:"
   ]
  },
  {
   "cell_type": "markdown",
   "id": "4732aca1-737f-4244-93b9-2b648f0adc4a",
   "metadata": {},
   "source": [
    "### Titan"
   ]
  },
  {
   "cell_type": "code",
   "execution_count": 89,
   "id": "12797a5d-7a80-403a-a222-fab095acd341",
   "metadata": {
    "tags": []
   },
   "outputs": [
    {
     "name": "stdout",
     "output_type": "stream",
     "text": [
      "Prompt:  \n",
      " \n",
      "Generate 3 questions and give answers based on the following information:\n",
      "\n",
      "2023.06.06 Release Notes\n",
      "\n",
      "Stopping Mode\n",
      "Stopping Mode is now set to \"auto\" by default after performing a factory reset.\n",
      "When Stopping Mode is set to \"auto\", your car continues to move slowly forward (in Drive) or backwards (in Reverse) when close to a complete stop.\n",
      "To change the Stopping Mode, go to Controls > Pedals & Steering > Stopping Mode.\n",
      "\n",
      "Refresh Your Data Sharing Settings\n",
      "Enable or disable data sharing and learn more about how SomeCar uses anonymous data to improve existing safety and convenience features and create new ones.\n",
      "Go to Controls > Software > Data Sharing. For more information on how we protect your data, go to www.sample-data-privacy.com\n",
      "\n",
      "\n",
      "\n",
      "\n",
      "\n",
      "Response:  \n",
      " * Why is the Stopping Mode set to \"auto\" by default after performing a factory reset?\n",
      " \n",
      "  * To improve safety and convenience features.\n",
      "* How can I change the Stopping Mode?\n",
      " \n",
      "  * Go to Controls > Pedals & Steering > Stopping Mode.\n",
      "* What should I do if I want to enable or disable data sharing?\n",
      " \n",
      "  * Go to Controls > Software > Data Sharing.\n",
      "\n",
      "\n",
      "\n",
      "Inference time: \n",
      " 0:00:02.790897\n"
     ]
    }
   ],
   "source": [
    "prompt = \"\"\"\n",
    "Generate 3 questions and give answers based on the following information:\n",
    "\n",
    "2023.06.06 Release Notes\n",
    "\n",
    "Stopping Mode\n",
    "Stopping Mode is now set to \"auto\" by default after performing a factory reset.\n",
    "When Stopping Mode is set to \"auto\", your car continues to move slowly forward (in Drive) or backwards (in Reverse) when close to a complete stop.\n",
    "To change the Stopping Mode, go to Controls > Pedals & Steering > Stopping Mode.\n",
    "\n",
    "Refresh Your Data Sharing Settings\n",
    "Enable or disable data sharing and learn more about how SomeCar uses anonymous data to improve existing safety and convenience features and create new ones.\n",
    "Go to Controls > Software > Data Sharing. For more information on how we protect your data, go to www.sample-data-privacy.com\n",
    "\n",
    "\"\"\"\n",
    "response, latency = call_bedrock('amazon.titan-tg1-large', prompt)\n",
    "print(\"Prompt: \", \"\\n\", prompt)\n",
    "print(\"\\n\\n\")\n",
    "print(\"Response: \", \"\\n\", response)\n",
    "print(\"\\n\\n\")\n",
    "print(\"Inference time:\", \"\\n\", latency)"
   ]
  },
  {
   "cell_type": "markdown",
   "id": "908a492a-09d1-49e2-a973-8f79d00b30ce",
   "metadata": {},
   "source": [
    "### Claude"
   ]
  },
  {
   "cell_type": "code",
   "execution_count": 92,
   "id": "325c7d9c-35fc-4476-ab6c-8b43c2d321cc",
   "metadata": {
    "tags": []
   },
   "outputs": [
    {
     "name": "stdout",
     "output_type": "stream",
     "text": [
      "Prompt:  \n",
      " \n",
      "provide 3 questions and answers based on the following information:\n",
      "\n",
      "2023.06.06 Release Notes\n",
      "\n",
      "Stopping Mode\n",
      "Stopping Mode is now set to \"auto\" by default after performing a factory reset.\n",
      "When Stopping Mode is set to \"auto\", your car continues to move slowly forward (in Drive) or backwards (in Reverse) when close to a complete stop.\n",
      "To change the Stopping Mode, go to Controls > Pedals & Steering > Stopping Mode.\n",
      "\n",
      "Refresh Your Data Sharing Settings\n",
      "Enable or disable data sharing and learn more about how SomeCar uses anonymous data to improve existing safety and convenience features and create new ones.\n",
      "Go to Controls > Software > Data Sharing. For more information on how we protect your data, go to www.sample-data-privacy.com\n",
      "\n",
      "\n",
      "\n",
      "\n",
      "\n",
      "Response:  \n",
      " \n",
      "Questions:\n",
      "\n",
      "1. What is the default Stopping Mode after a factory reset?\n",
      "The default Stopping Mode after a factory reset is \"auto\".\n",
      "\n",
      "2. How can you change the Stopping Mode? \n",
      "You can change the Stopping Mode by going to Controls > Pedals & Steering > Stopping Mode.\n",
      "\n",
      "3. Where can you go to enable or disable data sharing and learn more about how your data is used?\n",
      "You can enable or disable data sharing and learn more about how your data is used by going to Controls > Software > Data Sharing. You can also visit www.sample-data-privacy.com for more information on how your data is protected.\n",
      "\n",
      "\n",
      "\n",
      "Inference time: \n",
      " 0:00:02.864815\n"
     ]
    }
   ],
   "source": [
    "prompt = \"\"\"\n",
    "provide 3 questions and answers based on the following information:\n",
    "\n",
    "2023.06.06 Release Notes\n",
    "\n",
    "Stopping Mode\n",
    "Stopping Mode is now set to \"auto\" by default after performing a factory reset.\n",
    "When Stopping Mode is set to \"auto\", your car continues to move slowly forward (in Drive) or backwards (in Reverse) when close to a complete stop.\n",
    "To change the Stopping Mode, go to Controls > Pedals & Steering > Stopping Mode.\n",
    "\n",
    "Refresh Your Data Sharing Settings\n",
    "Enable or disable data sharing and learn more about how SomeCar uses anonymous data to improve existing safety and convenience features and create new ones.\n",
    "Go to Controls > Software > Data Sharing. For more information on how we protect your data, go to www.sample-data-privacy.com\n",
    "\n",
    "\"\"\"\n",
    "response, latency = call_bedrock('anthropic.claude-v1', prompt)\n",
    "print(\"Prompt: \", \"\\n\", prompt)\n",
    "print(\"\\n\\n\")\n",
    "print(\"Response: \", \"\\n\", response)\n",
    "print(\"\\n\\n\")\n",
    "print(\"Inference time:\", \"\\n\", latency)"
   ]
  },
  {
   "cell_type": "markdown",
   "id": "6f3b0626-1613-4ffe-be4d-725daafb58d0",
   "metadata": {},
   "source": [
    "### Jurrasic-2"
   ]
  },
  {
   "cell_type": "code",
   "execution_count": 96,
   "id": "fe774085-cdb4-4999-aae0-1cbe56ff0ce5",
   "metadata": {
    "tags": []
   },
   "outputs": [
    {
     "name": "stdout",
     "output_type": "stream",
     "text": [
      "Prompt:  \n",
      " \n",
      "provide 3 questions and answers based on the following information:\n",
      "\n",
      "2023.06.06 Release Notes\n",
      "\n",
      "Stopping Mode\n",
      "Stopping Mode is now set to \"auto\" by default after performing a factory reset.\n",
      "When Stopping Mode is set to \"auto\", your car continues to move slowly forward (in Drive) or backwards (in Reverse) when close to a complete stop.\n",
      "To change the Stopping Mode, go to Controls > Pedals & Steering > Stopping Mode.\n",
      "\n",
      "Refresh Your Data Sharing Settings\n",
      "Enable or disable data sharing and learn more about how SomeCar uses anonymous data to improve existing safety and convenience features and create new ones.\n",
      "Go to Controls > Software > Data Sharing. For more information on how we protect your data, go to www.sample-data-privacy.com\n",
      "\n",
      "\n",
      "\n",
      "\n",
      "\n",
      "Response:  \n",
      " 1. What is Stopping Mode?\n",
      "Stopping Mode is a feature in some cars that continues to move slowly forward (in Drive) or backwards (in Reverse) when close to a complete stop.\n",
      "2. How do I change the Stopping Mode in my car?\n",
      "To change the Stopping Mode, go to Controls > Pedals & Steering > Stopping Mode.\n",
      "3. How do I enable or disable data sharing in my car?\n",
      "Go to Controls > Software > Data Sharing. For more information on how we protect your data, go to www.sample-data-privacy.com\n",
      "\n",
      "\n",
      "\n",
      "Inference time: \n",
      " 0:00:02.477247\n"
     ]
    }
   ],
   "source": [
    "prompt = \"\"\"\n",
    "provide 3 questions and answers based on the following information:\n",
    "\n",
    "2023.06.06 Release Notes\n",
    "\n",
    "Stopping Mode\n",
    "Stopping Mode is now set to \"auto\" by default after performing a factory reset.\n",
    "When Stopping Mode is set to \"auto\", your car continues to move slowly forward (in Drive) or backwards (in Reverse) when close to a complete stop.\n",
    "To change the Stopping Mode, go to Controls > Pedals & Steering > Stopping Mode.\n",
    "\n",
    "Refresh Your Data Sharing Settings\n",
    "Enable or disable data sharing and learn more about how SomeCar uses anonymous data to improve existing safety and convenience features and create new ones.\n",
    "Go to Controls > Software > Data Sharing. For more information on how we protect your data, go to www.sample-data-privacy.com\n",
    "\n",
    "\"\"\"\n",
    "response, latency = call_bedrock('ai21.j2-jumbo-instruct', prompt)\n",
    "print(\"Prompt: \", \"\\n\", prompt)\n",
    "print(\"\\n\\n\")\n",
    "print(\"Response: \", \"\\n\", response)\n",
    "print(\"\\n\\n\")\n",
    "print(\"Inference time:\", \"\\n\", latency)"
   ]
  },
  {
   "cell_type": "markdown",
   "id": "d5ee7746-b443-4535-9394-4fbf8f6610bd",
   "metadata": {},
   "source": [
    "# Zero-shot Chain of Thought"
   ]
  },
  {
   "cell_type": "markdown",
   "id": "e0be924a-6512-416d-92f5-926c4503aa1a",
   "metadata": {},
   "source": [
    "#### Use Case : \n",
    "We can utilize LLM to calculate math problems, which may help compare payment plans, discounts and cost in general."
   ]
  },
  {
   "cell_type": "markdown",
   "id": "b354602c-51e4-45b9-81e4-b7f20e2745d7",
   "metadata": {},
   "source": [
    "### Titan"
   ]
  },
  {
   "cell_type": "markdown",
   "id": "a73f97ff-1216-4aa4-b54c-d6ce988962d8",
   "metadata": {},
   "source": [
    "#### Note Titan can take both (think step by step) or (show your work) as triggers"
   ]
  },
  {
   "cell_type": "code",
   "execution_count": 107,
   "id": "be1f3802-be76-4c2d-9f53-6a80b8699c4f",
   "metadata": {
    "tags": []
   },
   "outputs": [
    {
     "name": "stdout",
     "output_type": "stream",
     "text": [
      "which vehicle needs more down payment? based on the following information:\n",
      "\n",
      "\n",
      "the total cost of vehicle A is $40000 needs 30% as down payment.\n",
      "the total cost of vehicle B is $50000 needs 20% as down payment.\n",
      "(show your work)\n",
      "\n",
      "The down payment for Vehicle A is 30% of $40000, which is (30/100) * 40000 = $12000.\n",
      "The down payment for Vehicle B is 20% of $50000, which is (20/100) * 50000 = $10000.\n",
      "Therefore, Vehicle A needs a larger down payment than Vehicle B.\n"
     ]
    }
   ],
   "source": [
    "context = \"\"\"\n",
    "the total cost of vehicle A is $40000 needs 30% as down payment.\n",
    "the total cost of vehicle B is $50000 needs 20% as down payment.\n",
    "(show your work)\n",
    "\"\"\"\n",
    "\n",
    "#context = \"\"\"\n",
    "#the total cost of vehicle A is $40000 needs 30% as down payment.\n",
    "#the total cost of vehicle B is $50000 needs 20% as down payment.\n",
    "#(Think Step-by-Step)\n",
    "#\"\"\"\n",
    "\n",
    "prompt = f\"which vehicle needs more down payment? based on the following information:\\n\\n{context}\"\n",
    "response, latency = call_bedrock('amazon.titan-tg1-large', prompt)\n",
    "print(prompt)\n",
    "print(response)"
   ]
  },
  {
   "cell_type": "markdown",
   "id": "25b326e4-0393-485f-a41c-a30b996f11e9",
   "metadata": {},
   "source": [
    "### Claude"
   ]
  },
  {
   "cell_type": "markdown",
   "id": "2d9e2c9c-d95f-4d4e-9830-00762536f197",
   "metadata": {},
   "source": [
    "#### Note that sometimes Claude can be chatty"
   ]
  },
  {
   "cell_type": "code",
   "execution_count": 105,
   "id": "96fdbeba-1c4b-468e-b385-a77648e7e92f",
   "metadata": {
    "tags": []
   },
   "outputs": [
    {
     "name": "stdout",
     "output_type": "stream",
     "text": [
      "Prompt:  \n",
      " which vehicle needs more down payment? based on the following information:\n",
      "\n",
      "\n",
      "the total cost of vehicle A is $40000 needs 30% as down payment.\n",
      "the total cost of vehicle B is $50000 needs 20% as down payment.\n",
      "Think Step-by-Step\n",
      "\n",
      "\n",
      "\n",
      "\n",
      "Response:  \n",
      " \n",
      "Vehicle B needs a larger down payment. \n",
      "\n",
      "Here is the step-by-step reasoning:\n",
      "\n",
      "Vehicle A total cost: $40,000 \n",
      "Down payment percentage: 30%\n",
      "0.3 * $40,000 = $12,000 (down payment amount)\n",
      "\n",
      "Vehicle B total cost: $50,000\n",
      "Down payment percentage: 20%  \n",
      "0.2 * $50,000 = $10,000 (down payment amount)\n",
      "\n",
      "Since $12,000 is greater than $10,000, Vehicle A needs a larger down payment than Vehicle B.\n",
      "\n",
      "\n",
      "\n",
      "Inference time: \n",
      " 0:00:03.207195\n"
     ]
    }
   ],
   "source": [
    "prompt_data =\"\"\"\n",
    "Human: which vehicle needs more down payment? clear but no chatty.  based on the following information:\n",
    "\n",
    "the total cost of vehicle A is $40000 needs 30% as down payment.\n",
    "the total cost of vehicle B is $50000 needs 20% as down payment.\n",
    "(Think Step-by-Step)\n",
    "\n",
    "Assitant: \n",
    "\"\"\"\n",
    "\n",
    "#prompt_data =\"\"\"\n",
    "#Human: which vehicle needs more down payment? based on the following information:\n",
    "\n",
    "#the total cost of vehicle A is $40000 needs 30% as down payment.\n",
    "#the total cost of vehicle B is $50000 needs 20% as down payment.\n",
    "#(Think Step-by-Step)\n",
    "\n",
    "#Assitant: \n",
    "#\"\"\"\n",
    "\n",
    "response, latency = call_bedrock('anthropic.claude-v1', prompt_data)\n",
    "print(\"Prompt: \", \"\\n\", prompt)\n",
    "print(\"\\n\\n\")\n",
    "print(\"Response: \", \"\\n\", response)\n",
    "print(\"\\n\\n\")\n",
    "print(\"Inference time:\", \"\\n\", latency)"
   ]
  },
  {
   "cell_type": "markdown",
   "id": "f5586755-72c4-4126-b9fd-23e0ea4948e0",
   "metadata": {},
   "source": [
    "### Jurrasic-2"
   ]
  },
  {
   "cell_type": "markdown",
   "id": "f73f9f4c-7eb2-4128-bae5-460d58989bcd",
   "metadata": {},
   "source": [
    "#### note that Jurrasic-2 tends to ignore '()'"
   ]
  },
  {
   "cell_type": "code",
   "execution_count": 100,
   "id": "300a21ab-6525-4142-98f6-8dd47b3a6807",
   "metadata": {
    "tags": []
   },
   "outputs": [
    {
     "name": "stdout",
     "output_type": "stream",
     "text": [
      "which vehicle needs more down payment? based on the following information:\n",
      "\n",
      "\n",
      "the total cost of vehicle A is $40000 needs 30% as down payment.\n",
      "the total cost of vehicle B is $50000 needs 20% as down payment.\n",
      "Think Step-by-Step\n",
      "\n",
      "1. Vehicle B costs $50,000 and needs a down payment of 20%, or $10,000.\n",
      "2. Vehicle A costs $40,000 and needs a down payment of 30%, or $12,000.\n",
      "3. Vehicle B needs a larger down payment than Vehicle A.\n"
     ]
    }
   ],
   "source": [
    "context = \"\"\"\n",
    "the total cost of vehicle A is $40000 needs 30% as down payment.\n",
    "the total cost of vehicle B is $50000 needs 20% as down payment.\n",
    "Think Step-by-Step\n",
    "\"\"\"\n",
    "\n",
    "#context = \"\"\"\n",
    "#the total cost of vehicle A is $40000 needs 30% as down payment.\n",
    "#the total cost of vehicle B is $50000 needs 20% as down payment.\n",
    "#(Think Step-by-Step)\n",
    "\"\"\"\n",
    "prompt = f\"which vehicle needs more down payment? based on the following information:\\n\\n{context}\"\n",
    "response, latency = call_bedrock('ai21.j2-jumbo-instruct', prompt)\n",
    "print(prompt)\n",
    "print(response)"
   ]
  }
 ],
 "metadata": {
  "availableInstances": [
   {
    "_defaultOrder": 0,
    "_isFastLaunch": true,
    "category": "General purpose",
    "gpuNum": 0,
    "hideHardwareSpecs": false,
    "memoryGiB": 4,
    "name": "ml.t3.medium",
    "vcpuNum": 2
   },
   {
    "_defaultOrder": 1,
    "_isFastLaunch": false,
    "category": "General purpose",
    "gpuNum": 0,
    "hideHardwareSpecs": false,
    "memoryGiB": 8,
    "name": "ml.t3.large",
    "vcpuNum": 2
   },
   {
    "_defaultOrder": 2,
    "_isFastLaunch": false,
    "category": "General purpose",
    "gpuNum": 0,
    "hideHardwareSpecs": false,
    "memoryGiB": 16,
    "name": "ml.t3.xlarge",
    "vcpuNum": 4
   },
   {
    "_defaultOrder": 3,
    "_isFastLaunch": false,
    "category": "General purpose",
    "gpuNum": 0,
    "hideHardwareSpecs": false,
    "memoryGiB": 32,
    "name": "ml.t3.2xlarge",
    "vcpuNum": 8
   },
   {
    "_defaultOrder": 4,
    "_isFastLaunch": true,
    "category": "General purpose",
    "gpuNum": 0,
    "hideHardwareSpecs": false,
    "memoryGiB": 8,
    "name": "ml.m5.large",
    "vcpuNum": 2
   },
   {
    "_defaultOrder": 5,
    "_isFastLaunch": false,
    "category": "General purpose",
    "gpuNum": 0,
    "hideHardwareSpecs": false,
    "memoryGiB": 16,
    "name": "ml.m5.xlarge",
    "vcpuNum": 4
   },
   {
    "_defaultOrder": 6,
    "_isFastLaunch": false,
    "category": "General purpose",
    "gpuNum": 0,
    "hideHardwareSpecs": false,
    "memoryGiB": 32,
    "name": "ml.m5.2xlarge",
    "vcpuNum": 8
   },
   {
    "_defaultOrder": 7,
    "_isFastLaunch": false,
    "category": "General purpose",
    "gpuNum": 0,
    "hideHardwareSpecs": false,
    "memoryGiB": 64,
    "name": "ml.m5.4xlarge",
    "vcpuNum": 16
   },
   {
    "_defaultOrder": 8,
    "_isFastLaunch": false,
    "category": "General purpose",
    "gpuNum": 0,
    "hideHardwareSpecs": false,
    "memoryGiB": 128,
    "name": "ml.m5.8xlarge",
    "vcpuNum": 32
   },
   {
    "_defaultOrder": 9,
    "_isFastLaunch": false,
    "category": "General purpose",
    "gpuNum": 0,
    "hideHardwareSpecs": false,
    "memoryGiB": 192,
    "name": "ml.m5.12xlarge",
    "vcpuNum": 48
   },
   {
    "_defaultOrder": 10,
    "_isFastLaunch": false,
    "category": "General purpose",
    "gpuNum": 0,
    "hideHardwareSpecs": false,
    "memoryGiB": 256,
    "name": "ml.m5.16xlarge",
    "vcpuNum": 64
   },
   {
    "_defaultOrder": 11,
    "_isFastLaunch": false,
    "category": "General purpose",
    "gpuNum": 0,
    "hideHardwareSpecs": false,
    "memoryGiB": 384,
    "name": "ml.m5.24xlarge",
    "vcpuNum": 96
   },
   {
    "_defaultOrder": 12,
    "_isFastLaunch": false,
    "category": "General purpose",
    "gpuNum": 0,
    "hideHardwareSpecs": false,
    "memoryGiB": 8,
    "name": "ml.m5d.large",
    "vcpuNum": 2
   },
   {
    "_defaultOrder": 13,
    "_isFastLaunch": false,
    "category": "General purpose",
    "gpuNum": 0,
    "hideHardwareSpecs": false,
    "memoryGiB": 16,
    "name": "ml.m5d.xlarge",
    "vcpuNum": 4
   },
   {
    "_defaultOrder": 14,
    "_isFastLaunch": false,
    "category": "General purpose",
    "gpuNum": 0,
    "hideHardwareSpecs": false,
    "memoryGiB": 32,
    "name": "ml.m5d.2xlarge",
    "vcpuNum": 8
   },
   {
    "_defaultOrder": 15,
    "_isFastLaunch": false,
    "category": "General purpose",
    "gpuNum": 0,
    "hideHardwareSpecs": false,
    "memoryGiB": 64,
    "name": "ml.m5d.4xlarge",
    "vcpuNum": 16
   },
   {
    "_defaultOrder": 16,
    "_isFastLaunch": false,
    "category": "General purpose",
    "gpuNum": 0,
    "hideHardwareSpecs": false,
    "memoryGiB": 128,
    "name": "ml.m5d.8xlarge",
    "vcpuNum": 32
   },
   {
    "_defaultOrder": 17,
    "_isFastLaunch": false,
    "category": "General purpose",
    "gpuNum": 0,
    "hideHardwareSpecs": false,
    "memoryGiB": 192,
    "name": "ml.m5d.12xlarge",
    "vcpuNum": 48
   },
   {
    "_defaultOrder": 18,
    "_isFastLaunch": false,
    "category": "General purpose",
    "gpuNum": 0,
    "hideHardwareSpecs": false,
    "memoryGiB": 256,
    "name": "ml.m5d.16xlarge",
    "vcpuNum": 64
   },
   {
    "_defaultOrder": 19,
    "_isFastLaunch": false,
    "category": "General purpose",
    "gpuNum": 0,
    "hideHardwareSpecs": false,
    "memoryGiB": 384,
    "name": "ml.m5d.24xlarge",
    "vcpuNum": 96
   },
   {
    "_defaultOrder": 20,
    "_isFastLaunch": false,
    "category": "General purpose",
    "gpuNum": 0,
    "hideHardwareSpecs": true,
    "memoryGiB": 0,
    "name": "ml.geospatial.interactive",
    "supportedImageNames": [
     "sagemaker-geospatial-v1-0"
    ],
    "vcpuNum": 0
   },
   {
    "_defaultOrder": 21,
    "_isFastLaunch": true,
    "category": "Compute optimized",
    "gpuNum": 0,
    "hideHardwareSpecs": false,
    "memoryGiB": 4,
    "name": "ml.c5.large",
    "vcpuNum": 2
   },
   {
    "_defaultOrder": 22,
    "_isFastLaunch": false,
    "category": "Compute optimized",
    "gpuNum": 0,
    "hideHardwareSpecs": false,
    "memoryGiB": 8,
    "name": "ml.c5.xlarge",
    "vcpuNum": 4
   },
   {
    "_defaultOrder": 23,
    "_isFastLaunch": false,
    "category": "Compute optimized",
    "gpuNum": 0,
    "hideHardwareSpecs": false,
    "memoryGiB": 16,
    "name": "ml.c5.2xlarge",
    "vcpuNum": 8
   },
   {
    "_defaultOrder": 24,
    "_isFastLaunch": false,
    "category": "Compute optimized",
    "gpuNum": 0,
    "hideHardwareSpecs": false,
    "memoryGiB": 32,
    "name": "ml.c5.4xlarge",
    "vcpuNum": 16
   },
   {
    "_defaultOrder": 25,
    "_isFastLaunch": false,
    "category": "Compute optimized",
    "gpuNum": 0,
    "hideHardwareSpecs": false,
    "memoryGiB": 72,
    "name": "ml.c5.9xlarge",
    "vcpuNum": 36
   },
   {
    "_defaultOrder": 26,
    "_isFastLaunch": false,
    "category": "Compute optimized",
    "gpuNum": 0,
    "hideHardwareSpecs": false,
    "memoryGiB": 96,
    "name": "ml.c5.12xlarge",
    "vcpuNum": 48
   },
   {
    "_defaultOrder": 27,
    "_isFastLaunch": false,
    "category": "Compute optimized",
    "gpuNum": 0,
    "hideHardwareSpecs": false,
    "memoryGiB": 144,
    "name": "ml.c5.18xlarge",
    "vcpuNum": 72
   },
   {
    "_defaultOrder": 28,
    "_isFastLaunch": false,
    "category": "Compute optimized",
    "gpuNum": 0,
    "hideHardwareSpecs": false,
    "memoryGiB": 192,
    "name": "ml.c5.24xlarge",
    "vcpuNum": 96
   },
   {
    "_defaultOrder": 29,
    "_isFastLaunch": true,
    "category": "Accelerated computing",
    "gpuNum": 1,
    "hideHardwareSpecs": false,
    "memoryGiB": 16,
    "name": "ml.g4dn.xlarge",
    "vcpuNum": 4
   },
   {
    "_defaultOrder": 30,
    "_isFastLaunch": false,
    "category": "Accelerated computing",
    "gpuNum": 1,
    "hideHardwareSpecs": false,
    "memoryGiB": 32,
    "name": "ml.g4dn.2xlarge",
    "vcpuNum": 8
   },
   {
    "_defaultOrder": 31,
    "_isFastLaunch": false,
    "category": "Accelerated computing",
    "gpuNum": 1,
    "hideHardwareSpecs": false,
    "memoryGiB": 64,
    "name": "ml.g4dn.4xlarge",
    "vcpuNum": 16
   },
   {
    "_defaultOrder": 32,
    "_isFastLaunch": false,
    "category": "Accelerated computing",
    "gpuNum": 1,
    "hideHardwareSpecs": false,
    "memoryGiB": 128,
    "name": "ml.g4dn.8xlarge",
    "vcpuNum": 32
   },
   {
    "_defaultOrder": 33,
    "_isFastLaunch": false,
    "category": "Accelerated computing",
    "gpuNum": 4,
    "hideHardwareSpecs": false,
    "memoryGiB": 192,
    "name": "ml.g4dn.12xlarge",
    "vcpuNum": 48
   },
   {
    "_defaultOrder": 34,
    "_isFastLaunch": false,
    "category": "Accelerated computing",
    "gpuNum": 1,
    "hideHardwareSpecs": false,
    "memoryGiB": 256,
    "name": "ml.g4dn.16xlarge",
    "vcpuNum": 64
   },
   {
    "_defaultOrder": 35,
    "_isFastLaunch": false,
    "category": "Accelerated computing",
    "gpuNum": 1,
    "hideHardwareSpecs": false,
    "memoryGiB": 61,
    "name": "ml.p3.2xlarge",
    "vcpuNum": 8
   },
   {
    "_defaultOrder": 36,
    "_isFastLaunch": false,
    "category": "Accelerated computing",
    "gpuNum": 4,
    "hideHardwareSpecs": false,
    "memoryGiB": 244,
    "name": "ml.p3.8xlarge",
    "vcpuNum": 32
   },
   {
    "_defaultOrder": 37,
    "_isFastLaunch": false,
    "category": "Accelerated computing",
    "gpuNum": 8,
    "hideHardwareSpecs": false,
    "memoryGiB": 488,
    "name": "ml.p3.16xlarge",
    "vcpuNum": 64
   },
   {
    "_defaultOrder": 38,
    "_isFastLaunch": false,
    "category": "Accelerated computing",
    "gpuNum": 8,
    "hideHardwareSpecs": false,
    "memoryGiB": 768,
    "name": "ml.p3dn.24xlarge",
    "vcpuNum": 96
   },
   {
    "_defaultOrder": 39,
    "_isFastLaunch": false,
    "category": "Memory Optimized",
    "gpuNum": 0,
    "hideHardwareSpecs": false,
    "memoryGiB": 16,
    "name": "ml.r5.large",
    "vcpuNum": 2
   },
   {
    "_defaultOrder": 40,
    "_isFastLaunch": false,
    "category": "Memory Optimized",
    "gpuNum": 0,
    "hideHardwareSpecs": false,
    "memoryGiB": 32,
    "name": "ml.r5.xlarge",
    "vcpuNum": 4
   },
   {
    "_defaultOrder": 41,
    "_isFastLaunch": false,
    "category": "Memory Optimized",
    "gpuNum": 0,
    "hideHardwareSpecs": false,
    "memoryGiB": 64,
    "name": "ml.r5.2xlarge",
    "vcpuNum": 8
   },
   {
    "_defaultOrder": 42,
    "_isFastLaunch": false,
    "category": "Memory Optimized",
    "gpuNum": 0,
    "hideHardwareSpecs": false,
    "memoryGiB": 128,
    "name": "ml.r5.4xlarge",
    "vcpuNum": 16
   },
   {
    "_defaultOrder": 43,
    "_isFastLaunch": false,
    "category": "Memory Optimized",
    "gpuNum": 0,
    "hideHardwareSpecs": false,
    "memoryGiB": 256,
    "name": "ml.r5.8xlarge",
    "vcpuNum": 32
   },
   {
    "_defaultOrder": 44,
    "_isFastLaunch": false,
    "category": "Memory Optimized",
    "gpuNum": 0,
    "hideHardwareSpecs": false,
    "memoryGiB": 384,
    "name": "ml.r5.12xlarge",
    "vcpuNum": 48
   },
   {
    "_defaultOrder": 45,
    "_isFastLaunch": false,
    "category": "Memory Optimized",
    "gpuNum": 0,
    "hideHardwareSpecs": false,
    "memoryGiB": 512,
    "name": "ml.r5.16xlarge",
    "vcpuNum": 64
   },
   {
    "_defaultOrder": 46,
    "_isFastLaunch": false,
    "category": "Memory Optimized",
    "gpuNum": 0,
    "hideHardwareSpecs": false,
    "memoryGiB": 768,
    "name": "ml.r5.24xlarge",
    "vcpuNum": 96
   },
   {
    "_defaultOrder": 47,
    "_isFastLaunch": false,
    "category": "Accelerated computing",
    "gpuNum": 1,
    "hideHardwareSpecs": false,
    "memoryGiB": 16,
    "name": "ml.g5.xlarge",
    "vcpuNum": 4
   },
   {
    "_defaultOrder": 48,
    "_isFastLaunch": false,
    "category": "Accelerated computing",
    "gpuNum": 1,
    "hideHardwareSpecs": false,
    "memoryGiB": 32,
    "name": "ml.g5.2xlarge",
    "vcpuNum": 8
   },
   {
    "_defaultOrder": 49,
    "_isFastLaunch": false,
    "category": "Accelerated computing",
    "gpuNum": 1,
    "hideHardwareSpecs": false,
    "memoryGiB": 64,
    "name": "ml.g5.4xlarge",
    "vcpuNum": 16
   },
   {
    "_defaultOrder": 50,
    "_isFastLaunch": false,
    "category": "Accelerated computing",
    "gpuNum": 1,
    "hideHardwareSpecs": false,
    "memoryGiB": 128,
    "name": "ml.g5.8xlarge",
    "vcpuNum": 32
   },
   {
    "_defaultOrder": 51,
    "_isFastLaunch": false,
    "category": "Accelerated computing",
    "gpuNum": 1,
    "hideHardwareSpecs": false,
    "memoryGiB": 256,
    "name": "ml.g5.16xlarge",
    "vcpuNum": 64
   },
   {
    "_defaultOrder": 52,
    "_isFastLaunch": false,
    "category": "Accelerated computing",
    "gpuNum": 4,
    "hideHardwareSpecs": false,
    "memoryGiB": 192,
    "name": "ml.g5.12xlarge",
    "vcpuNum": 48
   },
   {
    "_defaultOrder": 53,
    "_isFastLaunch": false,
    "category": "Accelerated computing",
    "gpuNum": 4,
    "hideHardwareSpecs": false,
    "memoryGiB": 384,
    "name": "ml.g5.24xlarge",
    "vcpuNum": 96
   },
   {
    "_defaultOrder": 54,
    "_isFastLaunch": false,
    "category": "Accelerated computing",
    "gpuNum": 8,
    "hideHardwareSpecs": false,
    "memoryGiB": 768,
    "name": "ml.g5.48xlarge",
    "vcpuNum": 192
   },
   {
    "_defaultOrder": 55,
    "_isFastLaunch": false,
    "category": "Accelerated computing",
    "gpuNum": 8,
    "hideHardwareSpecs": false,
    "memoryGiB": 1152,
    "name": "ml.p4d.24xlarge",
    "vcpuNum": 96
   },
   {
    "_defaultOrder": 56,
    "_isFastLaunch": false,
    "category": "Accelerated computing",
    "gpuNum": 8,
    "hideHardwareSpecs": false,
    "memoryGiB": 1152,
    "name": "ml.p4de.24xlarge",
    "vcpuNum": 96
   }
  ],
  "instance_type": "ml.t3.medium",
  "kernelspec": {
   "display_name": "conda_pytorch_p39",
   "language": "python",
   "name": "conda_pytorch_p39"
  },
  "language_info": {
   "codemirror_mode": {
    "name": "ipython",
    "version": 3
   },
   "file_extension": ".py",
   "mimetype": "text/x-python",
   "name": "python",
   "nbconvert_exporter": "python",
   "pygments_lexer": "ipython3",
   "version": "3.9.15"
  }
 },
 "nbformat": 4,
 "nbformat_minor": 5
}
